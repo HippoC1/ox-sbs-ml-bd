{
 "cells": [
  {
   "cell_type": "markdown",
   "metadata": {
    "slideshow": {
     "slide_type": "slide"
    }
   },
   "source": [
    "# Advances in Machine Learning with Big Data\n",
    "\n",
    "### Dr Jeremy Large and Dr Matthias Qian\n",
    "#### jeremy.large@economics.ox.ac.uk\n",
    "#### matthias.qian@economics.ox.ac.uk\n",
    "### Trinity 2020\n",
    "\n",
    "&#169; Jeremy Large ; shared under [CC BY-NC-ND 4.0](https://creativecommons.org/licenses/by-nc-nd/4.0/)"
   ]
  },
  {
   "cell_type": "markdown",
   "metadata": {
    "slideshow": {
     "slide_type": "slide"
    }
   },
   "source": [
    "## Contents Weeks 1-4:\n",
    "\n",
    "1. Introducing this course's dataset\n",
    "\n",
    "1. Being an econometrician _and_ a data scientist\n",
    "\n",
    "1. Data abundance and 'jaggedness' -> regularization and the problem of overfit\n",
    "\n",
    "1. Regularization through resampling methods (bootstrap etc.)\n",
    "\n",
    "1. Regularization through predictor/feature selection (Lasso etc.)\n",
    "\n",
    "1. Moving from linear regression to the perceptron\n",
    "\n",
    "1. Moving from linear regression to the random forest (and similar)"
   ]
  },
  {
   "cell_type": "markdown",
   "metadata": {},
   "source": [
    "But first: this is a `jupyter notebook` which implements `python`. So as always, we need to prepare it ... :"
   ]
  },
  {
   "cell_type": "markdown",
   "metadata": {
    "slideshow": {
     "slide_type": "slide"
    }
   },
   "source": [
    "## Prepare our notebook for our purposes:\n",
    "\n",
    "(i.e. \"write boilerplate\")"
   ]
  },
  {
   "cell_type": "code",
   "execution_count": 1,
   "metadata": {},
   "outputs": [
    {
     "name": "stdout",
     "output_type": "stream",
     "text": [
      "Populating the interactive namespace from numpy and matplotlib\n"
     ]
    }
   ],
   "source": [
    "# make the notebook pick it up,\n",
    "# if I change the functions in my libraries behind the scenes:\n",
    "%load_ext autoreload\n",
    "%autoreload 2\n",
    "\n",
    "# prepare to present diagrams in this notebook:\n",
    "%pylab inline"
   ]
  },
  {
   "cell_type": "markdown",
   "metadata": {},
   "source": [
    "#### import some core python modules:"
   ]
  },
  {
   "cell_type": "code",
   "execution_count": 2,
   "metadata": {
    "slideshow": {
     "slide_type": "-"
    }
   },
   "outputs": [],
   "source": [
    "import sys, os\n",
    "\n",
    "# ... determine how I would like the python code to **log** its progress:\n",
    "import logging\n",
    "logging.basicConfig(format='%(asctime)s %(levelname)s:%(message)s', level=logging.INFO)"
   ]
  },
  {
   "cell_type": "markdown",
   "metadata": {
    "slideshow": {
     "slide_type": "subslide"
    }
   },
   "source": [
    "#### ... classic python libraries that are suitable and commonly used for machine learning work:"
   ]
  },
  {
   "cell_type": "code",
   "execution_count": 3,
   "metadata": {
    "slideshow": {
     "slide_type": "-"
    }
   },
   "outputs": [],
   "source": [
    "import numpy as np\n",
    "import pandas as pd\n",
    "import sklearn   # scikit-learn\n",
    "\n",
    "# and later:\n",
    "# import keras ## (which deploys tensorflow)"
   ]
  },
  {
   "cell_type": "markdown",
   "metadata": {
    "slideshow": {
     "slide_type": "subslide"
    }
   },
   "source": [
    "#### ... now I tell the code where to look for the libraries I wrote for the course, as well as where to dump data:"
   ]
  },
  {
   "cell_type": "code",
   "execution_count": 4,
   "metadata": {
    "slideshow": {
     "slide_type": "-"
    }
   },
   "outputs": [],
   "source": [
    "# point at library; I need some lessons on doing good PYTHONPATHs:\n",
    "REPO_DIR = os.path.dirname(os.getcwd())\n",
    "\n",
    "UCI_LIB = os.path.join(REPO_DIR, 'lib')\n",
    "UCI_DATA = os.path.join(REPO_DIR, 'data') \n",
    "\n",
    "sys.path.append(UCI_LIB)"
   ]
  },
  {
   "cell_type": "code",
   "execution_count": 5,
   "metadata": {
    "slideshow": {
     "slide_type": "-"
    }
   },
   "outputs": [],
   "source": [
    "UCI_DATA_FILE = os.path.join(UCI_DATA, 'raw.csv') "
   ]
  },
  {
   "cell_type": "markdown",
   "metadata": {
    "slideshow": {
     "slide_type": "-"
    }
   },
   "source": [
    "#### ... among other things we just created a path name where we can later save a file:"
   ]
  },
  {
   "cell_type": "code",
   "execution_count": 6,
   "metadata": {
    "slideshow": {
     "slide_type": "-"
    }
   },
   "outputs": [
    {
     "name": "stdout",
     "output_type": "stream",
     "text": [
      "C:\\Users\\Jeremy Large\\Documents\\professional\\Oxford Work\\ML Lectures\\ox-sbs-ml-bd\\data\\raw.csv\n"
     ]
    }
   ],
   "source": [
    "print(UCI_DATA_FILE)"
   ]
  },
  {
   "cell_type": "markdown",
   "metadata": {
    "slideshow": {
     "slide_type": "subslide"
    }
   },
   "source": [
    "when instructed to `import`, which places is this notebook going to look?\n",
    "\n",
    "(and in which order?)"
   ]
  },
  {
   "cell_type": "code",
   "execution_count": 7,
   "metadata": {},
   "outputs": [
    {
     "name": "stdout",
     "output_type": "stream",
     "text": [
      "\n",
      "c:\\programdata\\anaconda\\envs\\keras_20200302\\python36.zip\n",
      "c:\\programdata\\anaconda\\envs\\keras_20200302\\DLLs\n",
      "c:\\programdata\\anaconda\\envs\\keras_20200302\\lib\n",
      "c:\\programdata\\anaconda\\envs\\keras_20200302\n",
      "c:\\programdata\\anaconda\\envs\\keras_20200302\\lib\\site-packages\n",
      "c:\\programdata\\anaconda\\envs\\keras_20200302\\lib\\site-packages\\IPython\\extensions\n",
      "C:\\Users\\Jeremy Large\\.ipython\n",
      "C:\\Users\\Jeremy Large\\Documents\\professional\\Oxford Work\\ML Lectures\\ox-sbs-ml-bd\\lib\n"
     ]
    }
   ],
   "source": [
    "for a in sys.path:\n",
    "    print(a)"
   ]
  },
  {
   "cell_type": "markdown",
   "metadata": {
    "slideshow": {
     "slide_type": "subslide"
    }
   },
   "source": [
    "... now that `sys.path` contains the directories to look through, I can tell the code to `import` the modules I wrote for this course:"
   ]
  },
  {
   "cell_type": "code",
   "execution_count": 8,
   "metadata": {
    "slideshow": {
     "slide_type": "-"
    }
   },
   "outputs": [],
   "source": [
    "from uci_retail_data import stock_codes \n",
    "# gives us: is_invalid, customer_code, stock_code_to_num, invalid_series, invoice_df\n",
    "\n",
    "from uci_retail_data import uci_files \n",
    "# gives us load_uci_file, REMOTE_FILE, SHEET_NAME"
   ]
  },
  {
   "cell_type": "markdown",
   "metadata": {
    "slideshow": {
     "slide_type": "-"
    }
   },
   "source": [
    "... for example, here's one of the variables we just went and obtained:"
   ]
  },
  {
   "cell_type": "code",
   "execution_count": 9,
   "metadata": {
    "slideshow": {
     "slide_type": "-"
    }
   },
   "outputs": [
    {
     "data": {
      "text/plain": [
       "'https://archive.ics.uci.edu/ml/machine-learning-databases/00502/online_retail_II.xlsx'"
      ]
     },
     "execution_count": 9,
     "metadata": {},
     "output_type": "execute_result"
    }
   ],
   "source": [
    "uci_files.REMOTE_FILE"
   ]
  },
  {
   "cell_type": "markdown",
   "metadata": {},
   "source": [
    "(https://www.uci.edu is University of California, Irvine - providers of our dataset)"
   ]
  },
  {
   "cell_type": "markdown",
   "metadata": {
    "slideshow": {
     "slide_type": "slide"
    }
   },
   "source": [
    "## Overview of the course"
   ]
  },
  {
   "cell_type": "markdown",
   "metadata": {},
   "source": [
    "### About the Lecturers\n",
    "\n",
    " * *Jeremy Large* is a Fellow in Economics at St. Hugh’s College, and has worked in quantitative portfolio management for over a decade. \n",
    " \n",
    "    * TT Weeks 1 to 4\n",
    " \n",
    "    * sets a group assignment due in Week 5\n",
    "\n",
    " * *Matthias Qian* is a Departmental Lecturer at the Economics Department. He is an AI and Big Data Economist with a research portfolio in labour, financial and property markets. \n",
    " \n",
    "    * TT Weeks 6 to 9\n",
    "    \n",
    "    * sets an individual assignment due in Week 10"
   ]
  },
  {
   "cell_type": "markdown",
   "metadata": {
    "slideshow": {
     "slide_type": "subslide"
    }
   },
   "source": [
    "### Our objectives: we want you:\n",
    "\n",
    "* to analyse/critique our **code** with confidence, and to write your own\n",
    " \n",
    "* to be conversant with important **concepts** in machine learning\n",
    "\n"
   ]
  },
  {
   "cell_type": "markdown",
   "metadata": {
    "slideshow": {
     "slide_type": "fragment"
    }
   },
   "source": [
    "* to **navigate** easily the excellent online material in this area:\n",
    "\n",
    "     * many outstanding MOOCs (e.g. Andrew Ng, Stanford)\n",
    "     \n",
    "     * https://stackoverflow.com/\n",
    "     \n",
    "     * Docstrings and Readmes for open source libraries, e.g. https://scikit-learn.org   ,  https://keras.io/\n",
    "     \n",
    "     * ..."
   ]
  },
  {
   "cell_type": "markdown",
   "metadata": {
    "slideshow": {
     "slide_type": "fragment"
    }
   },
   "source": [
    "* to be able to **develop yourselves** in the future, in the directions that you choose"
   ]
  },
  {
   "cell_type": "markdown",
   "metadata": {
    "slideshow": {
     "slide_type": "subslide"
    }
   },
   "source": [
    "### Lecture plan:\n",
    "\n",
    "#### We're together in a remote classroom setting, from 13:30pm to 16:45pm UK on Tuesdays\n",
    "\n",
    "* 13:30 to 14:00  --  session 1\n",
    "   * followed by individual task\n",
    "\n",
    "\n",
    "* 14:15 to 14:45  --  session 2\n",
    "   * followed by break\n",
    "   \n",
    "   \n",
    "* 15:00 to 15:30  --  session 3\n",
    "   * followed by individual task\n",
    "   \n",
    "   \n",
    "* 15:45 to 16:15  --  session 4"
   ]
  },
  {
   "cell_type": "markdown",
   "metadata": {
    "slideshow": {
     "slide_type": "subslide"
    }
   },
   "source": [
    "### What we expect you to know already:\n",
    "\n",
    "You should be **on top of core econometrics** classes in the MFE. We also expect you to have **facility with python**: for example, nothing in these should look too daunting: \n",
    "* https://www.kevinsheppard.com/teaching/python/course/\n",
    "* https://www.kevinsheppard.com/teaching/python/companion-course/"
   ]
  },
  {
   "cell_type": "markdown",
   "metadata": {
    "slideshow": {
     "slide_type": "fragment"
    }
   },
   "source": [
    "Furthermore, you should have **python up-and-running** on your desktop/laptop.\n",
    "\n",
    "* as a start, you will need [**these python libraries**](https://github.com/jeremy-large/ox-sbs-ml-bd/blob/master/binder/requirements.txt) available locally "
   ]
  },
  {
   "cell_type": "markdown",
   "metadata": {
    "slideshow": {
     "slide_type": "fragment"
    }
   },
   "source": [
    "* if you haven't yet set up your personal python environment, you can still implement this notebook at the **MyBinder** button on my **github** page for the course: \n",
    "   * https://github.com/jeremy-large/ox-sbs-ml-bd\n",
    "   * but be warned ... if you leave your MyBinder instance of our environment alone for a few minutes, the system will decommission it and you may lose work\n",
    " "
   ]
  },
  {
   "cell_type": "markdown",
   "metadata": {
    "slideshow": {
     "slide_type": "subslide"
    }
   },
   "source": [
    "### Textbooks:\n",
    "\n",
    "While not mandatory reading, the below textbooks are valuable background.\n",
    "\n",
    "Focus on ensuring you can **implement, adjust and understand these `jupyter notebooks`**, the text books are supplemental\n",
    "\n",
    "* Weeks 1-4:\n",
    "   * James, Witten, Hastie, Tibshirani: *An Introduction to Statistical Learning*\n",
    "   * Hastie, Tibshirani, Friedman: *The Elements of Statistical Learning*\n",
    "\n",
    "\n",
    "* Weeks 6-9:\n",
    "   * Chollet: *Deep learning with Python*\n",
    "   * Lane, Howard, Hapke: *Natural Language Processing in Action*\n"
   ]
  },
  {
   "cell_type": "markdown",
   "metadata": {
    "slideshow": {
     "slide_type": "subslide"
    }
   },
   "source": [
    "### Assessment:\n",
    "\n",
    "#### What will be in the assessments?\n",
    "\n",
    "* If you can **implement, adjust and understand the `jupyter notebooks`** comprising these lectures, you will be well placed to excel in both the group, and the individual, assignments\n",
    "\n",
    "#### How and when will the first of these take place?\n",
    "\n",
    "* Remotely, submitting via Oxford's SAMS system.\n",
    "\n",
    "* Will be set in my last lecture, Tuesday of 4th week\n",
    "\n",
    "* Solutions due by noon UK on Friday of 5th week\n",
    "\n",
    "* -> Please send to me any suggested team groupings (3 in a group), by the end of Week 1.\n"
   ]
  },
  {
   "cell_type": "markdown",
   "metadata": {
    "slideshow": {
     "slide_type": "slide"
    }
   },
   "source": [
    "## 1. Introducing the dataset"
   ]
  },
  {
   "cell_type": "code",
   "execution_count": 10,
   "metadata": {
    "slideshow": {
     "slide_type": "-"
    }
   },
   "outputs": [
    {
     "name": "stdout",
     "output_type": "stream",
     "text": [
      "https://archive.ics.uci.edu/ml/machine-learning-databases/00502/online_retail_II.xlsx\n",
      "Year 2009-2010\n"
     ]
    }
   ],
   "source": [
    "print(uci_files.REMOTE_FILE)\n",
    "print(uci_files.SHEET_NAME)"
   ]
  },
  {
   "cell_type": "code",
   "execution_count": 11,
   "metadata": {
    "slideshow": {
     "slide_type": "fragment"
    }
   },
   "outputs": [
    {
     "name": "stderr",
     "output_type": "stream",
     "text": [
      "2020-03-31 08:29:32,029 INFO:Loading C:\\Users\\Jeremy Large\\Documents\\professional\\Oxford Work\\ML Lectures\\ox-sbs-ml-bd\\data\\raw.csv , sheet Year 2009-2010\n",
      "2020-03-31 08:29:36,373 INFO:Loaded C:\\Users\\Jeremy Large\\Documents\\professional\\Oxford Work\\ML Lectures\\ox-sbs-ml-bd\\data\\raw.csv , sheet number one, obviously\n"
     ]
    }
   ],
   "source": [
    "if os.path.exists(UCI_DATA_FILE):\n",
    "    df = uci_files.load_uci_file(UCI_DATA_FILE, uci_files.SHEET_NAME)\n",
    "else:\n",
    "    df = uci_files.load_uci_file(uci_files.REMOTE_FILE, uci_files.SHEET_NAME)\n",
    "    df.to_csv(UCI_DATA_FILE)\n",
    "    logging.info('Saving a copy to ' + UCI_DATA_FILE)"
   ]
  },
  {
   "cell_type": "code",
   "execution_count": 14,
   "metadata": {},
   "outputs": [
    {
     "data": {
      "text/plain": [
       "pandas.core.frame.DataFrame"
      ]
     },
     "execution_count": 14,
     "metadata": {},
     "output_type": "execute_result"
    }
   ],
   "source": [
    "type(df)"
   ]
  },
  {
   "cell_type": "markdown",
   "metadata": {},
   "source": [
    "[recorded lessons 19 and 20 here](https://www.kevinsheppard.com/teaching/python/course/)"
   ]
  },
  {
   "cell_type": "markdown",
   "metadata": {
    "slideshow": {
     "slide_type": "subslide"
    }
   },
   "source": [
    "#### Lets inspect the first few rows of this file:"
   ]
  },
  {
   "cell_type": "code",
   "execution_count": 12,
   "metadata": {
    "slideshow": {
     "slide_type": "-"
    }
   },
   "outputs": [
    {
     "data": {
      "text/html": [
       "<div>\n",
       "<style>\n",
       "    .dataframe thead tr:only-child th {\n",
       "        text-align: right;\n",
       "    }\n",
       "\n",
       "    .dataframe thead th {\n",
       "        text-align: left;\n",
       "    }\n",
       "\n",
       "    .dataframe tbody tr th {\n",
       "        vertical-align: top;\n",
       "    }\n",
       "</style>\n",
       "<table border=\"1\" class=\"dataframe\">\n",
       "  <thead>\n",
       "    <tr style=\"text-align: right;\">\n",
       "      <th></th>\n",
       "      <th>Invoice</th>\n",
       "      <th>StockCode</th>\n",
       "      <th>Description</th>\n",
       "      <th>Quantity</th>\n",
       "      <th>InvoiceDate</th>\n",
       "      <th>Price</th>\n",
       "      <th>Customer ID</th>\n",
       "      <th>Country</th>\n",
       "    </tr>\n",
       "  </thead>\n",
       "  <tbody>\n",
       "    <tr>\n",
       "      <th>0</th>\n",
       "      <td>489434</td>\n",
       "      <td>85048</td>\n",
       "      <td>15CM CHRISTMAS GLASS BALL 20 LIGHTS</td>\n",
       "      <td>12</td>\n",
       "      <td>2009-12-01 07:45:00</td>\n",
       "      <td>6.95</td>\n",
       "      <td>13085.0</td>\n",
       "      <td>United Kingdom</td>\n",
       "    </tr>\n",
       "    <tr>\n",
       "      <th>1</th>\n",
       "      <td>489434</td>\n",
       "      <td>79323P</td>\n",
       "      <td>PINK CHERRY LIGHTS</td>\n",
       "      <td>12</td>\n",
       "      <td>2009-12-01 07:45:00</td>\n",
       "      <td>6.75</td>\n",
       "      <td>13085.0</td>\n",
       "      <td>United Kingdom</td>\n",
       "    </tr>\n",
       "    <tr>\n",
       "      <th>2</th>\n",
       "      <td>489434</td>\n",
       "      <td>79323W</td>\n",
       "      <td>WHITE CHERRY LIGHTS</td>\n",
       "      <td>12</td>\n",
       "      <td>2009-12-01 07:45:00</td>\n",
       "      <td>6.75</td>\n",
       "      <td>13085.0</td>\n",
       "      <td>United Kingdom</td>\n",
       "    </tr>\n",
       "    <tr>\n",
       "      <th>3</th>\n",
       "      <td>489434</td>\n",
       "      <td>22041</td>\n",
       "      <td>RECORD FRAME 7\" SINGLE SIZE</td>\n",
       "      <td>48</td>\n",
       "      <td>2009-12-01 07:45:00</td>\n",
       "      <td>2.10</td>\n",
       "      <td>13085.0</td>\n",
       "      <td>United Kingdom</td>\n",
       "    </tr>\n",
       "    <tr>\n",
       "      <th>4</th>\n",
       "      <td>489434</td>\n",
       "      <td>21232</td>\n",
       "      <td>STRAWBERRY CERAMIC TRINKET BOX</td>\n",
       "      <td>24</td>\n",
       "      <td>2009-12-01 07:45:00</td>\n",
       "      <td>1.25</td>\n",
       "      <td>13085.0</td>\n",
       "      <td>United Kingdom</td>\n",
       "    </tr>\n",
       "  </tbody>\n",
       "</table>\n",
       "</div>"
      ],
      "text/plain": [
       "  Invoice StockCode                          Description  Quantity  \\\n",
       "0  489434     85048  15CM CHRISTMAS GLASS BALL 20 LIGHTS        12   \n",
       "1  489434    79323P                   PINK CHERRY LIGHTS        12   \n",
       "2  489434    79323W                  WHITE CHERRY LIGHTS        12   \n",
       "3  489434     22041         RECORD FRAME 7\" SINGLE SIZE         48   \n",
       "4  489434     21232       STRAWBERRY CERAMIC TRINKET BOX        24   \n",
       "\n",
       "          InvoiceDate  Price  Customer ID         Country  \n",
       "0 2009-12-01 07:45:00   6.95      13085.0  United Kingdom  \n",
       "1 2009-12-01 07:45:00   6.75      13085.0  United Kingdom  \n",
       "2 2009-12-01 07:45:00   6.75      13085.0  United Kingdom  \n",
       "3 2009-12-01 07:45:00   2.10      13085.0  United Kingdom  \n",
       "4 2009-12-01 07:45:00   1.25      13085.0  United Kingdom  "
      ]
     },
     "execution_count": 12,
     "metadata": {},
     "output_type": "execute_result"
    }
   ],
   "source": [
    "df.head()"
   ]
  },
  {
   "cell_type": "markdown",
   "metadata": {
    "slideshow": {
     "slide_type": "subslide"
    }
   },
   "source": [
    "... and now lets look at the last couple of lines:"
   ]
  },
  {
   "cell_type": "code",
   "execution_count": 13,
   "metadata": {},
   "outputs": [
    {
     "data": {
      "text/html": [
       "<div>\n",
       "<style>\n",
       "    .dataframe thead tr:only-child th {\n",
       "        text-align: right;\n",
       "    }\n",
       "\n",
       "    .dataframe thead th {\n",
       "        text-align: left;\n",
       "    }\n",
       "\n",
       "    .dataframe tbody tr th {\n",
       "        vertical-align: top;\n",
       "    }\n",
       "</style>\n",
       "<table border=\"1\" class=\"dataframe\">\n",
       "  <thead>\n",
       "    <tr style=\"text-align: right;\">\n",
       "      <th></th>\n",
       "      <th>Invoice</th>\n",
       "      <th>StockCode</th>\n",
       "      <th>Description</th>\n",
       "      <th>Quantity</th>\n",
       "      <th>InvoiceDate</th>\n",
       "      <th>Price</th>\n",
       "      <th>Customer ID</th>\n",
       "      <th>Country</th>\n",
       "    </tr>\n",
       "  </thead>\n",
       "  <tbody>\n",
       "    <tr>\n",
       "      <th>525459</th>\n",
       "      <td>538171</td>\n",
       "      <td>20970</td>\n",
       "      <td>PINK FLORAL FELTCRAFT SHOULDER BAG</td>\n",
       "      <td>2</td>\n",
       "      <td>2010-12-09 20:01:00</td>\n",
       "      <td>3.75</td>\n",
       "      <td>17530.0</td>\n",
       "      <td>United Kingdom</td>\n",
       "    </tr>\n",
       "    <tr>\n",
       "      <th>525460</th>\n",
       "      <td>538171</td>\n",
       "      <td>21931</td>\n",
       "      <td>JUMBO STORAGE BAG SUKI</td>\n",
       "      <td>2</td>\n",
       "      <td>2010-12-09 20:01:00</td>\n",
       "      <td>1.95</td>\n",
       "      <td>17530.0</td>\n",
       "      <td>United Kingdom</td>\n",
       "    </tr>\n",
       "  </tbody>\n",
       "</table>\n",
       "</div>"
      ],
      "text/plain": [
       "       Invoice StockCode                         Description  Quantity  \\\n",
       "525459  538171     20970  PINK FLORAL FELTCRAFT SHOULDER BAG         2   \n",
       "525460  538171     21931              JUMBO STORAGE BAG SUKI         2   \n",
       "\n",
       "               InvoiceDate  Price  Customer ID         Country  \n",
       "525459 2010-12-09 20:01:00   3.75      17530.0  United Kingdom  \n",
       "525460 2010-12-09 20:01:00   1.95      17530.0  United Kingdom  "
      ]
     },
     "execution_count": 13,
     "metadata": {},
     "output_type": "execute_result"
    }
   ],
   "source": [
    "df.tail(2)"
   ]
  },
  {
   "cell_type": "markdown",
   "metadata": {},
   "source": [
    "OK, so that's 525,460 datapoints, each of which represents the purchase of an item in an online store. Turns out this store was in the UK.\n",
    "\n",
    "  * ... from start of December 2009 until mid December 2010."
   ]
  },
  {
   "cell_type": "markdown",
   "metadata": {
    "slideshow": {
     "slide_type": "subslide"
    }
   },
   "source": [
    "Another way of looking at the dataset: ( `pandas.DataFrame.info()` )"
   ]
  },
  {
   "cell_type": "code",
   "execution_count": 15,
   "metadata": {},
   "outputs": [
    {
     "name": "stdout",
     "output_type": "stream",
     "text": [
      "<class 'pandas.core.frame.DataFrame'>\n",
      "RangeIndex: 525461 entries, 0 to 525460\n",
      "Data columns (total 8 columns):\n",
      "Invoice        525461 non-null object\n",
      "StockCode      525461 non-null object\n",
      "Description    522533 non-null object\n",
      "Quantity       525461 non-null int64\n",
      "InvoiceDate    525461 non-null datetime64[ns]\n",
      "Price          525461 non-null float64\n",
      "Customer ID    417534 non-null float64\n",
      "Country        525461 non-null object\n",
      "dtypes: datetime64[ns](1), float64(2), int64(1), object(4)\n",
      "memory usage: 32.1+ MB\n"
     ]
    }
   ],
   "source": [
    "df.info()"
   ]
  },
  {
   "cell_type": "markdown",
   "metadata": {
    "slideshow": {
     "slide_type": "subslide"
    }
   },
   "source": [
    "... and a look at the numerical columns: ( `pandas.DataFrame.describe()` )"
   ]
  },
  {
   "cell_type": "code",
   "execution_count": 16,
   "metadata": {
    "slideshow": {
     "slide_type": "-"
    }
   },
   "outputs": [
    {
     "data": {
      "text/html": [
       "<div>\n",
       "<style>\n",
       "    .dataframe thead tr:only-child th {\n",
       "        text-align: right;\n",
       "    }\n",
       "\n",
       "    .dataframe thead th {\n",
       "        text-align: left;\n",
       "    }\n",
       "\n",
       "    .dataframe tbody tr th {\n",
       "        vertical-align: top;\n",
       "    }\n",
       "</style>\n",
       "<table border=\"1\" class=\"dataframe\">\n",
       "  <thead>\n",
       "    <tr style=\"text-align: right;\">\n",
       "      <th></th>\n",
       "      <th>Quantity</th>\n",
       "      <th>Price</th>\n",
       "      <th>Customer ID</th>\n",
       "    </tr>\n",
       "  </thead>\n",
       "  <tbody>\n",
       "    <tr>\n",
       "      <th>count</th>\n",
       "      <td>525461.000000</td>\n",
       "      <td>525461.000000</td>\n",
       "      <td>417534.000000</td>\n",
       "    </tr>\n",
       "    <tr>\n",
       "      <th>mean</th>\n",
       "      <td>10.337667</td>\n",
       "      <td>4.688834</td>\n",
       "      <td>15360.645478</td>\n",
       "    </tr>\n",
       "    <tr>\n",
       "      <th>std</th>\n",
       "      <td>107.424110</td>\n",
       "      <td>146.126914</td>\n",
       "      <td>1680.811316</td>\n",
       "    </tr>\n",
       "    <tr>\n",
       "      <th>min</th>\n",
       "      <td>-9600.000000</td>\n",
       "      <td>-53594.360000</td>\n",
       "      <td>12346.000000</td>\n",
       "    </tr>\n",
       "    <tr>\n",
       "      <th>25%</th>\n",
       "      <td>1.000000</td>\n",
       "      <td>1.250000</td>\n",
       "      <td>13983.000000</td>\n",
       "    </tr>\n",
       "    <tr>\n",
       "      <th>50%</th>\n",
       "      <td>3.000000</td>\n",
       "      <td>2.100000</td>\n",
       "      <td>15311.000000</td>\n",
       "    </tr>\n",
       "    <tr>\n",
       "      <th>75%</th>\n",
       "      <td>10.000000</td>\n",
       "      <td>4.210000</td>\n",
       "      <td>16799.000000</td>\n",
       "    </tr>\n",
       "    <tr>\n",
       "      <th>max</th>\n",
       "      <td>19152.000000</td>\n",
       "      <td>25111.090000</td>\n",
       "      <td>18287.000000</td>\n",
       "    </tr>\n",
       "  </tbody>\n",
       "</table>\n",
       "</div>"
      ],
      "text/plain": [
       "            Quantity          Price    Customer ID\n",
       "count  525461.000000  525461.000000  417534.000000\n",
       "mean       10.337667       4.688834   15360.645478\n",
       "std       107.424110     146.126914    1680.811316\n",
       "min     -9600.000000  -53594.360000   12346.000000\n",
       "25%         1.000000       1.250000   13983.000000\n",
       "50%         3.000000       2.100000   15311.000000\n",
       "75%        10.000000       4.210000   16799.000000\n",
       "max     19152.000000   25111.090000   18287.000000"
      ]
     },
     "execution_count": 16,
     "metadata": {},
     "output_type": "execute_result"
    }
   ],
   "source": [
    "df.describe()"
   ]
  },
  {
   "cell_type": "markdown",
   "metadata": {
    "slideshow": {
     "slide_type": "-"
    }
   },
   "source": [
    "... half a million rows is _not that much_ these days, but will be a good illustration for this course."
   ]
  },
  {
   "cell_type": "markdown",
   "metadata": {
    "slideshow": {
     "slide_type": "slide"
    }
   },
   "source": [
    "### First piece of bespoke code:\n",
    "\n",
    "I spent time removing lines from the data that I found irrelevant or statistically misleading.\n",
    "\n",
    "* This means: I wrote a function and put it in a library. "
   ]
  },
  {
   "cell_type": "code",
   "execution_count": 23,
   "metadata": {},
   "outputs": [],
   "source": [
    "# Here, I call the irrelevant lines 'invalids':\n",
    "invalids = stock_codes.invalid_series(df)"
   ]
  },
  {
   "cell_type": "markdown",
   "metadata": {
    "slideshow": {
     "slide_type": "subslide"
    }
   },
   "source": [
    "Next: a refresher of basic `pandas` syntax:"
   ]
  },
  {
   "cell_type": "code",
   "execution_count": 18,
   "metadata": {
    "slideshow": {
     "slide_type": "-"
    }
   },
   "outputs": [
    {
     "data": {
      "text/html": [
       "<div>\n",
       "<style>\n",
       "    .dataframe thead tr:only-child th {\n",
       "        text-align: right;\n",
       "    }\n",
       "\n",
       "    .dataframe thead th {\n",
       "        text-align: left;\n",
       "    }\n",
       "\n",
       "    .dataframe tbody tr th {\n",
       "        vertical-align: top;\n",
       "    }\n",
       "</style>\n",
       "<table border=\"1\" class=\"dataframe\">\n",
       "  <thead>\n",
       "    <tr style=\"text-align: right;\">\n",
       "      <th></th>\n",
       "      <th>Invoice</th>\n",
       "      <th>StockCode</th>\n",
       "      <th>Description</th>\n",
       "      <th>Quantity</th>\n",
       "      <th>InvoiceDate</th>\n",
       "      <th>Price</th>\n",
       "      <th>Customer ID</th>\n",
       "      <th>Country</th>\n",
       "    </tr>\n",
       "  </thead>\n",
       "  <tbody>\n",
       "    <tr>\n",
       "      <th>89</th>\n",
       "      <td>489439</td>\n",
       "      <td>POST</td>\n",
       "      <td>POSTAGE</td>\n",
       "      <td>3</td>\n",
       "      <td>2009-12-01 09:28:00</td>\n",
       "      <td>18.00</td>\n",
       "      <td>12682.0</td>\n",
       "      <td>France</td>\n",
       "    </tr>\n",
       "    <tr>\n",
       "      <th>126</th>\n",
       "      <td>489444</td>\n",
       "      <td>POST</td>\n",
       "      <td>POSTAGE</td>\n",
       "      <td>1</td>\n",
       "      <td>2009-12-01 09:55:00</td>\n",
       "      <td>141.00</td>\n",
       "      <td>12636.0</td>\n",
       "      <td>USA</td>\n",
       "    </tr>\n",
       "    <tr>\n",
       "      <th>173</th>\n",
       "      <td>489447</td>\n",
       "      <td>POST</td>\n",
       "      <td>POSTAGE</td>\n",
       "      <td>1</td>\n",
       "      <td>2009-12-01 10:10:00</td>\n",
       "      <td>130.00</td>\n",
       "      <td>12362.0</td>\n",
       "      <td>Belgium</td>\n",
       "    </tr>\n",
       "    <tr>\n",
       "      <th>178</th>\n",
       "      <td>C489449</td>\n",
       "      <td>22087</td>\n",
       "      <td>PAPER BUNTING WHITE LACE</td>\n",
       "      <td>-12</td>\n",
       "      <td>2009-12-01 10:33:00</td>\n",
       "      <td>2.95</td>\n",
       "      <td>16321.0</td>\n",
       "      <td>Australia</td>\n",
       "    </tr>\n",
       "    <tr>\n",
       "      <th>179</th>\n",
       "      <td>C489449</td>\n",
       "      <td>85206A</td>\n",
       "      <td>CREAM FELT EASTER EGG BASKET</td>\n",
       "      <td>-6</td>\n",
       "      <td>2009-12-01 10:33:00</td>\n",
       "      <td>1.65</td>\n",
       "      <td>16321.0</td>\n",
       "      <td>Australia</td>\n",
       "    </tr>\n",
       "  </tbody>\n",
       "</table>\n",
       "</div>"
      ],
      "text/plain": [
       "     Invoice StockCode                   Description  Quantity  \\\n",
       "89    489439      POST                       POSTAGE         3   \n",
       "126   489444      POST                       POSTAGE         1   \n",
       "173   489447      POST                       POSTAGE         1   \n",
       "178  C489449     22087      PAPER BUNTING WHITE LACE       -12   \n",
       "179  C489449    85206A  CREAM FELT EASTER EGG BASKET        -6   \n",
       "\n",
       "            InvoiceDate   Price  Customer ID    Country  \n",
       "89  2009-12-01 09:28:00   18.00      12682.0     France  \n",
       "126 2009-12-01 09:55:00  141.00      12636.0        USA  \n",
       "173 2009-12-01 10:10:00  130.00      12362.0    Belgium  \n",
       "178 2009-12-01 10:33:00    2.95      16321.0  Australia  \n",
       "179 2009-12-01 10:33:00    1.65      16321.0  Australia  "
      ]
     },
     "execution_count": 18,
     "metadata": {},
     "output_type": "execute_result"
    }
   ],
   "source": [
    "df.loc[invalids].head()"
   ]
  },
  {
   "cell_type": "markdown",
   "metadata": {},
   "source": [
    " * **Exercise**: find the code where I define `invalids`. It is not perfect. Describe what it does, and critique it."
   ]
  },
  {
   "cell_type": "markdown",
   "metadata": {
    "slideshow": {
     "slide_type": "subslide"
    }
   },
   "source": [
    "#### Now some code to aggregate the data to the level of: ... **one line per invoice**:"
   ]
  },
  {
   "cell_type": "code",
   "execution_count": 19,
   "metadata": {
    "slideshow": {
     "slide_type": "-"
    }
   },
   "outputs": [],
   "source": [
    "invoices = stock_codes.invoice_df(df, invalid_series=invalids)"
   ]
  },
  {
   "cell_type": "code",
   "execution_count": 20,
   "metadata": {
    "slideshow": {
     "slide_type": "-"
    }
   },
   "outputs": [
    {
     "data": {
      "text/html": [
       "<div>\n",
       "<style>\n",
       "    .dataframe thead tr:only-child th {\n",
       "        text-align: right;\n",
       "    }\n",
       "\n",
       "    .dataframe thead th {\n",
       "        text-align: left;\n",
       "    }\n",
       "\n",
       "    .dataframe tbody tr th {\n",
       "        vertical-align: top;\n",
       "    }\n",
       "</style>\n",
       "<table border=\"1\" class=\"dataframe\">\n",
       "  <thead>\n",
       "    <tr style=\"text-align: right;\">\n",
       "      <th></th>\n",
       "      <th>customer</th>\n",
       "      <th>codes_in_invoice</th>\n",
       "      <th>items_in_invoice</th>\n",
       "      <th>invoice_spend</th>\n",
       "      <th>hour</th>\n",
       "      <th>month</th>\n",
       "      <th>words</th>\n",
       "      <th>country</th>\n",
       "      <th>words_per_item</th>\n",
       "    </tr>\n",
       "    <tr>\n",
       "      <th>Invoice</th>\n",
       "      <th></th>\n",
       "      <th></th>\n",
       "      <th></th>\n",
       "      <th></th>\n",
       "      <th></th>\n",
       "      <th></th>\n",
       "      <th></th>\n",
       "      <th></th>\n",
       "      <th></th>\n",
       "    </tr>\n",
       "  </thead>\n",
       "  <tbody>\n",
       "    <tr>\n",
       "      <th>538167</th>\n",
       "      <td>14713.0</td>\n",
       "      <td>25</td>\n",
       "      <td>125</td>\n",
       "      <td>298.95</td>\n",
       "      <td>18</td>\n",
       "      <td>201012</td>\n",
       "      <td>{BLUE, SALLE, EMPIRE, PLEASE, IN, SIGN, CHILDR...</td>\n",
       "      <td>United Kingdom</td>\n",
       "      <td>3.080000</td>\n",
       "    </tr>\n",
       "    <tr>\n",
       "      <th>538168</th>\n",
       "      <td>14702.0</td>\n",
       "      <td>30</td>\n",
       "      <td>167</td>\n",
       "      <td>318.70</td>\n",
       "      <td>19</td>\n",
       "      <td>201012</td>\n",
       "      <td>{CRAFT, T-LIGHT, JAR, SPACEBOY, WATER, ENGLISH...</td>\n",
       "      <td>United Kingdom</td>\n",
       "      <td>2.633333</td>\n",
       "    </tr>\n",
       "    <tr>\n",
       "      <th>538169</th>\n",
       "      <td>13230.0</td>\n",
       "      <td>13</td>\n",
       "      <td>33</td>\n",
       "      <td>93.45</td>\n",
       "      <td>19</td>\n",
       "      <td>201012</td>\n",
       "      <td>{WICKER, AND, WITH, SHOPPER, ANT, REX, OF, DEC...</td>\n",
       "      <td>United Kingdom</td>\n",
       "      <td>3.076923</td>\n",
       "    </tr>\n",
       "    <tr>\n",
       "      <th>538170</th>\n",
       "      <td>13969.0</td>\n",
       "      <td>25</td>\n",
       "      <td>133</td>\n",
       "      <td>317.59</td>\n",
       "      <td>19</td>\n",
       "      <td>201012</td>\n",
       "      <td>{ORNAMENT, BLUE, TINS, SIGN, WATER, DELUXE, SN...</td>\n",
       "      <td>United Kingdom</td>\n",
       "      <td>2.920000</td>\n",
       "    </tr>\n",
       "    <tr>\n",
       "      <th>538171</th>\n",
       "      <td>17530.0</td>\n",
       "      <td>65</td>\n",
       "      <td>194</td>\n",
       "      <td>300.64</td>\n",
       "      <td>20</td>\n",
       "      <td>201012</td>\n",
       "      <td>{IN, PATH, TUBE, SHOPPER, SPOT, GIRL, ABSTRACT...</td>\n",
       "      <td>United Kingdom</td>\n",
       "      <td>2.200000</td>\n",
       "    </tr>\n",
       "  </tbody>\n",
       "</table>\n",
       "</div>"
      ],
      "text/plain": [
       "         customer  codes_in_invoice  items_in_invoice  invoice_spend  hour  \\\n",
       "Invoice                                                                      \n",
       "538167    14713.0                25               125         298.95    18   \n",
       "538168    14702.0                30               167         318.70    19   \n",
       "538169    13230.0                13                33          93.45    19   \n",
       "538170    13969.0                25               133         317.59    19   \n",
       "538171    17530.0                65               194         300.64    20   \n",
       "\n",
       "          month                                              words  \\\n",
       "Invoice                                                              \n",
       "538167   201012  {BLUE, SALLE, EMPIRE, PLEASE, IN, SIGN, CHILDR...   \n",
       "538168   201012  {CRAFT, T-LIGHT, JAR, SPACEBOY, WATER, ENGLISH...   \n",
       "538169   201012  {WICKER, AND, WITH, SHOPPER, ANT, REX, OF, DEC...   \n",
       "538170   201012  {ORNAMENT, BLUE, TINS, SIGN, WATER, DELUXE, SN...   \n",
       "538171   201012  {IN, PATH, TUBE, SHOPPER, SPOT, GIRL, ABSTRACT...   \n",
       "\n",
       "                country  words_per_item  \n",
       "Invoice                                  \n",
       "538167   United Kingdom        3.080000  \n",
       "538168   United Kingdom        2.633333  \n",
       "538169   United Kingdom        3.076923  \n",
       "538170   United Kingdom        2.920000  \n",
       "538171   United Kingdom        2.200000  "
      ]
     },
     "execution_count": 20,
     "metadata": {},
     "output_type": "execute_result"
    }
   ],
   "source": [
    "invoices.tail()"
   ]
  },
  {
   "cell_type": "code",
   "execution_count": 21,
   "metadata": {},
   "outputs": [
    {
     "data": {
      "text/plain": [
       "(2128, 20577)"
      ]
     },
     "execution_count": 21,
     "metadata": {},
     "output_type": "execute_result"
    }
   ],
   "source": [
    "len(invoices[invoices.codes_in_invoice > 50]), len(invoices)"
   ]
  },
  {
   "cell_type": "markdown",
   "metadata": {},
   "source": [
    "* **Exercise**: what's the meaning of the line above?"
   ]
  },
  {
   "cell_type": "markdown",
   "metadata": {
    "slideshow": {
     "slide_type": "subslide"
    }
   },
   "source": [
    "Lets plot something:"
   ]
  },
  {
   "cell_type": "code",
   "execution_count": 22,
   "metadata": {
    "slideshow": {
     "slide_type": "fragment"
    }
   },
   "outputs": [
    {
     "data": {
      "image/png": "[encoded data removed]",
      "text/plain": [
       "<matplotlib.figure.Figure at 0x2e80e499940>"
      ]
     },
     "metadata": {},
     "output_type": "display_data"
    }
   ],
   "source": [
    "_ = invoices.codes_in_invoice.plot.hist(logy=True, logx=True, bins=500, \n",
    "                        title='Number of stock codes, each invoice', \n",
    "                        color='k', alpha=0.5, grid=True)\n"
   ]
  },
  {
   "cell_type": "markdown",
   "metadata": {},
   "source": [
    " * **Exercise**: find the code where I aggregate by invoice. Again, this is not perfect. Describe what it does, and critique it."
   ]
  },
  {
   "cell_type": "markdown",
   "metadata": {},
   "source": [
    "## 2. Being an econometrician *and* a data scientist"
   ]
  },
  {
   "cell_type": "markdown",
   "metadata": {
    "slideshow": {
     "slide_type": "slide"
    }
   },
   "source": [
    "#### Reminder of linear regression:"
   ]
  },
  {
   "cell_type": "markdown",
   "metadata": {},
   "source": [
    "\\begin{equation}\n",
    "y_i = x_i ' \\beta + \\epsilon_i\n",
    "\\end{equation}"
   ]
  },
  {
   "cell_type": "code",
   "execution_count": null,
   "metadata": {},
   "outputs": [],
   "source": []
  }
 ],
 "metadata": {
  "celltoolbar": "Slideshow",
  "kernelspec": {
   "display_name": "Python 3",
   "language": "python",
   "name": "python3"
  },
  "language_info": {
   "codemirror_mode": {
    "name": "ipython",
    "version": 3
   },
   "file_extension": ".py",
   "mimetype": "text/x-python",
   "name": "python",
   "nbconvert_exporter": "python",
   "pygments_lexer": "ipython3",
   "version": "3.6.2"
  }
 },
 "nbformat": 4,
 "nbformat_minor": 4
}
