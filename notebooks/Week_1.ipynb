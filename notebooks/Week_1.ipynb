{
 "cells": [
  {
   "cell_type": "markdown",
   "metadata": {
    "slideshow": {
     "slide_type": "slide"
    }
   },
   "source": [
    "# Advances in Machine Learning with Big Data\n",
    "\n",
    "### Dr Jeremy Large and Dr Matthias Qian\n",
    "#### jeremy.large@economics.ox.ac.uk\n",
    "#### matthias.qian@economics.ox.ac.uk\n",
    "### Trinity 2020\n",
    "\n"
   ]
  },
  {
   "cell_type": "markdown",
   "metadata": {
    "slideshow": {
     "slide_type": "subslide"
    }
   },
   "source": [
    "... make the notebook pick it up if I change the functions in my libraries behind the scenes:"
   ]
  },
  {
   "cell_type": "code",
   "execution_count": 1,
   "metadata": {
    "slideshow": {
     "slide_type": "-"
    }
   },
   "outputs": [],
   "source": [
    "%load_ext autoreload\n",
    "%autoreload 2"
   ]
  },
  {
   "cell_type": "markdown",
   "metadata": {
    "slideshow": {
     "slide_type": "-"
    }
   },
   "source": [
    "... classic python libraries that are almost always needed for machine learning work:"
   ]
  },
  {
   "cell_type": "code",
   "execution_count": 2,
   "metadata": {
    "slideshow": {
     "slide_type": "-"
    }
   },
   "outputs": [],
   "source": [
    "import sys\n",
    "import os\n",
    "import pandas as pd\n",
    "import logging\n",
    "%matplotlib notebook"
   ]
  },
  {
   "cell_type": "markdown",
   "metadata": {
    "slideshow": {
     "slide_type": "subslide"
    }
   },
   "source": [
    "... now I tell the code where to look for the libraries I wrote for the course, as well as where to dump data:"
   ]
  },
  {
   "cell_type": "code",
   "execution_count": 3,
   "metadata": {
    "slideshow": {
     "slide_type": "-"
    }
   },
   "outputs": [],
   "source": [
    "# point at library; I need some lessons on doing good PYTHONPATHs:\n",
    "REPO_DIR = os.path.dirname(os.getcwd())\n",
    "\n",
    "UCI_LIB = os.path.join(REPO_DIR, 'lib')\n",
    "UCI_DATA = os.path.join(REPO_DIR, 'data') \n",
    "\n",
    "sys.path.append(UCI_LIB)\n",
    "\n",
    "logging.basicConfig(format='%(asctime)s %(levelname)s:%(message)s', level=logging.INFO)"
   ]
  },
  {
   "cell_type": "code",
   "execution_count": 4,
   "metadata": {
    "slideshow": {
     "slide_type": "-"
    }
   },
   "outputs": [],
   "source": [
    "UCI_DATA_FILE = os.path.join(UCI_DATA, 'raw.csv') "
   ]
  },
  {
   "cell_type": "markdown",
   "metadata": {
    "slideshow": {
     "slide_type": "-"
    }
   },
   "source": [
    "... among other things we created a path name where we can later save a file:"
   ]
  },
  {
   "cell_type": "code",
   "execution_count": 5,
   "metadata": {
    "slideshow": {
     "slide_type": "-"
    }
   },
   "outputs": [
    {
     "name": "stdout",
     "output_type": "stream",
     "text": [
      "C:\\Users\\Jeremy Large\\Documents\\professional\\Oxford Work\\ML Lectures\\ox-sbs-ml-bd\\data\\raw.csv\n"
     ]
    }
   ],
   "source": [
    "print(UCI_DATA_FILE)"
   ]
  },
  {
   "cell_type": "markdown",
   "metadata": {
    "slideshow": {
     "slide_type": "subslide"
    }
   },
   "source": [
    "... so, now I can tell the code to go looking for my behind-the-scenes functions:"
   ]
  },
  {
   "cell_type": "code",
   "execution_count": 6,
   "metadata": {
    "slideshow": {
     "slide_type": "-"
    }
   },
   "outputs": [],
   "source": [
    "from uci_retail_data.stock_codes import is_invalid, customer_code, stock_code_to_num, invalid_series, invoice_df\n",
    "from uci_retail_data.uci_files import load_uci_file, REMOTE_FILE, SHEET_NAME"
   ]
  },
  {
   "cell_type": "markdown",
   "metadata": {
    "slideshow": {
     "slide_type": "-"
    }
   },
   "source": [
    "... for example, here's one of the variables we just went and obtained:"
   ]
  },
  {
   "cell_type": "code",
   "execution_count": 7,
   "metadata": {
    "slideshow": {
     "slide_type": "-"
    }
   },
   "outputs": [
    {
     "data": {
      "text/plain": [
       "'https://archive.ics.uci.edu/ml/machine-learning-databases/00502/online_retail_II.xlsx'"
      ]
     },
     "execution_count": 7,
     "metadata": {},
     "output_type": "execute_result"
    }
   ],
   "source": [
    "REMOTE_FILE"
   ]
  },
  {
   "cell_type": "markdown",
   "metadata": {
    "slideshow": {
     "slide_type": "slide"
    }
   },
   "source": [
    "# Overview of the course"
   ]
  },
  {
   "cell_type": "markdown",
   "metadata": {
    "slideshow": {
     "slide_type": "-"
    }
   },
   "source": [
    "## 1. Introducing the dataset"
   ]
  },
  {
   "cell_type": "code",
   "execution_count": 8,
   "metadata": {
    "slideshow": {
     "slide_type": "-"
    }
   },
   "outputs": [
    {
     "name": "stdout",
     "output_type": "stream",
     "text": [
      "https://archive.ics.uci.edu/ml/machine-learning-databases/00502/online_retail_II.xlsx\n",
      "Year 2009-2010\n"
     ]
    }
   ],
   "source": [
    "print(REMOTE_FILE)\n",
    "print(SHEET_NAME)"
   ]
  },
  {
   "cell_type": "code",
   "execution_count": 9,
   "metadata": {
    "slideshow": {
     "slide_type": "subslide"
    }
   },
   "outputs": [
    {
     "name": "stderr",
     "output_type": "stream",
     "text": [
      "2020-02-14 09:22:23,337 INFO:Loading C:\\Users\\Jeremy Large\\Documents\\professional\\Oxford Work\\ML Lectures\\ox-sbs-ml-bd\\data\\raw.csv , sheet Year 2009-2010\n",
      "2020-02-14 09:22:31,151 INFO:Loaded C:\\Users\\Jeremy Large\\Documents\\professional\\Oxford Work\\ML Lectures\\ox-sbs-ml-bd\\data\\raw.csv , sheet number one, obviously\n"
     ]
    }
   ],
   "source": [
    "if os.path.exists(UCI_DATA_FILE):\n",
    "    df = load_uci_file(UCI_DATA_FILE, SHEET_NAME)\n",
    "else:\n",
    "    df = load_uci_file(REMOTE_FILE, SHEET_NAME)\n",
    "    df.to_csv(UCI_DATA_FILE)\n",
    "    logging.info('Saving a copy to ' + UCI_DATA_FILE)"
   ]
  },
  {
   "cell_type": "code",
   "execution_count": 10,
   "metadata": {
    "slideshow": {
     "slide_type": "-"
    }
   },
   "outputs": [
    {
     "data": {
      "text/html": [
       "<div>\n",
       "<style scoped>\n",
       "    .dataframe tbody tr th:only-of-type {\n",
       "        vertical-align: middle;\n",
       "    }\n",
       "\n",
       "    .dataframe tbody tr th {\n",
       "        vertical-align: top;\n",
       "    }\n",
       "\n",
       "    .dataframe thead th {\n",
       "        text-align: right;\n",
       "    }\n",
       "</style>\n",
       "<table border=\"1\" class=\"dataframe\">\n",
       "  <thead>\n",
       "    <tr style=\"text-align: right;\">\n",
       "      <th></th>\n",
       "      <th>Invoice</th>\n",
       "      <th>StockCode</th>\n",
       "      <th>Description</th>\n",
       "      <th>Quantity</th>\n",
       "      <th>InvoiceDate</th>\n",
       "      <th>Price</th>\n",
       "      <th>Customer ID</th>\n",
       "      <th>Country</th>\n",
       "    </tr>\n",
       "  </thead>\n",
       "  <tbody>\n",
       "    <tr>\n",
       "      <th>0</th>\n",
       "      <td>489434</td>\n",
       "      <td>85048</td>\n",
       "      <td>15CM CHRISTMAS GLASS BALL 20 LIGHTS</td>\n",
       "      <td>12</td>\n",
       "      <td>2009-12-01 07:45:00</td>\n",
       "      <td>6.95</td>\n",
       "      <td>13085.0</td>\n",
       "      <td>United Kingdom</td>\n",
       "    </tr>\n",
       "    <tr>\n",
       "      <th>1</th>\n",
       "      <td>489434</td>\n",
       "      <td>79323P</td>\n",
       "      <td>PINK CHERRY LIGHTS</td>\n",
       "      <td>12</td>\n",
       "      <td>2009-12-01 07:45:00</td>\n",
       "      <td>6.75</td>\n",
       "      <td>13085.0</td>\n",
       "      <td>United Kingdom</td>\n",
       "    </tr>\n",
       "    <tr>\n",
       "      <th>2</th>\n",
       "      <td>489434</td>\n",
       "      <td>79323W</td>\n",
       "      <td>WHITE CHERRY LIGHTS</td>\n",
       "      <td>12</td>\n",
       "      <td>2009-12-01 07:45:00</td>\n",
       "      <td>6.75</td>\n",
       "      <td>13085.0</td>\n",
       "      <td>United Kingdom</td>\n",
       "    </tr>\n",
       "    <tr>\n",
       "      <th>3</th>\n",
       "      <td>489434</td>\n",
       "      <td>22041</td>\n",
       "      <td>RECORD FRAME 7\" SINGLE SIZE</td>\n",
       "      <td>48</td>\n",
       "      <td>2009-12-01 07:45:00</td>\n",
       "      <td>2.10</td>\n",
       "      <td>13085.0</td>\n",
       "      <td>United Kingdom</td>\n",
       "    </tr>\n",
       "    <tr>\n",
       "      <th>4</th>\n",
       "      <td>489434</td>\n",
       "      <td>21232</td>\n",
       "      <td>STRAWBERRY CERAMIC TRINKET BOX</td>\n",
       "      <td>24</td>\n",
       "      <td>2009-12-01 07:45:00</td>\n",
       "      <td>1.25</td>\n",
       "      <td>13085.0</td>\n",
       "      <td>United Kingdom</td>\n",
       "    </tr>\n",
       "  </tbody>\n",
       "</table>\n",
       "</div>"
      ],
      "text/plain": [
       "  Invoice StockCode                          Description  Quantity  \\\n",
       "0  489434     85048  15CM CHRISTMAS GLASS BALL 20 LIGHTS        12   \n",
       "1  489434    79323P                   PINK CHERRY LIGHTS        12   \n",
       "2  489434    79323W                  WHITE CHERRY LIGHTS        12   \n",
       "3  489434     22041         RECORD FRAME 7\" SINGLE SIZE         48   \n",
       "4  489434     21232       STRAWBERRY CERAMIC TRINKET BOX        24   \n",
       "\n",
       "          InvoiceDate  Price  Customer ID         Country  \n",
       "0 2009-12-01 07:45:00   6.95      13085.0  United Kingdom  \n",
       "1 2009-12-01 07:45:00   6.75      13085.0  United Kingdom  \n",
       "2 2009-12-01 07:45:00   6.75      13085.0  United Kingdom  \n",
       "3 2009-12-01 07:45:00   2.10      13085.0  United Kingdom  \n",
       "4 2009-12-01 07:45:00   1.25      13085.0  United Kingdom  "
      ]
     },
     "execution_count": 10,
     "metadata": {},
     "output_type": "execute_result"
    }
   ],
   "source": [
    "df.head()"
   ]
  },
  {
   "cell_type": "code",
   "execution_count": 11,
   "metadata": {
    "slideshow": {
     "slide_type": "subslide"
    }
   },
   "outputs": [
    {
     "data": {
      "text/html": [
       "<div>\n",
       "<style scoped>\n",
       "    .dataframe tbody tr th:only-of-type {\n",
       "        vertical-align: middle;\n",
       "    }\n",
       "\n",
       "    .dataframe tbody tr th {\n",
       "        vertical-align: top;\n",
       "    }\n",
       "\n",
       "    .dataframe thead th {\n",
       "        text-align: right;\n",
       "    }\n",
       "</style>\n",
       "<table border=\"1\" class=\"dataframe\">\n",
       "  <thead>\n",
       "    <tr style=\"text-align: right;\">\n",
       "      <th></th>\n",
       "      <th>Invoice</th>\n",
       "      <th>StockCode</th>\n",
       "      <th>Description</th>\n",
       "      <th>Quantity</th>\n",
       "      <th>InvoiceDate</th>\n",
       "      <th>Price</th>\n",
       "      <th>Customer ID</th>\n",
       "      <th>Country</th>\n",
       "    </tr>\n",
       "  </thead>\n",
       "  <tbody>\n",
       "    <tr>\n",
       "      <th>525456</th>\n",
       "      <td>538171</td>\n",
       "      <td>22271</td>\n",
       "      <td>FELTCRAFT DOLL ROSIE</td>\n",
       "      <td>2</td>\n",
       "      <td>2010-12-09 20:01:00</td>\n",
       "      <td>2.95</td>\n",
       "      <td>17530.0</td>\n",
       "      <td>United Kingdom</td>\n",
       "    </tr>\n",
       "    <tr>\n",
       "      <th>525457</th>\n",
       "      <td>538171</td>\n",
       "      <td>22750</td>\n",
       "      <td>FELTCRAFT PRINCESS LOLA DOLL</td>\n",
       "      <td>1</td>\n",
       "      <td>2010-12-09 20:01:00</td>\n",
       "      <td>3.75</td>\n",
       "      <td>17530.0</td>\n",
       "      <td>United Kingdom</td>\n",
       "    </tr>\n",
       "    <tr>\n",
       "      <th>525458</th>\n",
       "      <td>538171</td>\n",
       "      <td>22751</td>\n",
       "      <td>FELTCRAFT PRINCESS OLIVIA DOLL</td>\n",
       "      <td>1</td>\n",
       "      <td>2010-12-09 20:01:00</td>\n",
       "      <td>3.75</td>\n",
       "      <td>17530.0</td>\n",
       "      <td>United Kingdom</td>\n",
       "    </tr>\n",
       "    <tr>\n",
       "      <th>525459</th>\n",
       "      <td>538171</td>\n",
       "      <td>20970</td>\n",
       "      <td>PINK FLORAL FELTCRAFT SHOULDER BAG</td>\n",
       "      <td>2</td>\n",
       "      <td>2010-12-09 20:01:00</td>\n",
       "      <td>3.75</td>\n",
       "      <td>17530.0</td>\n",
       "      <td>United Kingdom</td>\n",
       "    </tr>\n",
       "    <tr>\n",
       "      <th>525460</th>\n",
       "      <td>538171</td>\n",
       "      <td>21931</td>\n",
       "      <td>JUMBO STORAGE BAG SUKI</td>\n",
       "      <td>2</td>\n",
       "      <td>2010-12-09 20:01:00</td>\n",
       "      <td>1.95</td>\n",
       "      <td>17530.0</td>\n",
       "      <td>United Kingdom</td>\n",
       "    </tr>\n",
       "  </tbody>\n",
       "</table>\n",
       "</div>"
      ],
      "text/plain": [
       "       Invoice StockCode                         Description  Quantity  \\\n",
       "525456  538171     22271                FELTCRAFT DOLL ROSIE         2   \n",
       "525457  538171     22750        FELTCRAFT PRINCESS LOLA DOLL         1   \n",
       "525458  538171     22751      FELTCRAFT PRINCESS OLIVIA DOLL         1   \n",
       "525459  538171     20970  PINK FLORAL FELTCRAFT SHOULDER BAG         2   \n",
       "525460  538171     21931              JUMBO STORAGE BAG SUKI         2   \n",
       "\n",
       "               InvoiceDate  Price  Customer ID         Country  \n",
       "525456 2010-12-09 20:01:00   2.95      17530.0  United Kingdom  \n",
       "525457 2010-12-09 20:01:00   3.75      17530.0  United Kingdom  \n",
       "525458 2010-12-09 20:01:00   3.75      17530.0  United Kingdom  \n",
       "525459 2010-12-09 20:01:00   3.75      17530.0  United Kingdom  \n",
       "525460 2010-12-09 20:01:00   1.95      17530.0  United Kingdom  "
      ]
     },
     "execution_count": 11,
     "metadata": {},
     "output_type": "execute_result"
    }
   ],
   "source": [
    "df.tail()"
   ]
  },
  {
   "cell_type": "code",
   "execution_count": 12,
   "metadata": {
    "slideshow": {
     "slide_type": "subslide"
    }
   },
   "outputs": [
    {
     "name": "stdout",
     "output_type": "stream",
     "text": [
      "<class 'pandas.core.frame.DataFrame'>\n",
      "RangeIndex: 525461 entries, 0 to 525460\n",
      "Data columns (total 8 columns):\n",
      "Invoice        525461 non-null object\n",
      "StockCode      525461 non-null object\n",
      "Description    522533 non-null object\n",
      "Quantity       525461 non-null int64\n",
      "InvoiceDate    525461 non-null datetime64[ns]\n",
      "Price          525461 non-null float64\n",
      "Customer ID    417534 non-null float64\n",
      "Country        525461 non-null object\n",
      "dtypes: datetime64[ns](1), float64(2), int64(1), object(4)\n",
      "memory usage: 32.1+ MB\n"
     ]
    }
   ],
   "source": [
    "df.info()"
   ]
  },
  {
   "cell_type": "code",
   "execution_count": 13,
   "metadata": {
    "slideshow": {
     "slide_type": "-"
    }
   },
   "outputs": [
    {
     "data": {
      "text/html": [
       "<div>\n",
       "<style scoped>\n",
       "    .dataframe tbody tr th:only-of-type {\n",
       "        vertical-align: middle;\n",
       "    }\n",
       "\n",
       "    .dataframe tbody tr th {\n",
       "        vertical-align: top;\n",
       "    }\n",
       "\n",
       "    .dataframe thead th {\n",
       "        text-align: right;\n",
       "    }\n",
       "</style>\n",
       "<table border=\"1\" class=\"dataframe\">\n",
       "  <thead>\n",
       "    <tr style=\"text-align: right;\">\n",
       "      <th></th>\n",
       "      <th>count</th>\n",
       "      <th>mean</th>\n",
       "      <th>std</th>\n",
       "      <th>min</th>\n",
       "      <th>25%</th>\n",
       "      <th>50%</th>\n",
       "      <th>75%</th>\n",
       "      <th>max</th>\n",
       "    </tr>\n",
       "  </thead>\n",
       "  <tbody>\n",
       "    <tr>\n",
       "      <th>Quantity</th>\n",
       "      <td>525461.0</td>\n",
       "      <td>10.337667</td>\n",
       "      <td>107.424110</td>\n",
       "      <td>-9600.00</td>\n",
       "      <td>1.00</td>\n",
       "      <td>3.0</td>\n",
       "      <td>10.00</td>\n",
       "      <td>19152.00</td>\n",
       "    </tr>\n",
       "    <tr>\n",
       "      <th>Price</th>\n",
       "      <td>525461.0</td>\n",
       "      <td>4.688834</td>\n",
       "      <td>146.126914</td>\n",
       "      <td>-53594.36</td>\n",
       "      <td>1.25</td>\n",
       "      <td>2.1</td>\n",
       "      <td>4.21</td>\n",
       "      <td>25111.09</td>\n",
       "    </tr>\n",
       "    <tr>\n",
       "      <th>Customer ID</th>\n",
       "      <td>417534.0</td>\n",
       "      <td>15360.645478</td>\n",
       "      <td>1680.811316</td>\n",
       "      <td>12346.00</td>\n",
       "      <td>13983.00</td>\n",
       "      <td>15311.0</td>\n",
       "      <td>16799.00</td>\n",
       "      <td>18287.00</td>\n",
       "    </tr>\n",
       "  </tbody>\n",
       "</table>\n",
       "</div>"
      ],
      "text/plain": [
       "                count          mean          std       min       25%      50%  \\\n",
       "Quantity     525461.0     10.337667   107.424110  -9600.00      1.00      3.0   \n",
       "Price        525461.0      4.688834   146.126914 -53594.36      1.25      2.1   \n",
       "Customer ID  417534.0  15360.645478  1680.811316  12346.00  13983.00  15311.0   \n",
       "\n",
       "                  75%       max  \n",
       "Quantity        10.00  19152.00  \n",
       "Price            4.21  25111.09  \n",
       "Customer ID  16799.00  18287.00  "
      ]
     },
     "execution_count": 13,
     "metadata": {},
     "output_type": "execute_result"
    }
   ],
   "source": [
    "df.describe().T"
   ]
  },
  {
   "cell_type": "markdown",
   "metadata": {
    "slideshow": {
     "slide_type": "-"
    }
   },
   "source": [
    "... half a million rows is _not that much_ these days, but will be a good illustration for this course"
   ]
  },
  {
   "cell_type": "code",
   "execution_count": 14,
   "metadata": {
    "slideshow": {
     "slide_type": "subslide"
    }
   },
   "outputs": [],
   "source": [
    "invalids = invalid_series(df)"
   ]
  },
  {
   "cell_type": "code",
   "execution_count": 15,
   "metadata": {
    "slideshow": {
     "slide_type": "-"
    }
   },
   "outputs": [
    {
     "data": {
      "text/html": [
       "<div>\n",
       "<style scoped>\n",
       "    .dataframe tbody tr th:only-of-type {\n",
       "        vertical-align: middle;\n",
       "    }\n",
       "\n",
       "    .dataframe tbody tr th {\n",
       "        vertical-align: top;\n",
       "    }\n",
       "\n",
       "    .dataframe thead th {\n",
       "        text-align: right;\n",
       "    }\n",
       "</style>\n",
       "<table border=\"1\" class=\"dataframe\">\n",
       "  <thead>\n",
       "    <tr style=\"text-align: right;\">\n",
       "      <th></th>\n",
       "      <th>Invoice</th>\n",
       "      <th>StockCode</th>\n",
       "      <th>Description</th>\n",
       "      <th>Quantity</th>\n",
       "      <th>InvoiceDate</th>\n",
       "      <th>Price</th>\n",
       "      <th>Customer ID</th>\n",
       "      <th>Country</th>\n",
       "    </tr>\n",
       "  </thead>\n",
       "  <tbody>\n",
       "    <tr>\n",
       "      <th>89</th>\n",
       "      <td>489439</td>\n",
       "      <td>POST</td>\n",
       "      <td>POSTAGE</td>\n",
       "      <td>3</td>\n",
       "      <td>2009-12-01 09:28:00</td>\n",
       "      <td>18.00</td>\n",
       "      <td>12682.0</td>\n",
       "      <td>France</td>\n",
       "    </tr>\n",
       "    <tr>\n",
       "      <th>126</th>\n",
       "      <td>489444</td>\n",
       "      <td>POST</td>\n",
       "      <td>POSTAGE</td>\n",
       "      <td>1</td>\n",
       "      <td>2009-12-01 09:55:00</td>\n",
       "      <td>141.00</td>\n",
       "      <td>12636.0</td>\n",
       "      <td>USA</td>\n",
       "    </tr>\n",
       "    <tr>\n",
       "      <th>173</th>\n",
       "      <td>489447</td>\n",
       "      <td>POST</td>\n",
       "      <td>POSTAGE</td>\n",
       "      <td>1</td>\n",
       "      <td>2009-12-01 10:10:00</td>\n",
       "      <td>130.00</td>\n",
       "      <td>12362.0</td>\n",
       "      <td>Belgium</td>\n",
       "    </tr>\n",
       "    <tr>\n",
       "      <th>178</th>\n",
       "      <td>C489449</td>\n",
       "      <td>22087</td>\n",
       "      <td>PAPER BUNTING WHITE LACE</td>\n",
       "      <td>-12</td>\n",
       "      <td>2009-12-01 10:33:00</td>\n",
       "      <td>2.95</td>\n",
       "      <td>16321.0</td>\n",
       "      <td>Australia</td>\n",
       "    </tr>\n",
       "    <tr>\n",
       "      <th>179</th>\n",
       "      <td>C489449</td>\n",
       "      <td>85206A</td>\n",
       "      <td>CREAM FELT EASTER EGG BASKET</td>\n",
       "      <td>-6</td>\n",
       "      <td>2009-12-01 10:33:00</td>\n",
       "      <td>1.65</td>\n",
       "      <td>16321.0</td>\n",
       "      <td>Australia</td>\n",
       "    </tr>\n",
       "  </tbody>\n",
       "</table>\n",
       "</div>"
      ],
      "text/plain": [
       "     Invoice StockCode                   Description  Quantity  \\\n",
       "89    489439      POST                       POSTAGE         3   \n",
       "126   489444      POST                       POSTAGE         1   \n",
       "173   489447      POST                       POSTAGE         1   \n",
       "178  C489449     22087      PAPER BUNTING WHITE LACE       -12   \n",
       "179  C489449    85206A  CREAM FELT EASTER EGG BASKET        -6   \n",
       "\n",
       "            InvoiceDate   Price  Customer ID    Country  \n",
       "89  2009-12-01 09:28:00   18.00      12682.0     France  \n",
       "126 2009-12-01 09:55:00  141.00      12636.0        USA  \n",
       "173 2009-12-01 10:10:00  130.00      12362.0    Belgium  \n",
       "178 2009-12-01 10:33:00    2.95      16321.0  Australia  \n",
       "179 2009-12-01 10:33:00    1.65      16321.0  Australia  "
      ]
     },
     "execution_count": 15,
     "metadata": {},
     "output_type": "execute_result"
    }
   ],
   "source": [
    "df.loc[invalids].head()"
   ]
  },
  {
   "cell_type": "code",
   "execution_count": 26,
   "metadata": {
    "slideshow": {
     "slide_type": "-"
    }
   },
   "outputs": [],
   "source": [
    "invoices = invoice_df(df, invalid_series=invalids)"
   ]
  },
  {
   "cell_type": "code",
   "execution_count": 27,
   "metadata": {
    "slideshow": {
     "slide_type": "-"
    }
   },
   "outputs": [
    {
     "data": {
      "text/html": [
       "<div>\n",
       "<style scoped>\n",
       "    .dataframe tbody tr th:only-of-type {\n",
       "        vertical-align: middle;\n",
       "    }\n",
       "\n",
       "    .dataframe tbody tr th {\n",
       "        vertical-align: top;\n",
       "    }\n",
       "\n",
       "    .dataframe thead th {\n",
       "        text-align: right;\n",
       "    }\n",
       "</style>\n",
       "<table border=\"1\" class=\"dataframe\">\n",
       "  <thead>\n",
       "    <tr style=\"text-align: right;\">\n",
       "      <th></th>\n",
       "      <th>customer</th>\n",
       "      <th>codes_in_invoice</th>\n",
       "      <th>items_in_invoice</th>\n",
       "      <th>invoice_spend</th>\n",
       "      <th>hour</th>\n",
       "      <th>month</th>\n",
       "      <th>words</th>\n",
       "      <th>country</th>\n",
       "      <th>words_per_item</th>\n",
       "    </tr>\n",
       "    <tr>\n",
       "      <th>Invoice</th>\n",
       "      <th></th>\n",
       "      <th></th>\n",
       "      <th></th>\n",
       "      <th></th>\n",
       "      <th></th>\n",
       "      <th></th>\n",
       "      <th></th>\n",
       "      <th></th>\n",
       "      <th></th>\n",
       "    </tr>\n",
       "  </thead>\n",
       "  <tbody>\n",
       "    <tr>\n",
       "      <th>489434</th>\n",
       "      <td>13085.0</td>\n",
       "      <td>8</td>\n",
       "      <td>166</td>\n",
       "      <td>505.30</td>\n",
       "      <td>7</td>\n",
       "      <td>200912</td>\n",
       "      <td>{CERAMIC, BALL, 7\", DOUGHNUT, BOX, POT, PLANET...</td>\n",
       "      <td>United Kingdom</td>\n",
       "      <td>3.625000</td>\n",
       "    </tr>\n",
       "    <tr>\n",
       "      <th>489435</th>\n",
       "      <td>13085.0</td>\n",
       "      <td>4</td>\n",
       "      <td>60</td>\n",
       "      <td>145.80</td>\n",
       "      <td>7</td>\n",
       "      <td>200912</td>\n",
       "      <td>{BOWL, CUTLERY, CAT, BALL, CHASING, DOG, MEASU...</td>\n",
       "      <td>United Kingdom</td>\n",
       "      <td>4.000000</td>\n",
       "    </tr>\n",
       "    <tr>\n",
       "      <th>489436</th>\n",
       "      <td>13078.0</td>\n",
       "      <td>19</td>\n",
       "      <td>193</td>\n",
       "      <td>630.33</td>\n",
       "      <td>9</td>\n",
       "      <td>200912</td>\n",
       "      <td>{WATER, BLOCK, PLEASE, WOODEN, DUCKS, FLOCK, P...</td>\n",
       "      <td>United Kingdom</td>\n",
       "      <td>3.315789</td>\n",
       "    </tr>\n",
       "    <tr>\n",
       "      <th>489437</th>\n",
       "      <td>15362.0</td>\n",
       "      <td>23</td>\n",
       "      <td>145</td>\n",
       "      <td>310.75</td>\n",
       "      <td>9</td>\n",
       "      <td>200912</td>\n",
       "      <td>{WATER, WOODEN, ZINC, FLORAL, WREATH, PINK, PE...</td>\n",
       "      <td>United Kingdom</td>\n",
       "      <td>3.000000</td>\n",
       "    </tr>\n",
       "    <tr>\n",
       "      <th>489438</th>\n",
       "      <td>18102.0</td>\n",
       "      <td>17</td>\n",
       "      <td>826</td>\n",
       "      <td>2286.24</td>\n",
       "      <td>9</td>\n",
       "      <td>200912</td>\n",
       "      <td>{TOYS, HOT, GINGHAM, CHARLIE+LOLA, TINS, COTTA...</td>\n",
       "      <td>United Kingdom</td>\n",
       "      <td>2.235294</td>\n",
       "    </tr>\n",
       "  </tbody>\n",
       "</table>\n",
       "</div>"
      ],
      "text/plain": [
       "         customer  codes_in_invoice  items_in_invoice  invoice_spend  hour  \\\n",
       "Invoice                                                                      \n",
       "489434    13085.0                 8               166         505.30     7   \n",
       "489435    13085.0                 4                60         145.80     7   \n",
       "489436    13078.0                19               193         630.33     9   \n",
       "489437    15362.0                23               145         310.75     9   \n",
       "489438    18102.0                17               826        2286.24     9   \n",
       "\n",
       "          month                                              words  \\\n",
       "Invoice                                                              \n",
       "489434   200912  {CERAMIC, BALL, 7\", DOUGHNUT, BOX, POT, PLANET...   \n",
       "489435   200912  {BOWL, CUTLERY, CAT, BALL, CHASING, DOG, MEASU...   \n",
       "489436   200912  {WATER, BLOCK, PLEASE, WOODEN, DUCKS, FLOCK, P...   \n",
       "489437   200912  {WATER, WOODEN, ZINC, FLORAL, WREATH, PINK, PE...   \n",
       "489438   200912  {TOYS, HOT, GINGHAM, CHARLIE+LOLA, TINS, COTTA...   \n",
       "\n",
       "                country  words_per_item  \n",
       "Invoice                                  \n",
       "489434   United Kingdom        3.625000  \n",
       "489435   United Kingdom        4.000000  \n",
       "489436   United Kingdom        3.315789  \n",
       "489437   United Kingdom        3.000000  \n",
       "489438   United Kingdom        2.235294  "
      ]
     },
     "execution_count": 27,
     "metadata": {},
     "output_type": "execute_result"
    }
   ],
   "source": [
    "invoices.head()"
   ]
  },
  {
   "cell_type": "code",
   "execution_count": 29,
   "metadata": {},
   "outputs": [
    {
     "data": {
      "text/plain": [
       "(2128, 20577)"
      ]
     },
     "execution_count": 29,
     "metadata": {},
     "output_type": "execute_result"
    }
   ],
   "source": [
    "len(invoices[invoices.codes_in_invoice > 50]), len(invoices)"
   ]
  },
  {
   "cell_type": "code",
   "execution_count": 30,
   "metadata": {
    "slideshow": {
     "slide_type": "subslide"
    }
   },
   "outputs": [
    {
     "name": "stdout",
     "output_type": "stream",
     "text": [
      "Populating the interactive namespace from numpy and matplotlib\n"
     ]
    },
    {
     "data": {
      "image/png": "[encoded data removed]",
      "text/plain": [
       "<Figure size 432x288 with 1 Axes>"
      ]
     },
     "metadata": {
      "needs_background": "light"
     },
     "output_type": "display_data"
    }
   ],
   "source": [
    "%pylab inline\n",
    "_ = invoices.codes_in_invoice.plot.hist(logy=True, logx=True, bins=500, \n",
    "                        title='£ spent, each invoice', \n",
    "                        color='k', alpha=0.5, grid=True)\n"
   ]
  },
  {
   "cell_type": "code",
   "execution_count": null,
   "metadata": {},
   "outputs": [],
   "source": []
  }
 ],
 "metadata": {
  "celltoolbar": "Slideshow",
  "kernelspec": {
   "display_name": "Python 3",
   "language": "python",
   "name": "python3"
  },
  "language_info": {
   "codemirror_mode": {
    "name": "ipython",
    "version": 3
   },
   "file_extension": ".py",
   "mimetype": "text/x-python",
   "name": "python",
   "nbconvert_exporter": "python",
   "pygments_lexer": "ipython3",
   "version": "3.6.1"
  }
 },
 "nbformat": 4,
 "nbformat_minor": 2
}
