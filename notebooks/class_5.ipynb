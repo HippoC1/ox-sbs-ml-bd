{
 "cells": [
  {
   "cell_type": "markdown",
   "metadata": {
    "slideshow": {
     "slide_type": "slide"
    }
   },
   "source": [
    "# Advances in Machine Learning with Big Data\n",
    "\n",
    "### (part 1 of 2) \n",
    "### Trinity 2020 Weeks 1 - 4\n",
    "### Dr Jeremy Large\n",
    "#### jeremy.large@economics.ox.ac.uk\n",
    "\n",
    "\n",
    "&#169; Jeremy Large ; shared under [CC BY-NC-ND 4.0](https://creativecommons.org/licenses/by-nc-nd/4.0/)"
   ]
  },
  {
   "cell_type": "code",
   "execution_count": 1,
   "metadata": {
    "slideshow": {
     "slide_type": "skip"
    }
   },
   "outputs": [
    {
     "name": "stdout",
     "output_type": "stream",
     "text": [
      "Populating the interactive namespace from numpy and matplotlib\n"
     ]
    }
   ],
   "source": [
    "%load_ext autoreload\n",
    "%autoreload 2\n",
    "%pylab inline\n",
    "plt.rcParams['figure.figsize'] = [15, 3]\n",
    "\n",
    "import sys, os\n",
    "\n",
    "import logging\n",
    "logging.basicConfig(format='%(asctime)s %(levelname)s:%(message)s', level=logging.INFO)\n",
    "\n",
    "import warnings\n",
    "warnings.filterwarnings('ignore')\n",
    "\n",
    "# point at library; I need some lessons on doing good PYTHONPATHs:\n",
    "REPO_DIR = os.path.dirname(os.getcwd())\n",
    "UCI_LIB = os.path.join(REPO_DIR, 'lib')\n",
    "sys.path.append(UCI_LIB)\n",
    "\n",
    "import numpy as np  \n",
    "import pandas as pd  \n",
    "\n",
    "#  pull in scikit-learn libraries:\n",
    "from sklearn import linear_model\n",
    "from sklearn import metrics\n",
    "\n",
    "import sbs_sklearn    # module where I've put some functions from the last class\n",
    "from uci_retail_data import uci_files, stock_codes\n",
    "\n",
    "import itertools      # today, we'll use this"
   ]
  },
  {
   "cell_type": "code",
   "execution_count": 2,
   "metadata": {
    "slideshow": {
     "slide_type": "skip"
    }
   },
   "outputs": [],
   "source": [
    "def plot_coeffs(mod, mod_name, comment):\n",
    "    plt.plot(mod.coef_, marker='o')\n",
    "    plt.grid()\n",
    "    plt.title(f\"The betas of the {mod_name} - {comment}\")\n",
    "    plt.axhline(color='k')"
   ]
  },
  {
   "cell_type": "markdown",
   "metadata": {
    "slideshow": {
     "slide_type": "slide"
    }
   },
   "source": [
    "## 5. Resampling methods, and model selection"
   ]
  },
  {
   "cell_type": "markdown",
   "metadata": {
    "slideshow": {
     "slide_type": "slide"
    }
   },
   "source": [
    "## Contents Weeks 1-4:\n",
    "\n",
    "1. Introducing this course's dataset\n",
    "\n",
    "1. Being an econometrician _and_ a data scientist\n",
    "\n",
    "1. Overfit and regularization\n",
    "\n",
    "1. Regularization through predictor/feature selection (Lasso etc.)\n",
    "\n",
    "1. **Resampling methods, and model selection**\n",
    "\n",
    "1. Decision trees\n",
    "\n",
    "1. Single-layer neural networks"
   ]
  },
  {
   "cell_type": "markdown",
   "metadata": {
    "slideshow": {
     "slide_type": "skip"
    }
   },
   "source": [
    "Load data per previous classes ..."
   ]
  },
  {
   "cell_type": "code",
   "execution_count": 3,
   "metadata": {
    "slideshow": {
     "slide_type": "skip"
    }
   },
   "outputs": [
    {
     "name": "stderr",
     "output_type": "stream",
     "text": [
      "2020-04-22 15:02:32,459 INFO:Loading C:\\Users\\jerem\\Documents\\work\\Oxford\\SBS\\MLBD\\ox-sbs-ml-bd\\data\\raw.csv , sheet Year 2009-2010\n",
      "2020-04-22 15:02:37,018 INFO:Loaded C:\\Users\\jerem\\Documents\\work\\Oxford\\SBS\\MLBD\\ox-sbs-ml-bd\\data\\raw.csv , sheet number one, obviously\n"
     ]
    }
   ],
   "source": [
    "df = uci_files.standard_uci_data_access()"
   ]
  },
  {
   "cell_type": "code",
   "execution_count": 4,
   "metadata": {
    "slideshow": {
     "slide_type": "skip"
    }
   },
   "outputs": [],
   "source": [
    "invalids = stock_codes.invalid_series(df)"
   ]
  },
  {
   "cell_type": "code",
   "execution_count": 5,
   "metadata": {
    "slideshow": {
     "slide_type": "skip"
    }
   },
   "outputs": [],
   "source": [
    "invoices = stock_codes.invoice_df(df, invalid_series=invalids)"
   ]
  },
  {
   "cell_type": "markdown",
   "metadata": {
    "slideshow": {
     "slide_type": "subslide"
    }
   },
   "source": [
    "Prepare our dataset for linear regression:"
   ]
  },
  {
   "cell_type": "code",
   "execution_count": 6,
   "metadata": {},
   "outputs": [],
   "source": [
    "invoices['log_item_spend'] = np.log(invoices.invoice_spend / invoices.items_in_invoice)\n",
    "invoices['log_n_codes'] = np.log(invoices.codes_in_invoice)\n",
    "\n",
    "predictors = ['log_n_codes', 'hour', 'month', 'words_per_item']\n",
    "\n",
    "y = invoices.log_item_spend\n",
    "X = invoices[predictors] "
   ]
  },
  {
   "cell_type": "code",
   "execution_count": 7,
   "metadata": {},
   "outputs": [],
   "source": [
    "from sklearn.preprocessing import PolynomialFeatures\n",
    "poly = PolynomialFeatures(4)\n",
    "polynomial_X = pd.DataFrame(poly.fit_transform(X.values))\n",
    "polynomial_X.columns = poly.get_feature_names(X.columns)\n",
    "del polynomial_X['1']"
   ]
  },
  {
   "cell_type": "code",
   "execution_count": 8,
   "metadata": {},
   "outputs": [],
   "source": [
    "poly_std_X = ((polynomial_X - polynomial_X.mean()) / polynomial_X.std())"
   ]
  },
  {
   "cell_type": "markdown",
   "metadata": {
    "slideshow": {
     "slide_type": "slide"
    }
   },
   "source": [
    "### We will try to tune [Elastic Net](https://scikit-learn.org/stable/modules/generated/sklearn.linear_model.ElasticNet.html) on this data.\n",
    "\n",
    "#### First, recall class 4:"
   ]
  },
  {
   "cell_type": "code",
   "execution_count": 9,
   "metadata": {},
   "outputs": [],
   "source": [
    "n_folds = 25"
   ]
  },
  {
   "cell_type": "markdown",
   "metadata": {},
   "source": [
    "Here I hard-code my guesses at good parameters values for `alpha` and `l1_ratio`"
   ]
  },
  {
   "cell_type": "code",
   "execution_count": 10,
   "metadata": {},
   "outputs": [],
   "source": [
    "elastic = linear_model.ElasticNet( # << Elastic Net here\n",
    "                                  alpha=25 / (len(y) / n_folds) / 2,   # alpha parameter\n",
    "                                  l1_ratio=0.33                        # how to distribute the parameter between l1 and l2 norms\n",
    "                                 )"
   ]
  },
  {
   "cell_type": "markdown",
   "metadata": {},
   "source": [
    "Do the hard work:"
   ]
  },
  {
   "cell_type": "code",
   "execution_count": 11,
   "metadata": {},
   "outputs": [
    {
     "name": "stderr",
     "output_type": "stream",
     "text": [
      "2020-04-22 15:02:50,586 INFO:Study 1/25: 824 train rows;  19753 test rows\n"
     ]
    }
   ],
   "source": [
    "scores = sbs_sklearn.train_n_test(poly_std_X, y, n_folds, train_on_minority=True, model=elastic)"
   ]
  },
  {
   "cell_type": "markdown",
   "metadata": {
    "slideshow": {
     "slide_type": "subslide"
    }
   },
   "source": [
    "Plot the results"
   ]
  },
  {
   "cell_type": "code",
   "execution_count": 12,
   "metadata": {},
   "outputs": [
    {
     "data": {
      "image/png": "[encoded data removed]",
      "text/plain": [
       "<Figure size 1080x216 with 1 Axes>"
      ]
     },
     "metadata": {
      "needs_background": "light"
     },
     "output_type": "display_data"
    }
   ],
   "source": [
    "sbs_sklearn.plot_kfold_scores(scores, scatter=True)"
   ]
  },
  {
   "cell_type": "code",
   "execution_count": 13,
   "metadata": {},
   "outputs": [
    {
     "data": {
      "image/png": "[encoded data removed]",
      "text/plain": [
       "<Figure size 1080x216 with 1 Axes>"
      ]
     },
     "metadata": {
      "needs_background": "light"
     },
     "output_type": "display_data"
    }
   ],
   "source": [
    "plot_coeffs(elastic, 'last fitted (rightmost) Elastic Net', 'looks nice')"
   ]
  },
  {
   "cell_type": "code",
   "execution_count": 14,
   "metadata": {
    "slideshow": {
     "slide_type": "subslide"
    }
   },
   "outputs": [
    {
     "data": {
      "text/plain": [
       "0.015186859114545365"
      ]
     },
     "execution_count": 14,
     "metadata": {},
     "output_type": "execute_result"
    }
   ],
   "source": [
    "elastic.alpha"
   ]
  },
  {
   "cell_type": "code",
   "execution_count": 15,
   "metadata": {},
   "outputs": [
    {
     "data": {
      "text/plain": [
       "25.0"
      ]
     },
     "execution_count": 15,
     "metadata": {},
     "output_type": "execute_result"
    }
   ],
   "source": [
    "elastic.alpha * (len(y) / n_folds) * 2"
   ]
  },
  {
   "cell_type": "code",
   "execution_count": 16,
   "metadata": {},
   "outputs": [
    {
     "data": {
      "text/plain": [
       "0.33"
      ]
     },
     "execution_count": 16,
     "metadata": {},
     "output_type": "execute_result"
    }
   ],
   "source": [
    "elastic.l1_ratio"
   ]
  },
  {
   "cell_type": "markdown",
   "metadata": {
    "slideshow": {
     "slide_type": "slide"
    }
   },
   "source": [
    "### **Cross-Validation**\n",
    "\n",
    "### a form of **Model Selection**\n",
    "* *Introduction to Statistical Learning* Ch. 5\n",
    "* Systematically *tune* the modelling\n",
    "* Main strategy is familiar: comparing alternatives in k-fold splits (i.e. test/train splits)\n",
    "* [Wikipedia's take](https://en.wikipedia.org/wiki/Cross-validation_(statistics))\n",
    "* [scikit-learn's account](https://scikit-learn.org/stable/modules/cross_validation.html)"
   ]
  },
  {
   "cell_type": "markdown",
   "metadata": {
    "slideshow": {
     "slide_type": "subslide"
    }
   },
   "source": [
    "Difficulties of cross-validation with K-fold splits:\n",
    "1. Randomness in K-Fold \n",
    "1. What should K be set to? \n",
    "   * Easier on the CPU to use a small number. \n",
    "   * But if $K$ is small, then we tune $\\alpha$ to an unrealistic case, \n",
    "        * where we tune with many fewer observations, than we have in reality.\n",
    "   * A balanced choice might be $K=5$ or $K=10$ for example (see *Introduction to Statistical Learning* 5.1.4)"
   ]
  },
  {
   "cell_type": "markdown",
   "metadata": {
    "slideshow": {
     "slide_type": "subslide"
    }
   },
   "source": [
    "$K=len(y)$ is known as Leave-One-Out Cross-Validation (LOOCV) [and is tantamount to the Jackknife]"
   ]
  },
  {
   "cell_type": "markdown",
   "metadata": {
    "slideshow": {
     "slide_type": "fragment"
    }
   },
   "source": [
    "Since we are now handling the tuning parameters, we will need to add a further stratum to our dataset:\n",
    "* until now, we had just 2: `train -> test`\n",
    "* from now onwards, 3: `train -> validation -> test`\n",
    "\n",
    "Yes, this switch in terminology can be [confusing](https://en.wikipedia.org/w/index.php?title=Training,_validation,_and_test_sets&section=5#Confusion_in_Terminology), [and (personally) sometimes puzzling](https://scikit-learn.org/stable/_images/grid_search_workflow.png)"
   ]
  },
  {
   "cell_type": "markdown",
   "metadata": {
    "slideshow": {
     "slide_type": "slide"
    }
   },
   "source": [
    "Prepare validation and test data:"
   ]
  },
  {
   "cell_type": "code",
   "execution_count": 17,
   "metadata": {},
   "outputs": [],
   "source": [
    "from sklearn.model_selection import train_test_split"
   ]
  },
  {
   "cell_type": "markdown",
   "metadata": {},
   "source": [
    "We will put `poly_std_X_test` and `y_test` to one side until the end of our work:"
   ]
  },
  {
   "cell_type": "code",
   "execution_count": 18,
   "metadata": {},
   "outputs": [],
   "source": [
    "(poly_std_X_train, \n",
    " poly_std_X_test,\n",
    " y_train, \n",
    " y_test) = train_test_split(poly_std_X, y, test_size=0.95)  # < proportion 0.5 of the data put aside for final testing"
   ]
  },
  {
   "cell_type": "markdown",
   "metadata": {
    "slideshow": {
     "slide_type": "fragment"
    }
   },
   "source": [
    "However, we will successively break `poly_std_X_train` and `y_train` using KFolds splits into:\n",
    "* training data\n",
    "* validation data\n",
    "\n",
    "First we'll see what this means, using our existing code."
   ]
  },
  {
   "cell_type": "markdown",
   "metadata": {
    "slideshow": {
     "slide_type": "slide"
    }
   },
   "source": [
    "Lets program a simple grid search:"
   ]
  },
  {
   "cell_type": "code",
   "execution_count": 19,
   "metadata": {},
   "outputs": [],
   "source": [
    "alphas = [0.001, 0.01, 0.1, 1, 10]    # going up in factors of ten\n",
    "l1_ratios =  [0.1, 0.5, 0.9]          # one balanced split, and two unbalanced splits (each way)\n",
    "k_folds = [10]"
   ]
  },
  {
   "cell_type": "code",
   "execution_count": 20,
   "metadata": {},
   "outputs": [],
   "source": [
    "score_cube = np.empty((len(alphas), len(l1_ratios), len(k_folds)))"
   ]
  },
  {
   "cell_type": "code",
   "execution_count": 21,
   "metadata": {},
   "outputs": [
    {
     "data": {
      "text/plain": [
       "(5, 3, 1)"
      ]
     },
     "execution_count": 21,
     "metadata": {},
     "output_type": "execute_result"
    }
   ],
   "source": [
    "score_cube.shape"
   ]
  },
  {
   "cell_type": "code",
   "execution_count": 22,
   "metadata": {
    "slideshow": {
     "slide_type": "subslide"
    }
   },
   "outputs": [
    {
     "name": "stderr",
     "output_type": "stream",
     "text": [
      "2020-04-22 15:02:52,671 INFO:Trying alpha of 0.001 and l1_ratio of 0.1\n",
      "2020-04-22 15:02:52,673 INFO:Study 1/10: 925 train rows;  103 test rows\n",
      "2020-04-22 15:02:53,067 INFO:Trying alpha of 0.001 and l1_ratio of 0.5\n",
      "2020-04-22 15:02:53,068 INFO:Study 1/10: 925 train rows;  103 test rows\n",
      "2020-04-22 15:02:53,496 INFO:Trying alpha of 0.001 and l1_ratio of 0.9\n",
      "2020-04-22 15:02:53,498 INFO:Study 1/10: 925 train rows;  103 test rows\n",
      "2020-04-22 15:02:53,992 INFO:Trying alpha of 0.01 and l1_ratio of 0.1\n",
      "2020-04-22 15:02:53,993 INFO:Study 1/10: 925 train rows;  103 test rows\n",
      "2020-04-22 15:02:54,403 INFO:Trying alpha of 0.01 and l1_ratio of 0.5\n",
      "2020-04-22 15:02:54,404 INFO:Study 1/10: 925 train rows;  103 test rows\n",
      "2020-04-22 15:02:54,786 INFO:Trying alpha of 0.01 and l1_ratio of 0.9\n",
      "2020-04-22 15:02:54,787 INFO:Study 1/10: 925 train rows;  103 test rows\n",
      "2020-04-22 15:02:55,206 INFO:Trying alpha of 0.1 and l1_ratio of 0.1\n",
      "2020-04-22 15:02:55,207 INFO:Study 1/10: 925 train rows;  103 test rows\n",
      "2020-04-22 15:02:55,600 INFO:Trying alpha of 0.1 and l1_ratio of 0.5\n",
      "2020-04-22 15:02:55,602 INFO:Study 1/10: 925 train rows;  103 test rows\n",
      "2020-04-22 15:02:55,997 INFO:Trying alpha of 0.1 and l1_ratio of 0.9\n",
      "2020-04-22 15:02:55,998 INFO:Study 1/10: 925 train rows;  103 test rows\n",
      "2020-04-22 15:02:56,364 INFO:Trying alpha of 1 and l1_ratio of 0.1\n",
      "2020-04-22 15:02:56,365 INFO:Study 1/10: 925 train rows;  103 test rows\n",
      "2020-04-22 15:02:56,732 INFO:Trying alpha of 1 and l1_ratio of 0.5\n",
      "2020-04-22 15:02:56,734 INFO:Study 1/10: 925 train rows;  103 test rows\n",
      "2020-04-22 15:02:57,083 INFO:Trying alpha of 1 and l1_ratio of 0.9\n",
      "2020-04-22 15:02:57,084 INFO:Study 1/10: 925 train rows;  103 test rows\n",
      "2020-04-22 15:02:57,406 INFO:Trying alpha of 10 and l1_ratio of 0.1\n",
      "2020-04-22 15:02:57,408 INFO:Study 1/10: 925 train rows;  103 test rows\n",
      "2020-04-22 15:02:57,724 INFO:Trying alpha of 10 and l1_ratio of 0.5\n",
      "2020-04-22 15:02:57,725 INFO:Study 1/10: 925 train rows;  103 test rows\n",
      "2020-04-22 15:02:57,965 INFO:Trying alpha of 10 and l1_ratio of 0.9\n",
      "2020-04-22 15:02:57,966 INFO:Study 1/10: 925 train rows;  103 test rows\n"
     ]
    }
   ],
   "source": [
    "score_cube[:] = np.nan   # a numpy operation: set all its elements to nan\n",
    "\n",
    "for i, a in enumerate(alphas):\n",
    "    for j, l in enumerate(l1_ratios):\n",
    "        logging.info(f\"Trying alpha of {a} and l1_ratio of {l}\")\n",
    "        for k, f in enumerate(k_folds):\n",
    "            elastic_for_grid = linear_model.ElasticNet(alpha=a / len(y_train) / 2, l1_ratio=l)\n",
    "            scores = sbs_sklearn.train_n_test(poly_std_X_train, y_train, f, model=elastic_for_grid)\n",
    "            score_cube[i, j, k] = np.mean(scores)"
   ]
  },
  {
   "cell_type": "markdown",
   "metadata": {
    "slideshow": {
     "slide_type": "subslide"
    }
   },
   "source": [
    "Results are not terribly stable:"
   ]
  },
  {
   "cell_type": "code",
   "execution_count": 23,
   "metadata": {},
   "outputs": [],
   "source": [
    "degradation = (score_cube - np.min(score_cube)).round(4) * 100"
   ]
  },
  {
   "cell_type": "code",
   "execution_count": 24,
   "metadata": {},
   "outputs": [
    {
     "name": "stdout",
     "output_type": "stream",
     "text": [
      "L1_ratios of  0.1 0.5 0.9\n",
      "\n",
      " K-fold of  10\n",
      "\n",
      " alpha of 0.001:\n",
      "[1.77 0.81 0.89]\n",
      "\n",
      " alpha of 0.01:\n",
      "[1.31 0.82 1.32]\n",
      "\n",
      " alpha of 0.1:\n",
      "[1.91 1.81 1.07]\n",
      "\n",
      " alpha of 1:\n",
      "[1.03 1.24 0.41]\n",
      "\n",
      " alpha of 10:\n",
      "[0.69 0.   0.33]\n"
     ]
    }
   ],
   "source": [
    "print(\"L1_ratios of \", \" \".join(str(l) for l in l1_ratios))\n",
    "for k, f in enumerate(k_folds):\n",
    "    print(f\"\\n K-fold of \", f)\n",
    "    for i, a in enumerate(alphas):\n",
    "        print(f\"\\n alpha of {a}:\")\n",
    "        print(degradation[i, :, k])"
   ]
  },
  {
   "cell_type": "markdown",
   "metadata": {},
   "source": [
    "... not particularly conclusive, so lets let Scikit-learn take the strain:"
   ]
  },
  {
   "cell_type": "markdown",
   "metadata": {
    "slideshow": {
     "slide_type": "slide"
    }
   },
   "source": [
    "### Applying Elastic Net Cross-Validation within Scikit-Learn"
   ]
  },
  {
   "cell_type": "code",
   "execution_count": 25,
   "metadata": {},
   "outputs": [],
   "source": [
    "elasticCV = linear_model.ElasticNetCV(l1_ratio=[.1, .5, .75, .95])\n",
    "n_folds = 25"
   ]
  },
  {
   "cell_type": "code",
   "execution_count": 26,
   "metadata": {},
   "outputs": [
    {
     "name": "stderr",
     "output_type": "stream",
     "text": [
      "2020-04-22 15:02:58,579 INFO:Study 1/25: 824 train rows;  19753 test rows\n",
      "2020-04-22 15:03:41,303 INFO:Study 10/25: 823 train rows;  19754 test rows\n",
      "2020-04-22 15:04:18,978 INFO:Study 19/25: 823 train rows;  19754 test rows\n"
     ]
    },
    {
     "data": {
      "image/png": "[encoded data removed]",
      "text/plain": [
       "<Figure size 1080x216 with 1 Axes>"
      ]
     },
     "metadata": {
      "needs_background": "light"
     },
     "output_type": "display_data"
    },
    {
     "data": {
      "image/png": "[encoded data removed]",
      "text/plain": [
       "<Figure size 1080x216 with 1 Axes>"
      ]
     },
     "metadata": {
      "needs_background": "light"
     },
     "output_type": "display_data"
    }
   ],
   "source": [
    "scores = sbs_sklearn.train_n_test(poly_std_X, y, n_folds, train_on_minority=True, model=elasticCV, update_frequency=9)\n",
    "sbs_sklearn.plot_kfold_scores(scores)\n",
    "plot_coeffs(elasticCV, 'last fitted Elastic Net (CV)', 'looks nice')"
   ]
  },
  {
   "cell_type": "markdown",
   "metadata": {
    "slideshow": {
     "slide_type": "subslide"
    }
   },
   "source": [
    "Let's do a LassoCV while we're about it:"
   ]
  },
  {
   "cell_type": "code",
   "execution_count": 27,
   "metadata": {},
   "outputs": [
    {
     "name": "stderr",
     "output_type": "stream",
     "text": [
      "2020-04-22 15:04:45,888 INFO:Study 1/25: 824 train rows;  19753 test rows\n",
      "2020-04-22 15:04:54,279 INFO:Study 10/25: 823 train rows;  19754 test rows\n",
      "2020-04-22 15:05:02,508 INFO:Study 19/25: 823 train rows;  19754 test rows\n"
     ]
    },
    {
     "data": {
      "image/png": "[encoded data removed]",
      "text/plain": [
       "<Figure size 1080x216 with 1 Axes>"
      ]
     },
     "metadata": {
      "needs_background": "light"
     },
     "output_type": "display_data"
    },
    {
     "data": {
      "image/png": "[encoded data removed]",
      "text/plain": [
       "<Figure size 1080x216 with 1 Axes>"
      ]
     },
     "metadata": {
      "needs_background": "light"
     },
     "output_type": "display_data"
    }
   ],
   "source": [
    "lassoCV = linear_model.LassoCV()\n",
    "scores = sbs_sklearn.train_n_test(poly_std_X, y, n_folds, train_on_minority=True, model=lassoCV, update_frequency=9)\n",
    "sbs_sklearn.plot_kfold_scores(scores)\n",
    "plot_coeffs(elasticCV, 'last fitted Lasso CV', 'looks nice')"
   ]
  },
  {
   "cell_type": "code",
   "execution_count": 28,
   "metadata": {},
   "outputs": [
    {
     "data": {
      "text/plain": [
       "'Cross Validation tunes alpha parameter to 10.62, whereas JL had found 25 by guessing'"
      ]
     },
     "execution_count": 28,
     "metadata": {},
     "output_type": "execute_result"
    }
   ],
   "source": [
    "f\"Cross Validation tunes alpha parameter to {lassoCV.alpha_ * (len(y) / n_folds) * 2 :.2f}, whereas JL had found 25 by guessing\""
   ]
  },
  {
   "cell_type": "markdown",
   "metadata": {
    "slideshow": {
     "slide_type": "slide"
    }
   },
   "source": [
    "### The Bootstrap\n",
    "\n",
    "*Introduction to Statistical Learning* 5.2\n",
    "\n",
    "[Wikipedia](   https://en.wikipedia.org/wiki/Bootstrapping_(statistics)   ) "
   ]
  },
  {
   "cell_type": "markdown",
   "metadata": {
    "slideshow": {
     "slide_type": "subslide"
    }
   },
   "source": [
    "### The Bootstrap: the problem setup"
   ]
  },
  {
   "cell_type": "markdown",
   "metadata": {},
   "source": [
    "I have a large sample, $z$, consisting of $N$ observations that I can say are somewhat iid. I've developed an estimator, $S(Z)$, and the related estimate, $S(z)$.\n",
    "\n",
    "  * so, $S(Z)$ is a random variable I've defined in order to measure a parameter of interest in the DGP, $\\theta$\n",
    "  \n",
    "  * hopefully, its consistent, unbiased, even statistically efficient, however ...\n",
    "\n",
    "If I want to do inference, I will need to understand its CDF, $F_S$."
   ]
  },
  {
   "cell_type": "markdown",
   "metadata": {
    "slideshow": {
     "slide_type": "subslide"
    }
   },
   "source": [
    "To get at $F_S$, the approach from Michaelmas Term: asymptotic Central Limit Theory, e.g.\n",
    "  \n",
    "\\begin{equation}\n",
    "\\sqrt{N}\\left(S(Z) - \\theta\\right) \\rightarrow^D N(0, \\sigma^2)\n",
    "\\end{equation}\n",
    "\n",
    "as $N \\rightarrow \\infty$. \n",
    "\n",
    "Now, however, we seek an alternative which exploits \n",
    "* improved computing power, and \n",
    "* larger sets of data."
   ]
  },
  {
   "cell_type": "markdown",
   "metadata": {
    "slideshow": {
     "slide_type": "subslide"
    }
   },
   "source": [
    "### The Bootstrap is known for its **principle** and its **method**"
   ]
  },
  {
   "cell_type": "markdown",
   "metadata": {},
   "source": [
    "Bootstrap principle:\n",
    "\n",
    "* Replace the population distribution of the samples, with their empirical distribution (per our dataset)\n",
    "\n",
    "* Derive $\\tilde F_S$, by which we'll mean:\n",
    "    1. the CDF of $S$ when there are $N$ observations, \n",
    "    1. under the distributional assumption in 1.\n",
    "\n",
    "\n",
    "* Consider this to be a good approximation of $F_S$  [when there are $N$ observations]."
   ]
  },
  {
   "cell_type": "markdown",
   "metadata": {
    "slideshow": {
     "slide_type": "subslide"
    }
   },
   "source": [
    "Bootstrap method:\n",
    "\n",
    "1. Where $i$ runs up through the integers from 0 to a big number:\n",
    "\n",
    "     1. Randomly pick, *with replacement*, $N$ elements from $z$, assembling these to get $\\tilde z_i$.\n",
    "\n",
    "     1. Calculate and store $S(\\tilde z_i)$\n",
    "\n",
    "1. Study (plot) quantiles/distribution of the large set $\\{S(\\tilde z_1), S(\\tilde z_2), S(\\tilde z_3), ... \\}$\n",
    "\n",
    "1. Observe that this distribution approximates $\\tilde F_S$\n",
    "\n",
    "1. Therefore take this distribution to approximate $F_S$."
   ]
  },
  {
   "cell_type": "markdown",
   "metadata": {
    "slideshow": {
     "slide_type": "slide"
    }
   },
   "source": [
    "### We code up the bootstrap and try it out\n",
    "\n",
    "(using `numpy`, including `numpy.random` - not many lines of code)"
   ]
  },
  {
   "cell_type": "code",
   "execution_count": 29,
   "metadata": {},
   "outputs": [],
   "source": [
    "def bootstrap_resample(S):\n",
    "    \"\"\"\n",
    "    @param S: a function that takes data and gives a statistic we want to know about\n",
    "    @return: a new function that takes such data, and adds a smidge of randomness to get the bootstrap statistic\n",
    "    \"\"\"\n",
    "    def func(Z):\n",
    "        N = len(Z)\n",
    "        random_integers = (N * np.random.rand(N)).astype(int)\n",
    "        Z_resampled = np.array([Z[i] for i in random_integers])\n",
    "        return S(Z_resampled)\n",
    "    return func"
   ]
  },
  {
   "cell_type": "code",
   "execution_count": 30,
   "metadata": {
    "slideshow": {
     "slide_type": "skip"
    }
   },
   "outputs": [],
   "source": [
    "def show(statistic):\n",
    "    return pd.DataFrame(statistic).round(1)"
   ]
  },
  {
   "cell_type": "markdown",
   "metadata": {
    "slideshow": {
     "slide_type": "subslide"
    }
   },
   "source": [
    "Think of a statistic, any statistic ..."
   ]
  },
  {
   "cell_type": "code",
   "execution_count": 31,
   "metadata": {},
   "outputs": [],
   "source": [
    "def my_cov(z):\n",
    "    \"\"\"\n",
    "    @return empirical covariance matrix\n",
    "    \"\"\"\n",
    "    z = z.T\n",
    "    return np.inner(z, z) / len(z)"
   ]
  },
  {
   "cell_type": "markdown",
   "metadata": {},
   "source": [
    "Here's the empirical covariance matrix of our familiar $X$:"
   ]
  },
  {
   "cell_type": "code",
   "execution_count": 32,
   "metadata": {},
   "outputs": [],
   "source": [
    "x = X.values"
   ]
  },
  {
   "cell_type": "code",
   "execution_count": 33,
   "metadata": {},
   "outputs": [
    {
     "data": {
      "text/html": [
       "<div>\n",
       "<style scoped>\n",
       "    .dataframe tbody tr th:only-of-type {\n",
       "        vertical-align: middle;\n",
       "    }\n",
       "\n",
       "    .dataframe tbody tr th {\n",
       "        vertical-align: top;\n",
       "    }\n",
       "\n",
       "    .dataframe thead th {\n",
       "        text-align: right;\n",
       "    }\n",
       "</style>\n",
       "<table border=\"1\" class=\"dataframe\">\n",
       "  <thead>\n",
       "    <tr style=\"text-align: right;\">\n",
       "      <th></th>\n",
       "      <th>0</th>\n",
       "      <th>1</th>\n",
       "      <th>2</th>\n",
       "      <th>3</th>\n",
       "    </tr>\n",
       "  </thead>\n",
       "  <tbody>\n",
       "    <tr>\n",
       "      <th>0</th>\n",
       "      <td>4.099650e+04</td>\n",
       "      <td>1.665677e+05</td>\n",
       "      <td>2.623186e+09</td>\n",
       "      <td>3.679140e+04</td>\n",
       "    </tr>\n",
       "    <tr>\n",
       "      <th>1</th>\n",
       "      <td>1.665677e+05</td>\n",
       "      <td>8.607710e+05</td>\n",
       "      <td>1.314293e+10</td>\n",
       "      <td>2.021267e+05</td>\n",
       "    </tr>\n",
       "    <tr>\n",
       "      <th>2</th>\n",
       "      <td>2.623186e+09</td>\n",
       "      <td>1.314293e+10</td>\n",
       "      <td>2.078313e+14</td>\n",
       "      <td>3.201811e+09</td>\n",
       "    </tr>\n",
       "    <tr>\n",
       "      <th>3</th>\n",
       "      <td>3.679140e+04</td>\n",
       "      <td>2.021267e+05</td>\n",
       "      <td>3.201811e+09</td>\n",
       "      <td>5.288120e+04</td>\n",
       "    </tr>\n",
       "  </tbody>\n",
       "</table>\n",
       "</div>"
      ],
      "text/plain": [
       "              0             1             2             3\n",
       "0  4.099650e+04  1.665677e+05  2.623186e+09  3.679140e+04\n",
       "1  1.665677e+05  8.607710e+05  1.314293e+10  2.021267e+05\n",
       "2  2.623186e+09  1.314293e+10  2.078313e+14  3.201811e+09\n",
       "3  3.679140e+04  2.021267e+05  3.201811e+09  5.288120e+04"
      ]
     },
     "execution_count": 33,
     "metadata": {},
     "output_type": "execute_result"
    }
   ],
   "source": [
    "show(my_cov(x))"
   ]
  },
  {
   "cell_type": "markdown",
   "metadata": {
    "slideshow": {
     "slide_type": "fragment"
    }
   },
   "source": [
    "... but how does this deviate from the true covariance matrix of $x_i$ (for any $i$)?"
   ]
  },
  {
   "cell_type": "markdown",
   "metadata": {
    "slideshow": {
     "slide_type": "subslide"
    }
   },
   "source": [
    "We begin by looking at an example of the bootstrap-resampled statistic:"
   ]
  },
  {
   "cell_type": "code",
   "execution_count": 34,
   "metadata": {},
   "outputs": [],
   "source": [
    "br = bootstrap_resample(my_cov)(x)"
   ]
  },
  {
   "cell_type": "code",
   "execution_count": 35,
   "metadata": {},
   "outputs": [
    {
     "data": {
      "text/html": [
       "<div>\n",
       "<style scoped>\n",
       "    .dataframe tbody tr th:only-of-type {\n",
       "        vertical-align: middle;\n",
       "    }\n",
       "\n",
       "    .dataframe tbody tr th {\n",
       "        vertical-align: top;\n",
       "    }\n",
       "\n",
       "    .dataframe thead th {\n",
       "        text-align: right;\n",
       "    }\n",
       "</style>\n",
       "<table border=\"1\" class=\"dataframe\">\n",
       "  <thead>\n",
       "    <tr style=\"text-align: right;\">\n",
       "      <th></th>\n",
       "      <th>0</th>\n",
       "      <th>1</th>\n",
       "      <th>2</th>\n",
       "      <th>3</th>\n",
       "    </tr>\n",
       "  </thead>\n",
       "  <tbody>\n",
       "    <tr>\n",
       "      <th>0</th>\n",
       "      <td>4.111500e+04</td>\n",
       "      <td>1.666680e+05</td>\n",
       "      <td>2.622983e+09</td>\n",
       "      <td>3.670370e+04</td>\n",
       "    </tr>\n",
       "    <tr>\n",
       "      <th>1</th>\n",
       "      <td>1.666680e+05</td>\n",
       "      <td>8.609420e+05</td>\n",
       "      <td>1.314584e+10</td>\n",
       "      <td>2.020387e+05</td>\n",
       "    </tr>\n",
       "    <tr>\n",
       "      <th>2</th>\n",
       "      <td>2.622983e+09</td>\n",
       "      <td>1.314584e+10</td>\n",
       "      <td>2.078313e+14</td>\n",
       "      <td>3.198975e+09</td>\n",
       "    </tr>\n",
       "    <tr>\n",
       "      <th>3</th>\n",
       "      <td>3.670370e+04</td>\n",
       "      <td>2.020387e+05</td>\n",
       "      <td>3.198975e+09</td>\n",
       "      <td>5.284170e+04</td>\n",
       "    </tr>\n",
       "  </tbody>\n",
       "</table>\n",
       "</div>"
      ],
      "text/plain": [
       "              0             1             2             3\n",
       "0  4.111500e+04  1.666680e+05  2.622983e+09  3.670370e+04\n",
       "1  1.666680e+05  8.609420e+05  1.314584e+10  2.020387e+05\n",
       "2  2.622983e+09  1.314584e+10  2.078313e+14  3.198975e+09\n",
       "3  3.670370e+04  2.020387e+05  3.198975e+09  5.284170e+04"
      ]
     },
     "execution_count": 35,
     "metadata": {},
     "output_type": "execute_result"
    }
   ],
   "source": [
    "show(br)"
   ]
  },
  {
   "cell_type": "markdown",
   "metadata": {},
   "source": [
    "... not that different to `my_cov(x)`"
   ]
  },
  {
   "cell_type": "markdown",
   "metadata": {
    "slideshow": {
     "slide_type": "subslide"
    }
   },
   "source": [
    "... but now lets make many (well, 1000) of these, \n",
    "\n",
    "each of them different because each is based on a different random sample of $X$:"
   ]
  },
  {
   "cell_type": "code",
   "execution_count": 36,
   "metadata": {},
   "outputs": [],
   "source": [
    "bootstraps = [bootstrap_resample(my_cov)(x) for i in range(0, 1000)]\n",
    "\n",
    "# this is a list of 2d arrays, which we can convert into a 3d numpy array:\n",
    "bootstraps = np.array(bootstraps)"
   ]
  },
  {
   "cell_type": "code",
   "execution_count": 37,
   "metadata": {},
   "outputs": [
    {
     "data": {
      "text/plain": [
       "(1000, 4, 4)"
      ]
     },
     "execution_count": 37,
     "metadata": {},
     "output_type": "execute_result"
    }
   ],
   "source": [
    "bootstraps.shape"
   ]
  },
  {
   "cell_type": "markdown",
   "metadata": {},
   "source": [
    "These have a highly suitable mean:"
   ]
  },
  {
   "cell_type": "code",
   "execution_count": 38,
   "metadata": {},
   "outputs": [
    {
     "data": {
      "text/html": [
       "<div>\n",
       "<style scoped>\n",
       "    .dataframe tbody tr th:only-of-type {\n",
       "        vertical-align: middle;\n",
       "    }\n",
       "\n",
       "    .dataframe tbody tr th {\n",
       "        vertical-align: top;\n",
       "    }\n",
       "\n",
       "    .dataframe thead th {\n",
       "        text-align: right;\n",
       "    }\n",
       "</style>\n",
       "<table border=\"1\" class=\"dataframe\">\n",
       "  <thead>\n",
       "    <tr style=\"text-align: right;\">\n",
       "      <th></th>\n",
       "      <th>0</th>\n",
       "      <th>1</th>\n",
       "      <th>2</th>\n",
       "      <th>3</th>\n",
       "    </tr>\n",
       "  </thead>\n",
       "  <tbody>\n",
       "    <tr>\n",
       "      <th>0</th>\n",
       "      <td>4.100310e+04</td>\n",
       "      <td>1.665754e+05</td>\n",
       "      <td>2.623408e+09</td>\n",
       "      <td>3.679340e+04</td>\n",
       "    </tr>\n",
       "    <tr>\n",
       "      <th>1</th>\n",
       "      <td>1.665754e+05</td>\n",
       "      <td>8.606385e+05</td>\n",
       "      <td>1.314184e+10</td>\n",
       "      <td>2.020977e+05</td>\n",
       "    </tr>\n",
       "    <tr>\n",
       "      <th>2</th>\n",
       "      <td>2.623408e+09</td>\n",
       "      <td>1.314184e+10</td>\n",
       "      <td>2.078313e+14</td>\n",
       "      <td>3.201699e+09</td>\n",
       "    </tr>\n",
       "    <tr>\n",
       "      <th>3</th>\n",
       "      <td>3.679340e+04</td>\n",
       "      <td>2.020977e+05</td>\n",
       "      <td>3.201699e+09</td>\n",
       "      <td>5.287680e+04</td>\n",
       "    </tr>\n",
       "  </tbody>\n",
       "</table>\n",
       "</div>"
      ],
      "text/plain": [
       "              0             1             2             3\n",
       "0  4.100310e+04  1.665754e+05  2.623408e+09  3.679340e+04\n",
       "1  1.665754e+05  8.606385e+05  1.314184e+10  2.020977e+05\n",
       "2  2.623408e+09  1.314184e+10  2.078313e+14  3.201699e+09\n",
       "3  3.679340e+04  2.020977e+05  3.201699e+09  5.287680e+04"
      ]
     },
     "execution_count": 38,
     "metadata": {},
     "output_type": "execute_result"
    }
   ],
   "source": [
    "show(np.mean(bootstraps, axis=0))"
   ]
  },
  {
   "cell_type": "markdown",
   "metadata": {
    "slideshow": {
     "slide_type": "subslide"
    }
   },
   "source": [
    "Our theory tells us that: \n",
    "\n",
    " * the standard deviations of the elements of `bootstraps` \n",
    " * is an estimate \n",
    " * of the standard deviation of the population covariance matrix, itself.\n",
    "\n",
    "OK, then lets take a look at these standard deviations:"
   ]
  },
  {
   "cell_type": "code",
   "execution_count": 39,
   "metadata": {},
   "outputs": [
    {
     "data": {
      "text/html": [
       "<div>\n",
       "<style scoped>\n",
       "    .dataframe tbody tr th:only-of-type {\n",
       "        vertical-align: middle;\n",
       "    }\n",
       "\n",
       "    .dataframe tbody tr th {\n",
       "        vertical-align: top;\n",
       "    }\n",
       "\n",
       "    .dataframe thead th {\n",
       "        text-align: right;\n",
       "    }\n",
       "</style>\n",
       "<table border=\"1\" class=\"dataframe\">\n",
       "  <thead>\n",
       "    <tr style=\"text-align: right;\">\n",
       "      <th></th>\n",
       "      <th>0</th>\n",
       "      <th>1</th>\n",
       "      <th>2</th>\n",
       "      <th>3</th>\n",
       "    </tr>\n",
       "  </thead>\n",
       "  <tbody>\n",
       "    <tr>\n",
       "      <th>0</th>\n",
       "      <td>214.1</td>\n",
       "      <td>628.7</td>\n",
       "      <td>8928735.0</td>\n",
       "      <td>108.8</td>\n",
       "    </tr>\n",
       "    <tr>\n",
       "      <th>1</th>\n",
       "      <td>628.7</td>\n",
       "      <td>2197.6</td>\n",
       "      <td>17040450.3</td>\n",
       "      <td>479.0</td>\n",
       "    </tr>\n",
       "    <tr>\n",
       "      <th>2</th>\n",
       "      <td>8928735.0</td>\n",
       "      <td>17040450.3</td>\n",
       "      <td>374218398.9</td>\n",
       "      <td>6113053.6</td>\n",
       "    </tr>\n",
       "    <tr>\n",
       "      <th>3</th>\n",
       "      <td>108.8</td>\n",
       "      <td>479.0</td>\n",
       "      <td>6113053.6</td>\n",
       "      <td>218.0</td>\n",
       "    </tr>\n",
       "  </tbody>\n",
       "</table>\n",
       "</div>"
      ],
      "text/plain": [
       "           0           1            2          3\n",
       "0      214.1       628.7    8928735.0      108.8\n",
       "1      628.7      2197.6   17040450.3      479.0\n",
       "2  8928735.0  17040450.3  374218398.9  6113053.6\n",
       "3      108.8       479.0    6113053.6      218.0"
      ]
     },
     "execution_count": 39,
     "metadata": {},
     "output_type": "execute_result"
    }
   ],
   "source": [
    "show(np.std(bootstraps, axis=0))"
   ]
  }
 ],
 "metadata": {
  "celltoolbar": "Slideshow",
  "kernelspec": {
   "display_name": "Python 3",
   "language": "python",
   "name": "python3"
  },
  "language_info": {
   "codemirror_mode": {
    "name": "ipython",
    "version": 3
   },
   "file_extension": ".py",
   "mimetype": "text/x-python",
   "name": "python",
   "nbconvert_exporter": "python",
   "pygments_lexer": "ipython3",
   "version": "3.6.10"
  }
 },
 "nbformat": 4,
 "nbformat_minor": 4
}
