{
 "cells": [
  {
   "cell_type": "markdown",
   "metadata": {
    "slideshow": {
     "slide_type": "slide"
    }
   },
   "source": [
    "# Advances in Machine Learning with Big Data\n",
    "\n",
    "### (part 1 of 2) \n",
    "### Trinity 2020 Weeks 1 - 4\n",
    "### Dr Jeremy Large\n",
    "#### jeremy.large@economics.ox.ac.uk\n",
    "\n",
    "\n",
    "&#169; Jeremy Large ; shared under [CC BY-NC-ND 4.0](https://creativecommons.org/licenses/by-nc-nd/4.0/)"
   ]
  },
  {
   "cell_type": "markdown",
   "metadata": {
    "slideshow": {
     "slide_type": "slide"
    }
   },
   "source": [
    "## 2. Being an econometrician *and* a data scientist"
   ]
  },
  {
   "cell_type": "markdown",
   "metadata": {
    "slideshow": {
     "slide_type": "slide"
    }
   },
   "source": [
    "## Contents Weeks 1-4:\n",
    "\n",
    "1. Introducing this course's dataset\n",
    "\n",
    "1. **Being an econometrician _and_ a data scientist**\n",
    "\n",
    "1. Data abundance and 'jaggedness' -> regularization and the problem of overfit\n",
    "\n",
    "1. Regularization through resampling methods (bootstrap etc.)\n",
    "\n",
    "1. Regularization through predictor/feature selection (Lasso etc.)\n",
    "\n",
    "1. Moving from linear regression to the perceptron\n",
    "\n",
    "1. Moving from linear regression to the random forest (and similar)"
   ]
  },
  {
   "cell_type": "code",
   "execution_count": 1,
   "metadata": {
    "slideshow": {
     "slide_type": "skip"
    }
   },
   "outputs": [
    {
     "name": "stdout",
     "output_type": "stream",
     "text": [
      "Populating the interactive namespace from numpy and matplotlib\n"
     ]
    }
   ],
   "source": [
    "%load_ext autoreload\n",
    "%autoreload 2\n",
    "%pylab inline\n",
    "\n",
    "import sys, os\n",
    "import logging\n",
    "logging.basicConfig(format='%(asctime)s %(levelname)s:%(message)s', level=logging.INFO)\n",
    "\n",
    "# point at library; I need some lessons on doing good PYTHONPATHs:\n",
    "REPO_DIR = os.path.dirname(os.getcwd())\n",
    "\n",
    "UCI_LIB = os.path.join(REPO_DIR, 'lib')\n",
    "UCI_DATA = os.path.join(REPO_DIR, 'data') \n",
    "\n",
    "sys.path.append(UCI_LIB)\n",
    "\n",
    "UCI_DATA_FILE = os.path.join(UCI_DATA, 'raw.csv') \n",
    "\n",
    "from uci_retail_data import stock_codes, uci_files "
   ]
  },
  {
   "cell_type": "markdown",
   "metadata": {
    "slideshow": {
     "slide_type": "slide"
    }
   },
   "source": [
    "### Pull in and prepare our data"
   ]
  },
  {
   "cell_type": "code",
   "execution_count": 2,
   "metadata": {},
   "outputs": [
    {
     "name": "stderr",
     "output_type": "stream",
     "text": [
      "2020-04-10 10:47:37,702 INFO:Loading C:\\Users\\jerem\\Documents\\work\\Oxford\\SBS\\MLBD\\ox-sbs-ml-bd\\data\\raw.csv , sheet Year 2009-2010\n",
      "2020-04-10 10:47:40,419 INFO:Loaded C:\\Users\\jerem\\Documents\\work\\Oxford\\SBS\\MLBD\\ox-sbs-ml-bd\\data\\raw.csv , sheet number one, obviously\n"
     ]
    }
   ],
   "source": [
    "if os.path.exists(UCI_DATA_FILE):\n",
    "    df = uci_files.load_uci_file(UCI_DATA_FILE, uci_files.SHEET_NAME)\n",
    "else:\n",
    "    df = uci_files.load_uci_file(uci_files.REMOTE_FILE, uci_files.SHEET_NAME)\n",
    "    df.to_csv(UCI_DATA_FILE)\n",
    "    logging.info('Saving a copy to ' + UCI_DATA_FILE)"
   ]
  },
  {
   "cell_type": "markdown",
   "metadata": {},
   "source": [
    "Clean data:"
   ]
  },
  {
   "cell_type": "code",
   "execution_count": 3,
   "metadata": {},
   "outputs": [],
   "source": [
    "# Here, I call the irrelevant lines 'invalids':\n",
    "invalids = stock_codes.invalid_series(df)"
   ]
  },
  {
   "cell_type": "markdown",
   "metadata": {},
   "source": [
    "Aggregate into invoices:"
   ]
  },
  {
   "cell_type": "code",
   "execution_count": 4,
   "metadata": {},
   "outputs": [],
   "source": [
    "invoices = stock_codes.invoice_df(df, invalid_series=invalids)"
   ]
  },
  {
   "cell_type": "code",
   "execution_count": 5,
   "metadata": {
    "slideshow": {
     "slide_type": "subslide"
    }
   },
   "outputs": [
    {
     "data": {
      "text/html": [
       "<div>\n",
       "<style scoped>\n",
       "    .dataframe tbody tr th:only-of-type {\n",
       "        vertical-align: middle;\n",
       "    }\n",
       "\n",
       "    .dataframe tbody tr th {\n",
       "        vertical-align: top;\n",
       "    }\n",
       "\n",
       "    .dataframe thead th {\n",
       "        text-align: right;\n",
       "    }\n",
       "</style>\n",
       "<table border=\"1\" class=\"dataframe\">\n",
       "  <thead>\n",
       "    <tr style=\"text-align: right;\">\n",
       "      <th></th>\n",
       "      <th>customer</th>\n",
       "      <th>codes_in_invoice</th>\n",
       "      <th>items_in_invoice</th>\n",
       "      <th>invoice_spend</th>\n",
       "      <th>hour</th>\n",
       "      <th>month</th>\n",
       "      <th>words</th>\n",
       "      <th>country</th>\n",
       "      <th>words_per_item</th>\n",
       "    </tr>\n",
       "    <tr>\n",
       "      <th>Invoice</th>\n",
       "      <th></th>\n",
       "      <th></th>\n",
       "      <th></th>\n",
       "      <th></th>\n",
       "      <th></th>\n",
       "      <th></th>\n",
       "      <th></th>\n",
       "      <th></th>\n",
       "      <th></th>\n",
       "    </tr>\n",
       "  </thead>\n",
       "  <tbody>\n",
       "    <tr>\n",
       "      <th>489434</th>\n",
       "      <td>13085.0</td>\n",
       "      <td>8</td>\n",
       "      <td>166</td>\n",
       "      <td>505.3</td>\n",
       "      <td>7</td>\n",
       "      <td>200912</td>\n",
       "      <td>{DOUGHNUT, FONT, SAVE, BOX, RECORD, 7\", SIZE, ...</td>\n",
       "      <td>United Kingdom</td>\n",
       "      <td>3.625</td>\n",
       "    </tr>\n",
       "    <tr>\n",
       "      <th>489435</th>\n",
       "      <td>13085.0</td>\n",
       "      <td>4</td>\n",
       "      <td>60</td>\n",
       "      <td>145.8</td>\n",
       "      <td>7</td>\n",
       "      <td>200912</td>\n",
       "      <td>{LARGE, FAIRY, BOWL, WITH, HEART, DOG, DESIGN,...</td>\n",
       "      <td>United Kingdom</td>\n",
       "      <td>4.000</td>\n",
       "    </tr>\n",
       "  </tbody>\n",
       "</table>\n",
       "</div>"
      ],
      "text/plain": [
       "         customer  codes_in_invoice  items_in_invoice  invoice_spend  hour  \\\n",
       "Invoice                                                                      \n",
       "489434    13085.0                 8               166          505.3     7   \n",
       "489435    13085.0                 4                60          145.8     7   \n",
       "\n",
       "          month                                              words  \\\n",
       "Invoice                                                              \n",
       "489434   200912  {DOUGHNUT, FONT, SAVE, BOX, RECORD, 7\", SIZE, ...   \n",
       "489435   200912  {LARGE, FAIRY, BOWL, WITH, HEART, DOG, DESIGN,...   \n",
       "\n",
       "                country  words_per_item  \n",
       "Invoice                                  \n",
       "489434   United Kingdom           3.625  \n",
       "489435   United Kingdom           4.000  "
      ]
     },
     "execution_count": 5,
     "metadata": {},
     "output_type": "execute_result"
    }
   ],
   "source": [
    "invoices.head(2)"
   ]
  },
  {
   "cell_type": "code",
   "execution_count": 6,
   "metadata": {},
   "outputs": [
    {
     "data": {
      "text/html": [
       "<div>\n",
       "<style scoped>\n",
       "    .dataframe tbody tr th:only-of-type {\n",
       "        vertical-align: middle;\n",
       "    }\n",
       "\n",
       "    .dataframe tbody tr th {\n",
       "        vertical-align: top;\n",
       "    }\n",
       "\n",
       "    .dataframe thead th {\n",
       "        text-align: right;\n",
       "    }\n",
       "</style>\n",
       "<table border=\"1\" class=\"dataframe\">\n",
       "  <thead>\n",
       "    <tr style=\"text-align: right;\">\n",
       "      <th></th>\n",
       "      <th>customer</th>\n",
       "      <th>codes_in_invoice</th>\n",
       "      <th>items_in_invoice</th>\n",
       "      <th>invoice_spend</th>\n",
       "      <th>hour</th>\n",
       "      <th>month</th>\n",
       "      <th>words</th>\n",
       "      <th>country</th>\n",
       "      <th>words_per_item</th>\n",
       "    </tr>\n",
       "    <tr>\n",
       "      <th>Invoice</th>\n",
       "      <th></th>\n",
       "      <th></th>\n",
       "      <th></th>\n",
       "      <th></th>\n",
       "      <th></th>\n",
       "      <th></th>\n",
       "      <th></th>\n",
       "      <th></th>\n",
       "      <th></th>\n",
       "    </tr>\n",
       "  </thead>\n",
       "  <tbody>\n",
       "    <tr>\n",
       "      <th>538170</th>\n",
       "      <td>13969.0</td>\n",
       "      <td>25</td>\n",
       "      <td>133</td>\n",
       "      <td>317.59</td>\n",
       "      <td>19</td>\n",
       "      <td>201012</td>\n",
       "      <td>{BLACK, LIGHTS, LARGE, FANNY'S, HOUSE, VINTAGE...</td>\n",
       "      <td>United Kingdom</td>\n",
       "      <td>2.92</td>\n",
       "    </tr>\n",
       "    <tr>\n",
       "      <th>538171</th>\n",
       "      <td>17530.0</td>\n",
       "      <td>65</td>\n",
       "      <td>194</td>\n",
       "      <td>300.64</td>\n",
       "      <td>20</td>\n",
       "      <td>201012</td>\n",
       "      <td>{MORE, PLAYHOUSE, HEARTS, MAKE, PLACE, DECORAT...</td>\n",
       "      <td>United Kingdom</td>\n",
       "      <td>2.20</td>\n",
       "    </tr>\n",
       "  </tbody>\n",
       "</table>\n",
       "</div>"
      ],
      "text/plain": [
       "         customer  codes_in_invoice  items_in_invoice  invoice_spend  hour  \\\n",
       "Invoice                                                                      \n",
       "538170    13969.0                25               133         317.59    19   \n",
       "538171    17530.0                65               194         300.64    20   \n",
       "\n",
       "          month                                              words  \\\n",
       "Invoice                                                              \n",
       "538170   201012  {BLACK, LIGHTS, LARGE, FANNY'S, HOUSE, VINTAGE...   \n",
       "538171   201012  {MORE, PLAYHOUSE, HEARTS, MAKE, PLACE, DECORAT...   \n",
       "\n",
       "                country  words_per_item  \n",
       "Invoice                                  \n",
       "538170   United Kingdom            2.92  \n",
       "538171   United Kingdom            2.20  "
      ]
     },
     "execution_count": 6,
     "metadata": {},
     "output_type": "execute_result"
    }
   ],
   "source": [
    "invoices.tail(2)"
   ]
  },
  {
   "cell_type": "code",
   "execution_count": 7,
   "metadata": {
    "slideshow": {
     "slide_type": "subslide"
    }
   },
   "outputs": [
    {
     "name": "stdout",
     "output_type": "stream",
     "text": [
      "<class 'pandas.core.frame.DataFrame'>\n",
      "Index: 20577 entries, 489434 to 538171\n",
      "Data columns (total 9 columns):\n",
      " #   Column            Non-Null Count  Dtype  \n",
      "---  ------            --------------  -----  \n",
      " 0   customer          18969 non-null  float64\n",
      " 1   codes_in_invoice  20577 non-null  int64  \n",
      " 2   items_in_invoice  20577 non-null  int64  \n",
      " 3   invoice_spend     20577 non-null  float64\n",
      " 4   hour              20577 non-null  int64  \n",
      " 5   month             20577 non-null  int64  \n",
      " 6   words             20577 non-null  object \n",
      " 7   country           20577 non-null  object \n",
      " 8   words_per_item    20577 non-null  float64\n",
      "dtypes: float64(3), int64(4), object(2)\n",
      "memory usage: 1.6+ MB\n"
     ]
    }
   ],
   "source": [
    "invoices.info()"
   ]
  },
  {
   "cell_type": "markdown",
   "metadata": {
    "slideshow": {
     "slide_type": "slide"
    }
   },
   "source": [
    "### Set a prediction problem:"
   ]
  },
  {
   "cell_type": "markdown",
   "metadata": {},
   "source": [
    "**Given the time, date, and complexity of an invoice, what's its expected spend?**\n",
    "\n",
    "First, we'll attack this in a familiar way: using, as best we can, *linear regression*. \n",
    "\n",
    "*  However, we'll take time to compare two suitable `python` libraries for this."
   ]
  },
  {
   "cell_type": "markdown",
   "metadata": {
    "slideshow": {
     "slide_type": "subslide"
    }
   },
   "source": [
    "### 1. [`statsmodels`](https://www.statsmodels.org/stable/index.html)\n",
    "\n",
    "* package for established statistics; has [some of the feel](https://www.statsmodels.org/stable/example_formulas.html) of R\n",
    "\n",
    "* *statsmodels: Econometric and statistical modeling with python* Seabold, Skipper, and Josef Perktold. Proceedings of the 9th Python in Science Conference, 2010.\n",
    "\n",
    "* funded at [Google Summer of Code (GSOC) 2009-2017](https://summerofcode.withgoogle.com/) and by hedge fund [AQR](https://www.aqr.com)      "
   ]
  },
  {
   "cell_type": "markdown",
   "metadata": {
    "slideshow": {
     "slide_type": "fragment"
    }
   },
   "source": [
    "### 2. [`scikit-learn`](https://scikit-learn.org/stable/index.html)\n",
    "\n",
    "* package for machine learning\n",
    "\n",
    "* *Scikit-learn: Machine Learning in Python*, Pedregosa et al., JMLR 12, pp. 2825-2830, 2011.\n",
    "\n",
    "They both do linear regression."
   ]
  },
  {
   "cell_type": "raw",
   "metadata": {
    "slideshow": {
     "slide_type": "skip"
    }
   },
   "source": [
    "Note - here's the bibtex references for scikit-learn and for statsmodels:\n",
    "\n",
    "@article{scikit-learn,\n",
    " title={Scikit-learn: Machine Learning in {P}ython},\n",
    " author={Pedregosa, F. and Varoquaux, G. and Gramfort, A. and Michel, V.\n",
    "         and Thirion, B. and Grisel, O. and Blondel, M. and Prettenhofer, P.\n",
    "         and Weiss, R. and Dubourg, V. and Vanderplas, J. and Passos, A. and\n",
    "         Cournapeau, D. and Brucher, M. and Perrot, M. and Duchesnay, E.},\n",
    " journal={Journal of Machine Learning Research},\n",
    " volume={12},\n",
    " pages={2825--2830},\n",
    " year={2011}\n",
    "}\n",
    "\n",
    "@inproceedings{seabold2010statsmodels,\n",
    "  title={statsmodels: Econometric and statistical modeling with python},\n",
    "  author={Seabold, Skipper and Perktold, Josef},\n",
    "  booktitle={9th Python in Science Conference},\n",
    "  year={2010},\n",
    "}"
   ]
  },
  {
   "cell_type": "markdown",
   "metadata": {
    "slideshow": {
     "slide_type": "slide"
    }
   },
   "source": [
    "#### Lets import statsmodels / scikit-learn and packages that they use:"
   ]
  },
  {
   "cell_type": "code",
   "execution_count": 8,
   "metadata": {},
   "outputs": [],
   "source": [
    "import numpy as np    # fast handling of matrices of real numbers, and similar\n",
    "\n",
    "import pandas as pd     # great tool for wielding and combining rectangular datasets with varied, named, columns\n",
    "\n",
    "\n",
    "\n",
    "import sklearn\n",
    "\n",
    "import statsmodels"
   ]
  },
  {
   "cell_type": "code",
   "execution_count": 8,
   "metadata": {
    "slideshow": {
     "slide_type": "fragment"
    }
   },
   "outputs": [],
   "source": [
    "# in both cases, we will have to import specifically the bits of the package that we need, for example:\n",
    "import statsmodels.formula.api as smf"
   ]
  },
  {
   "cell_type": "markdown",
   "metadata": {
    "slideshow": {
     "slide_type": "slide"
    }
   },
   "source": [
    "#### Reminder of linear regression:"
   ]
  },
  {
   "cell_type": "markdown",
   "metadata": {},
   "source": [
    "We have an i.i.d. sequence of observations, $\\{(y_i, x_i), i=0, 1, ...\\}$ where we are interested in moments of the R.V. $y_i$, conditional on the multivariate R.V.  $x_i$ (of length, say, $p$). \n",
    "\n",
    "We *postulate* a linear relationship of the following form:\n",
    "\n",
    "\\begin{equation}\n",
    "y_i = x_i ' \\beta + \\epsilon_i,\n",
    "\\end{equation}\n",
    "where $\\beta$ is a vector of parameters of length $p$, and the i.i.d. sequence of random variables $\\{\\epsilon_i\\}$ is independent of the regressors $\\{x_i\\}$"
   ]
  },
  {
   "cell_type": "markdown",
   "metadata": {
    "slideshow": {
     "slide_type": "fragment"
    }
   },
   "source": [
    "#### A personal story:\n",
    "\n",
    "Now, what do I mean here by the word: *'postulate'*? \n",
    "\n",
    "For the econometrician in me, it means I *sincerely assert*.\n",
    "\n",
    "For the machine learner in me, I'm not sure that's quite it. It's more that - pragmatically - I entertain this model.\n",
    "\n",
    "* an important part of this course will be to flesh-out this comparison"
   ]
  },
  {
   "cell_type": "markdown",
   "metadata": {
    "slideshow": {
     "slide_type": "slide"
    }
   },
   "source": [
    "#### 1. Fitting a linear regression with `statsmodels`\n",
    "\n",
    "Describe the model in natural statistician's terms:"
   ]
  },
  {
   "cell_type": "code",
   "execution_count": 9,
   "metadata": {},
   "outputs": [],
   "source": [
    "formula_string = 'np.log(invoice_spend) ~ np.log(codes_in_invoice) + np.log(items_in_invoice) + hour + month + words_per_item'"
   ]
  },
  {
   "cell_type": "markdown",
   "metadata": {},
   "source": [
    "Specify that the model is OLS:"
   ]
  },
  {
   "cell_type": "code",
   "execution_count": 10,
   "metadata": {},
   "outputs": [],
   "source": [
    "lm1 = smf.ols(formula=formula_string, data=invoices)"
   ]
  },
  {
   "cell_type": "markdown",
   "metadata": {},
   "source": [
    "Common, pythonic, step, next, namely to `fit()`:"
   ]
  },
  {
   "cell_type": "code",
   "execution_count": 11,
   "metadata": {},
   "outputs": [],
   "source": [
    "fit = lm1.fit()"
   ]
  },
  {
   "cell_type": "code",
   "execution_count": 12,
   "metadata": {
    "slideshow": {
     "slide_type": "subslide"
    }
   },
   "outputs": [
    {
     "data": {
      "text/html": [
       "<table class=\"simpletable\">\n",
       "<caption>OLS Regression Results</caption>\n",
       "<tr>\n",
       "  <th>Dep. Variable:</th>    <td>np.log(invoice_spend)</td> <th>  R-squared:         </th> <td>   0.815</td> \n",
       "</tr>\n",
       "<tr>\n",
       "  <th>Model:</th>                     <td>OLS</td>          <th>  Adj. R-squared:    </th> <td>   0.815</td> \n",
       "</tr>\n",
       "<tr>\n",
       "  <th>Method:</th>               <td>Least Squares</td>     <th>  F-statistic:       </th> <td>1.813e+04</td>\n",
       "</tr>\n",
       "<tr>\n",
       "  <th>Date:</th>               <td>Fri, 10 Apr 2020</td>    <th>  Prob (F-statistic):</th>  <td>  0.00</td>  \n",
       "</tr>\n",
       "<tr>\n",
       "  <th>Time:</th>                   <td>10:50:04</td>        <th>  Log-Likelihood:    </th> <td> -16469.</td> \n",
       "</tr>\n",
       "<tr>\n",
       "  <th>No. Observations:</th>        <td> 20577</td>         <th>  AIC:               </th> <td>3.295e+04</td>\n",
       "</tr>\n",
       "<tr>\n",
       "  <th>Df Residuals:</th>            <td> 20571</td>         <th>  BIC:               </th> <td>3.300e+04</td>\n",
       "</tr>\n",
       "<tr>\n",
       "  <th>Df Model:</th>                <td>     5</td>         <th>                     </th>     <td> </td>    \n",
       "</tr>\n",
       "<tr>\n",
       "  <th>Covariance Type:</th>        <td>nonrobust</td>       <th>                     </th>     <td> </td>    \n",
       "</tr>\n",
       "</table>\n",
       "<table class=\"simpletable\">\n",
       "<tr>\n",
       "              <td></td>                <th>coef</th>     <th>std err</th>      <th>t</th>      <th>P>|t|</th>  <th>[0.025</th>    <th>0.975]</th>  \n",
       "</tr>\n",
       "<tr>\n",
       "  <th>Intercept</th>                <td>   29.2646</td> <td>   29.005</td> <td>    1.009</td> <td> 0.313</td> <td>  -27.587</td> <td>   86.116</td>\n",
       "</tr>\n",
       "<tr>\n",
       "  <th>np.log(codes_in_invoice)</th> <td>    0.1440</td> <td>    0.005</td> <td>   31.038</td> <td> 0.000</td> <td>    0.135</td> <td>    0.153</td>\n",
       "</tr>\n",
       "<tr>\n",
       "  <th>np.log(items_in_invoice)</th> <td>    0.7087</td> <td>    0.003</td> <td>  215.811</td> <td> 0.000</td> <td>    0.702</td> <td>    0.715</td>\n",
       "</tr>\n",
       "<tr>\n",
       "  <th>hour</th>                     <td>   -0.0122</td> <td>    0.002</td> <td>   -7.733</td> <td> 0.000</td> <td>   -0.015</td> <td>   -0.009</td>\n",
       "</tr>\n",
       "<tr>\n",
       "  <th>month</th>                    <td>   -0.0001</td> <td>    0.000</td> <td>   -0.945</td> <td> 0.345</td> <td>   -0.000</td> <td>    0.000</td>\n",
       "</tr>\n",
       "<tr>\n",
       "  <th>words_per_item</th>           <td>    0.0168</td> <td>    0.006</td> <td>    2.691</td> <td> 0.007</td> <td>    0.005</td> <td>    0.029</td>\n",
       "</tr>\n",
       "</table>\n",
       "<table class=\"simpletable\">\n",
       "<tr>\n",
       "  <th>Omnibus:</th>       <td>2692.737</td> <th>  Durbin-Watson:     </th> <td>   1.891</td> \n",
       "</tr>\n",
       "<tr>\n",
       "  <th>Prob(Omnibus):</th>  <td> 0.000</td>  <th>  Jarque-Bera (JB):  </th> <td>19904.742</td>\n",
       "</tr>\n",
       "<tr>\n",
       "  <th>Skew:</th>           <td> 0.405</td>  <th>  Prob(JB):          </th> <td>    0.00</td> \n",
       "</tr>\n",
       "<tr>\n",
       "  <th>Kurtosis:</th>       <td> 7.750</td>  <th>  Cond. No.          </th> <td>1.55e+09</td> \n",
       "</tr>\n",
       "</table><br/><br/>Warnings:<br/>[1] Standard Errors assume that the covariance matrix of the errors is correctly specified.<br/>[2] The condition number is large, 1.55e+09. This might indicate that there are<br/>strong multicollinearity or other numerical problems."
      ],
      "text/plain": [
       "<class 'statsmodels.iolib.summary.Summary'>\n",
       "\"\"\"\n",
       "                              OLS Regression Results                             \n",
       "=================================================================================\n",
       "Dep. Variable:     np.log(invoice_spend)   R-squared:                       0.815\n",
       "Model:                               OLS   Adj. R-squared:                  0.815\n",
       "Method:                    Least Squares   F-statistic:                 1.813e+04\n",
       "Date:                   Fri, 10 Apr 2020   Prob (F-statistic):               0.00\n",
       "Time:                           10:50:04   Log-Likelihood:                -16469.\n",
       "No. Observations:                  20577   AIC:                         3.295e+04\n",
       "Df Residuals:                      20571   BIC:                         3.300e+04\n",
       "Df Model:                              5                                         \n",
       "Covariance Type:               nonrobust                                         \n",
       "============================================================================================\n",
       "                               coef    std err          t      P>|t|      [0.025      0.975]\n",
       "--------------------------------------------------------------------------------------------\n",
       "Intercept                   29.2646     29.005      1.009      0.313     -27.587      86.116\n",
       "np.log(codes_in_invoice)     0.1440      0.005     31.038      0.000       0.135       0.153\n",
       "np.log(items_in_invoice)     0.7087      0.003    215.811      0.000       0.702       0.715\n",
       "hour                        -0.0122      0.002     -7.733      0.000      -0.015      -0.009\n",
       "month                       -0.0001      0.000     -0.945      0.345      -0.000       0.000\n",
       "words_per_item               0.0168      0.006      2.691      0.007       0.005       0.029\n",
       "==============================================================================\n",
       "Omnibus:                     2692.737   Durbin-Watson:                   1.891\n",
       "Prob(Omnibus):                  0.000   Jarque-Bera (JB):            19904.742\n",
       "Skew:                           0.405   Prob(JB):                         0.00\n",
       "Kurtosis:                       7.750   Cond. No.                     1.55e+09\n",
       "==============================================================================\n",
       "\n",
       "Warnings:\n",
       "[1] Standard Errors assume that the covariance matrix of the errors is correctly specified.\n",
       "[2] The condition number is large, 1.55e+09. This might indicate that there are\n",
       "strong multicollinearity or other numerical problems.\n",
       "\"\"\""
      ]
     },
     "execution_count": 12,
     "metadata": {},
     "output_type": "execute_result"
    }
   ],
   "source": [
    "fit.summary()"
   ]
  },
  {
   "cell_type": "markdown",
   "metadata": {},
   "source": [
    "The 'condition number' refers to $X'X$ -- and indicates how stably we can expect to invert that matrix"
   ]
  },
  {
   "cell_type": "markdown",
   "metadata": {
    "slideshow": {
     "slide_type": "slide"
    }
   },
   "source": [
    "#### Comments on linear regression with `statsmodels`\n",
    "\n",
    "* Thorough implementation of linear regression, elegant presentation, including tests:\n",
    "    * significance tests (t-stats, F-tests, p-values, ...)\n",
    "    * specification tests"
   ]
  },
  {
   "cell_type": "markdown",
   "metadata": {
    "slideshow": {
     "slide_type": "fragment"
    }
   },
   "source": [
    "* Imagine these tests pass (though they don't here)\n",
    "    * we may conclude that we now *know* the Data Generating Process\n",
    "       * our parametric modelling has been successful\n",
    "    * we understand statistical aspects of the mechanisms out there\n",
    "    * -> we are in a position to offer *explanations* of past, present and future observation\n",
    "    "
   ]
  },
  {
   "cell_type": "markdown",
   "metadata": {
    "slideshow": {
     "slide_type": "fragment"
    }
   },
   "source": [
    "* All the data has been used in fitting the regression\n",
    "    * like e.g. MLEs, resulting estimates are statistically *efficient*.\n",
    "    * But, to use up all the data like that:\n",
    "      * was that greedy?\n",
    "      * was it prudent?"
   ]
  },
  {
   "cell_type": "markdown",
   "metadata": {
    "slideshow": {
     "slide_type": "slide"
    }
   },
   "source": [
    "#### 2. Fitting a linear regression with `scikit-learn`\n",
    "\n",
    "For `scikit-learn`, we'll have to build some additional columns in our dataframe:"
   ]
  },
  {
   "cell_type": "code",
   "execution_count": 13,
   "metadata": {},
   "outputs": [],
   "source": [
    "invoices['hour_sqd'] = invoices.hour**2\n",
    "invoices['log_inv_spend'] = np.log(invoices.invoice_spend)\n",
    "invoices['log_n_codes'] = np.log(invoices.codes_in_invoice)\n",
    "invoices['log_n_items'] = np.log(invoices.items_in_invoice)"
   ]
  },
  {
   "cell_type": "code",
   "execution_count": 14,
   "metadata": {},
   "outputs": [
    {
     "data": {
      "text/plain": [
       "'np.log(invoice_spend) ~ np.log(codes_in_invoice) + np.log(items_in_invoice) + hour + month + words_per_item'"
      ]
     },
     "execution_count": 14,
     "metadata": {},
     "output_type": "execute_result"
    }
   ],
   "source": [
    "# Reminder of the formula:\n",
    "formula_string"
   ]
  },
  {
   "cell_type": "code",
   "execution_count": 15,
   "metadata": {},
   "outputs": [],
   "source": [
    "# Now set out `y` and `X` variables:\n",
    "y = pd.DataFrame(invoices['log_inv_spend'])\n",
    "X = invoices[['log_n_codes', 'log_n_items', 'hour', 'month', 'words_per_item']] # , 'hour_sqd'"
   ]
  },
  {
   "cell_type": "code",
   "execution_count": 16,
   "metadata": {},
   "outputs": [],
   "source": [
    "#  pull in the libraries:\n",
    "from sklearn.linear_model import LinearRegression\n",
    "from sklearn import metrics"
   ]
  },
  {
   "cell_type": "code",
   "execution_count": 17,
   "metadata": {},
   "outputs": [
    {
     "data": {
      "text/plain": [
       "LinearRegression(copy_X=True, fit_intercept=True, n_jobs=None, normalize=False)"
      ]
     },
     "execution_count": 17,
     "metadata": {},
     "output_type": "execute_result"
    }
   ],
   "source": [
    "reg_all = LinearRegression()\n",
    "reg_all.fit(X, y)"
   ]
  },
  {
   "cell_type": "code",
   "execution_count": 18,
   "metadata": {},
   "outputs": [
    {
     "name": "stdout",
     "output_type": "stream",
     "text": [
      "intercept is  [29.26457648]\n",
      "coefficients are  [[ 1.43967271e-01  7.08724911e-01 -1.22246009e-02 -1.36293685e-04\n",
      "   1.67567537e-02]]\n",
      "R2 is  0.8150405334343745\n"
     ]
    }
   ],
   "source": [
    "print('intercept is ', reg_all.intercept_)\n",
    "print('coefficients are ', reg_all.coef_)\n",
    "print('R2 is ', reg_all.score(X, y))"
   ]
  },
  {
   "cell_type": "code",
   "execution_count": null,
   "metadata": {
    "slideshow": {
     "slide_type": "slide"
    }
   },
   "outputs": [],
   "source": []
  },
  {
   "cell_type": "code",
   "execution_count": null,
   "metadata": {
    "slideshow": {
     "slide_type": "slide"
    }
   },
   "outputs": [],
   "source": []
  },
  {
   "cell_type": "code",
   "execution_count": null,
   "metadata": {},
   "outputs": [],
   "source": []
  },
  {
   "cell_type": "code",
   "execution_count": null,
   "metadata": {},
   "outputs": [],
   "source": []
  },
  {
   "cell_type": "code",
   "execution_count": null,
   "metadata": {},
   "outputs": [],
   "source": []
  },
  {
   "cell_type": "code",
   "execution_count": null,
   "metadata": {},
   "outputs": [],
   "source": []
  },
  {
   "cell_type": "code",
   "execution_count": 19,
   "metadata": {},
   "outputs": [],
   "source": [
    "reg = LinearRegression()\n",
    "scores = []"
   ]
  },
  {
   "cell_type": "code",
   "execution_count": 20,
   "metadata": {},
   "outputs": [],
   "source": [
    "from sklearn import inspection\n",
    "from sklearn.model_selection import KFold"
   ]
  },
  {
   "cell_type": "code",
   "execution_count": null,
   "metadata": {},
   "outputs": [],
   "source": []
  },
  {
   "cell_type": "code",
   "execution_count": 21,
   "metadata": {},
   "outputs": [],
   "source": [
    "#  \n",
    "kfold = KFold(n_splits=10, shuffle=True)"
   ]
  },
  {
   "cell_type": "code",
   "execution_count": 22,
   "metadata": {},
   "outputs": [],
   "source": [
    "for i, (train, test) in enumerate(kfold.split(X, y)):\n",
    "    reg.fit(X.iloc[train], y.iloc[train])\n",
    "    score = reg.score(X.iloc[test], y.iloc[test])\n",
    "    pred = reg.predict(X.iloc[test])\n",
    "    r2 = metrics.r2_score(y.iloc[test], pred)\n",
    "    scores.append(r2)"
   ]
  },
  {
   "cell_type": "code",
   "execution_count": 23,
   "metadata": {},
   "outputs": [
    {
     "ename": "SyntaxError",
     "evalue": "invalid syntax (<ipython-input-23-eb92a3c8d270>, line 2)",
     "output_type": "error",
     "traceback": [
      "\u001b[1;36m  File \u001b[1;32m\"<ipython-input-23-eb92a3c8d270>\"\u001b[1;36m, line \u001b[1;32m2\u001b[0m\n\u001b[1;33m    plt.xaxis(different splits of )\u001b[0m\n\u001b[1;37m                             ^\u001b[0m\n\u001b[1;31mSyntaxError\u001b[0m\u001b[1;31m:\u001b[0m invalid syntax\n"
     ]
    }
   ],
   "source": [
    "plt.plot(scores)\n",
    "plt.xaxis(\"different splits of \"\")\n",
    "plt.show()"
   ]
  },
  {
   "cell_type": "code",
   "execution_count": null,
   "metadata": {},
   "outputs": [],
   "source": [
    "reg = LinearRegression()"
   ]
  }
 ],
 "metadata": {
  "celltoolbar": "Slideshow",
  "kernelspec": {
   "display_name": "Python 3",
   "language": "python",
   "name": "python3"
  },
  "language_info": {
   "codemirror_mode": {
    "name": "ipython",
    "version": 3
   },
   "file_extension": ".py",
   "mimetype": "text/x-python",
   "name": "python",
   "nbconvert_exporter": "python",
   "pygments_lexer": "ipython3",
   "version": "3.6.10"
  }
 },
 "nbformat": 4,
 "nbformat_minor": 4
}
