{
 "cells": [
  {
   "cell_type": "markdown",
   "metadata": {
    "slideshow": {
     "slide_type": "slide"
    }
   },
   "source": [
    "# Advances in Machine Learning with Big Data\n",
    "\n",
    "### (part 1 of 2) \n",
    "### Trinity 2020 Weeks 1 - 4\n",
    "### Dr Jeremy Large\n",
    "#### jeremy.large@economics.ox.ac.uk\n",
    "\n",
    "\n",
    "&#169; Jeremy Large ; shared under [CC BY-NC-ND 4.0](https://creativecommons.org/licenses/by-nc-nd/4.0/)"
   ]
  },
  {
   "cell_type": "markdown",
   "metadata": {
    "slideshow": {
     "slide_type": "slide"
    }
   },
   "source": [
    "## 2. Being an econometrician *and* a data scientist"
   ]
  },
  {
   "cell_type": "markdown",
   "metadata": {
    "slideshow": {
     "slide_type": "slide"
    }
   },
   "source": [
    "## Contents Weeks 1-4:\n",
    "\n",
    "1. Introducing this course's dataset\n",
    "\n",
    "1. **Being an econometrician _and_ a data scientist**\n",
    "\n",
    "1. Overfit and regularization\n",
    "\n",
    "1. Regularization through predictor/feature selection (Lasso etc.)\n",
    "\n",
    "1. Resampling methods, and model selection\n",
    "\n",
    "1. Decision trees\n",
    "\n",
    "1. Single-layer neural networks"
   ]
  },
  {
   "cell_type": "code",
   "execution_count": 1,
   "metadata": {
    "slideshow": {
     "slide_type": "skip"
    }
   },
   "outputs": [
    {
     "name": "stdout",
     "output_type": "stream",
     "text": [
      "Populating the interactive namespace from numpy and matplotlib\n"
     ]
    }
   ],
   "source": [
    "%load_ext autoreload\n",
    "%autoreload 2\n",
    "%pylab inline\n",
    "plt.rcParams['figure.figsize'] = [12, 4]\n",
    "\n",
    "import sys, os\n",
    "import logging\n",
    "logging.basicConfig(format='%(asctime)s %(levelname)s:%(message)s', level=logging.INFO)\n",
    "\n",
    "# point at library; I need some lessons on doing good PYTHONPATHs:\n",
    "REPO_DIR = os.path.dirname(os.getcwd())\n",
    "\n",
    "UCI_LIB = os.path.join(REPO_DIR, 'lib')\n",
    "UCI_DATA = os.path.join(REPO_DIR, 'data') \n",
    "\n",
    "sys.path.append(UCI_LIB)\n",
    "\n",
    "UCI_DATA_FILE = os.path.join(UCI_DATA, 'raw.csv') \n",
    "\n",
    "from uci_retail_data import stock_codes, uci_files "
   ]
  },
  {
   "cell_type": "markdown",
   "metadata": {
    "slideshow": {
     "slide_type": "slide"
    }
   },
   "source": [
    "### Pull in and prepare our data"
   ]
  },
  {
   "cell_type": "code",
   "execution_count": 2,
   "metadata": {},
   "outputs": [
    {
     "name": "stderr",
     "output_type": "stream",
     "text": [
      "2020-04-19 19:15:29,135 INFO:Loading C:\\Users\\jerem\\Documents\\work\\Oxford\\SBS\\MLBD\\ox-sbs-ml-bd\\data\\raw.csv , sheet Year 2009-2010\n",
      "2020-04-19 19:15:32,281 INFO:Loaded C:\\Users\\jerem\\Documents\\work\\Oxford\\SBS\\MLBD\\ox-sbs-ml-bd\\data\\raw.csv , sheet number one, obviously\n"
     ]
    }
   ],
   "source": [
    "if os.path.exists(UCI_DATA_FILE):\n",
    "    df = uci_files.load_uci_file(UCI_DATA_FILE, uci_files.SHEET_NAME)\n",
    "else:\n",
    "    df = uci_files.load_uci_file(uci_files.REMOTE_FILE, uci_files.SHEET_NAME)\n",
    "    df.to_csv(UCI_DATA_FILE)\n",
    "    logging.info('Saving a copy to ' + UCI_DATA_FILE)"
   ]
  },
  {
   "cell_type": "markdown",
   "metadata": {},
   "source": [
    "Clean data:"
   ]
  },
  {
   "cell_type": "code",
   "execution_count": 3,
   "metadata": {},
   "outputs": [],
   "source": [
    "# Here, I call the irrelevant lines 'invalids':\n",
    "invalids = stock_codes.invalid_series(df)"
   ]
  },
  {
   "cell_type": "markdown",
   "metadata": {},
   "source": [
    "Aggregate into invoices:"
   ]
  },
  {
   "cell_type": "code",
   "execution_count": 4,
   "metadata": {},
   "outputs": [],
   "source": [
    "invoices = stock_codes.invoice_df(df, invalid_series=invalids)"
   ]
  },
  {
   "cell_type": "code",
   "execution_count": 5,
   "metadata": {
    "slideshow": {
     "slide_type": "subslide"
    }
   },
   "outputs": [
    {
     "data": {
      "text/html": [
       "<div>\n",
       "<style scoped>\n",
       "    .dataframe tbody tr th:only-of-type {\n",
       "        vertical-align: middle;\n",
       "    }\n",
       "\n",
       "    .dataframe tbody tr th {\n",
       "        vertical-align: top;\n",
       "    }\n",
       "\n",
       "    .dataframe thead th {\n",
       "        text-align: right;\n",
       "    }\n",
       "</style>\n",
       "<table border=\"1\" class=\"dataframe\">\n",
       "  <thead>\n",
       "    <tr style=\"text-align: right;\">\n",
       "      <th></th>\n",
       "      <th>customer</th>\n",
       "      <th>codes_in_invoice</th>\n",
       "      <th>items_in_invoice</th>\n",
       "      <th>invoice_spend</th>\n",
       "      <th>hour</th>\n",
       "      <th>month</th>\n",
       "      <th>words</th>\n",
       "      <th>country</th>\n",
       "      <th>words_per_item</th>\n",
       "    </tr>\n",
       "    <tr>\n",
       "      <th>Invoice</th>\n",
       "      <th></th>\n",
       "      <th></th>\n",
       "      <th></th>\n",
       "      <th></th>\n",
       "      <th></th>\n",
       "      <th></th>\n",
       "      <th></th>\n",
       "      <th></th>\n",
       "      <th></th>\n",
       "    </tr>\n",
       "  </thead>\n",
       "  <tbody>\n",
       "    <tr>\n",
       "      <th>489434</th>\n",
       "      <td>13085.0</td>\n",
       "      <td>8</td>\n",
       "      <td>166</td>\n",
       "      <td>505.3</td>\n",
       "      <td>7</td>\n",
       "      <td>200912</td>\n",
       "      <td>{LIGHTS, DOUGHNUT, CERAMIC, 20, HOME, RECORD, ...</td>\n",
       "      <td>United Kingdom</td>\n",
       "      <td>3.625</td>\n",
       "    </tr>\n",
       "    <tr>\n",
       "      <th>489435</th>\n",
       "      <td>13085.0</td>\n",
       "      <td>4</td>\n",
       "      <td>60</td>\n",
       "      <td>145.8</td>\n",
       "      <td>7</td>\n",
       "      <td>200912</td>\n",
       "      <td>{DOG, ,, CAKES, SPOONS, CHASING, DESIGN, HEART...</td>\n",
       "      <td>United Kingdom</td>\n",
       "      <td>4.000</td>\n",
       "    </tr>\n",
       "  </tbody>\n",
       "</table>\n",
       "</div>"
      ],
      "text/plain": [
       "         customer  codes_in_invoice  items_in_invoice  invoice_spend  hour  \\\n",
       "Invoice                                                                      \n",
       "489434    13085.0                 8               166          505.3     7   \n",
       "489435    13085.0                 4                60          145.8     7   \n",
       "\n",
       "          month                                              words  \\\n",
       "Invoice                                                              \n",
       "489434   200912  {LIGHTS, DOUGHNUT, CERAMIC, 20, HOME, RECORD, ...   \n",
       "489435   200912  {DOG, ,, CAKES, SPOONS, CHASING, DESIGN, HEART...   \n",
       "\n",
       "                country  words_per_item  \n",
       "Invoice                                  \n",
       "489434   United Kingdom           3.625  \n",
       "489435   United Kingdom           4.000  "
      ]
     },
     "execution_count": 5,
     "metadata": {},
     "output_type": "execute_result"
    }
   ],
   "source": [
    "invoices.head(2)"
   ]
  },
  {
   "cell_type": "code",
   "execution_count": 6,
   "metadata": {},
   "outputs": [
    {
     "data": {
      "text/html": [
       "<div>\n",
       "<style scoped>\n",
       "    .dataframe tbody tr th:only-of-type {\n",
       "        vertical-align: middle;\n",
       "    }\n",
       "\n",
       "    .dataframe tbody tr th {\n",
       "        vertical-align: top;\n",
       "    }\n",
       "\n",
       "    .dataframe thead th {\n",
       "        text-align: right;\n",
       "    }\n",
       "</style>\n",
       "<table border=\"1\" class=\"dataframe\">\n",
       "  <thead>\n",
       "    <tr style=\"text-align: right;\">\n",
       "      <th></th>\n",
       "      <th>customer</th>\n",
       "      <th>codes_in_invoice</th>\n",
       "      <th>items_in_invoice</th>\n",
       "      <th>invoice_spend</th>\n",
       "      <th>hour</th>\n",
       "      <th>month</th>\n",
       "      <th>words</th>\n",
       "      <th>country</th>\n",
       "      <th>words_per_item</th>\n",
       "    </tr>\n",
       "    <tr>\n",
       "      <th>Invoice</th>\n",
       "      <th></th>\n",
       "      <th></th>\n",
       "      <th></th>\n",
       "      <th></th>\n",
       "      <th></th>\n",
       "      <th></th>\n",
       "      <th></th>\n",
       "      <th></th>\n",
       "      <th></th>\n",
       "    </tr>\n",
       "  </thead>\n",
       "  <tbody>\n",
       "    <tr>\n",
       "      <th>538170</th>\n",
       "      <td>13969.0</td>\n",
       "      <td>25</td>\n",
       "      <td>133</td>\n",
       "      <td>317.59</td>\n",
       "      <td>19</td>\n",
       "      <td>201012</td>\n",
       "      <td>{LIGHTS, VINTAGE, METAL, WATER, BIRD, HEART., ...</td>\n",
       "      <td>United Kingdom</td>\n",
       "      <td>2.92</td>\n",
       "    </tr>\n",
       "    <tr>\n",
       "      <th>538171</th>\n",
       "      <td>17530.0</td>\n",
       "      <td>65</td>\n",
       "      <td>194</td>\n",
       "      <td>300.64</td>\n",
       "      <td>20</td>\n",
       "      <td>201012</td>\n",
       "      <td>{VINTAGE, WATER, FELTCRAFT, HOME, ANGEL, OLIVI...</td>\n",
       "      <td>United Kingdom</td>\n",
       "      <td>2.20</td>\n",
       "    </tr>\n",
       "  </tbody>\n",
       "</table>\n",
       "</div>"
      ],
      "text/plain": [
       "         customer  codes_in_invoice  items_in_invoice  invoice_spend  hour  \\\n",
       "Invoice                                                                      \n",
       "538170    13969.0                25               133         317.59    19   \n",
       "538171    17530.0                65               194         300.64    20   \n",
       "\n",
       "          month                                              words  \\\n",
       "Invoice                                                              \n",
       "538170   201012  {LIGHTS, VINTAGE, METAL, WATER, BIRD, HEART., ...   \n",
       "538171   201012  {VINTAGE, WATER, FELTCRAFT, HOME, ANGEL, OLIVI...   \n",
       "\n",
       "                country  words_per_item  \n",
       "Invoice                                  \n",
       "538170   United Kingdom            2.92  \n",
       "538171   United Kingdom            2.20  "
      ]
     },
     "execution_count": 6,
     "metadata": {},
     "output_type": "execute_result"
    }
   ],
   "source": [
    "invoices.tail(2)"
   ]
  },
  {
   "cell_type": "code",
   "execution_count": 7,
   "metadata": {
    "slideshow": {
     "slide_type": "subslide"
    }
   },
   "outputs": [
    {
     "name": "stdout",
     "output_type": "stream",
     "text": [
      "<class 'pandas.core.frame.DataFrame'>\n",
      "Index: 20577 entries, 489434 to 538171\n",
      "Data columns (total 9 columns):\n",
      " #   Column            Non-Null Count  Dtype  \n",
      "---  ------            --------------  -----  \n",
      " 0   customer          18969 non-null  float64\n",
      " 1   codes_in_invoice  20577 non-null  int64  \n",
      " 2   items_in_invoice  20577 non-null  int64  \n",
      " 3   invoice_spend     20577 non-null  float64\n",
      " 4   hour              20577 non-null  int64  \n",
      " 5   month             20577 non-null  int64  \n",
      " 6   words             20577 non-null  object \n",
      " 7   country           20577 non-null  object \n",
      " 8   words_per_item    20577 non-null  float64\n",
      "dtypes: float64(3), int64(4), object(2)\n",
      "memory usage: 1.6+ MB\n"
     ]
    }
   ],
   "source": [
    "invoices.info()"
   ]
  },
  {
   "cell_type": "markdown",
   "metadata": {
    "slideshow": {
     "slide_type": "slide"
    }
   },
   "source": [
    "### Set a prediction problem:"
   ]
  },
  {
   "cell_type": "markdown",
   "metadata": {},
   "source": [
    "**Given the time, date, and complexity of an invoice, what's its expected spend per item shipped?**\n",
    "\n",
    "> *helps us predict margins*\n",
    "\n",
    "First, we'll attack this in a familiar way: using, as best we can, *linear regression*. \n",
    "\n",
    "*  However, we'll take time to compare two suitable `python` libraries for this."
   ]
  },
  {
   "cell_type": "markdown",
   "metadata": {
    "slideshow": {
     "slide_type": "subslide"
    }
   },
   "source": [
    "### 1. [`statsmodels`](https://www.statsmodels.org/stable/index.html)\n",
    "\n",
    "* package for established statistics; has [some of the feel](https://www.statsmodels.org/stable/example_formulas.html) of R\n",
    "\n",
    "* *statsmodels: Econometric and statistical modeling with python* Seabold, Skipper, and Josef Perktold. Proceedings of the 9th Python in Science Conference, 2010.\n",
    "\n",
    "* funded at [Google Summer of Code (GSOC) 2009-2017](https://summerofcode.withgoogle.com/) and by hedge fund [AQR](https://www.aqr.com)      "
   ]
  },
  {
   "cell_type": "markdown",
   "metadata": {
    "slideshow": {
     "slide_type": "fragment"
    }
   },
   "source": [
    "### 2. [`scikit-learn`](https://scikit-learn.org/stable/index.html)\n",
    "\n",
    "* package for machine learning\n",
    "\n",
    "* *Scikit-learn: Machine Learning in Python*, Pedregosa et al., JMLR 12, pp. 2825-2830, 2011.\n",
    "\n",
    "They both do linear regression."
   ]
  },
  {
   "cell_type": "raw",
   "metadata": {
    "slideshow": {
     "slide_type": "skip"
    }
   },
   "source": [
    "Note - here's the bibtex references for scikit-learn and for statsmodels:\n",
    "\n",
    "@article{scikit-learn,\n",
    " title={Scikit-learn: Machine Learning in {P}ython},\n",
    " author={Pedregosa, F. and Varoquaux, G. and Gramfort, A. and Michel, V.\n",
    "         and Thirion, B. and Grisel, O. and Blondel, M. and Prettenhofer, P.\n",
    "         and Weiss, R. and Dubourg, V. and Vanderplas, J. and Passos, A. and\n",
    "         Cournapeau, D. and Brucher, M. and Perrot, M. and Duchesnay, E.},\n",
    " journal={Journal of Machine Learning Research},\n",
    " volume={12},\n",
    " pages={2825--2830},\n",
    " year={2011}\n",
    "}\n",
    "\n",
    "@inproceedings{seabold2010statsmodels,\n",
    "  title={statsmodels: Econometric and statistical modeling with python},\n",
    "  author={Seabold, Skipper and Perktold, Josef},\n",
    "  booktitle={9th Python in Science Conference},\n",
    "  year={2010},\n",
    "}"
   ]
  },
  {
   "cell_type": "markdown",
   "metadata": {
    "slideshow": {
     "slide_type": "slide"
    }
   },
   "source": [
    "#### Lets import statsmodels / scikit-learn and packages that they use:"
   ]
  },
  {
   "cell_type": "code",
   "execution_count": 8,
   "metadata": {},
   "outputs": [],
   "source": [
    "import numpy as np    # fast handling of matrices of real numbers, and similar\n",
    "\n",
    "import pandas as pd     # great tool for wielding and combining rectangular datasets with varied, named, columns\n",
    "\n",
    "\n",
    "\n",
    "import sklearn\n",
    "\n",
    "import statsmodels"
   ]
  },
  {
   "cell_type": "code",
   "execution_count": 9,
   "metadata": {
    "slideshow": {
     "slide_type": "fragment"
    }
   },
   "outputs": [],
   "source": [
    "# in both cases, we will have to import specifically the bits of the package that we need, for example:\n",
    "import statsmodels.formula.api as smf"
   ]
  },
  {
   "cell_type": "markdown",
   "metadata": {
    "slideshow": {
     "slide_type": "slide"
    }
   },
   "source": [
    "#### Reminder of linear regression:"
   ]
  },
  {
   "cell_type": "markdown",
   "metadata": {},
   "source": [
    "We have an i.i.d. sequence of observations, $\\{(y_i, x_i), i=0, 1, ...\\}$ where we are interested in moments of the R.V. $y_i$, conditional on the multivariate R.V.  $x_i$ (of length, say, $p$). \n",
    "\n",
    "We *postulate* a linear relationship of the following form:\n",
    "\n",
    "\\begin{equation}\n",
    "y_i = x_i ' \\beta + \\epsilon_i,\n",
    "\\end{equation}\n",
    "where $\\beta$ is a vector of parameters of length $p$, and the i.i.d. sequence of random variables $\\{\\epsilon_i\\}$ is independent of the regressors $\\{x_i\\}$"
   ]
  },
  {
   "cell_type": "markdown",
   "metadata": {
    "slideshow": {
     "slide_type": "fragment"
    }
   },
   "source": [
    "#### A personal story:\n",
    "\n",
    "Now, what do I mean here by the word: *'postulate'*? \n",
    "\n",
    "For the econometrician in me, it means I *sincerely assert*.\n",
    "\n",
    "For the machine learner in me, I'm not sure that's quite it. It's more that - pragmatically - I entertain this model.\n",
    "\n",
    "* an important part of this course will be to flesh-out this comparison"
   ]
  },
  {
   "cell_type": "markdown",
   "metadata": {
    "slideshow": {
     "slide_type": "slide"
    }
   },
   "source": [
    "### 1. Fitting a linear regression with `statsmodels`\n",
    "\n",
    "Describe the model in natural statistician's terms:"
   ]
  },
  {
   "cell_type": "code",
   "execution_count": 10,
   "metadata": {},
   "outputs": [],
   "source": [
    "formula_string = 'np.log(invoice_spend/items_in_invoice) ~ np.log(codes_in_invoice) + hour + month + words_per_item'"
   ]
  },
  {
   "cell_type": "markdown",
   "metadata": {},
   "source": [
    "Specify that the model is OLS:"
   ]
  },
  {
   "cell_type": "code",
   "execution_count": 11,
   "metadata": {},
   "outputs": [],
   "source": [
    "lm1 = smf.ols(formula=formula_string, data=invoices)"
   ]
  },
  {
   "cell_type": "markdown",
   "metadata": {},
   "source": [
    "Common, pythonic, step, next, namely to `fit()`:"
   ]
  },
  {
   "cell_type": "code",
   "execution_count": 12,
   "metadata": {},
   "outputs": [],
   "source": [
    "fit = lm1.fit()"
   ]
  },
  {
   "cell_type": "code",
   "execution_count": 13,
   "metadata": {
    "slideshow": {
     "slide_type": "subslide"
    }
   },
   "outputs": [
    {
     "data": {
      "text/html": [
       "<table class=\"simpletable\">\n",
       "<caption>OLS Regression Results</caption>\n",
       "<tr>\n",
       "  <th>Dep. Variable:</th>    <td>np.log(invoice_spend / items_in_invoice)</td> <th>  R-squared:         </th> <td>   0.021</td> \n",
       "</tr>\n",
       "<tr>\n",
       "  <th>Model:</th>                               <td>OLS</td>                   <th>  Adj. R-squared:    </th> <td>   0.021</td> \n",
       "</tr>\n",
       "<tr>\n",
       "  <th>Method:</th>                         <td>Least Squares</td>              <th>  F-statistic:       </th> <td>   109.0</td> \n",
       "</tr>\n",
       "<tr>\n",
       "  <th>Date:</th>                         <td>Sun, 19 Apr 2020</td>             <th>  Prob (F-statistic):</th> <td>4.55e-92</td> \n",
       "</tr>\n",
       "<tr>\n",
       "  <th>Time:</th>                             <td>19:18:14</td>                 <th>  Log-Likelihood:    </th> <td> -19801.</td> \n",
       "</tr>\n",
       "<tr>\n",
       "  <th>No. Observations:</th>                  <td> 20577</td>                  <th>  AIC:               </th> <td>3.961e+04</td>\n",
       "</tr>\n",
       "<tr>\n",
       "  <th>Df Residuals:</th>                      <td> 20572</td>                  <th>  BIC:               </th> <td>3.965e+04</td>\n",
       "</tr>\n",
       "<tr>\n",
       "  <th>Df Model:</th>                          <td>     4</td>                  <th>                     </th>     <td> </td>    \n",
       "</tr>\n",
       "<tr>\n",
       "  <th>Covariance Type:</th>                  <td>nonrobust</td>                <th>                     </th>     <td> </td>    \n",
       "</tr>\n",
       "</table>\n",
       "<table class=\"simpletable\">\n",
       "<tr>\n",
       "              <td></td>                <th>coef</th>     <th>std err</th>      <th>t</th>      <th>P>|t|</th>  <th>[0.025</th>    <th>0.975]</th>  \n",
       "</tr>\n",
       "<tr>\n",
       "  <th>Intercept</th>                <td>   50.6791</td> <td>   34.101</td> <td>    1.486</td> <td> 0.137</td> <td>  -16.161</td> <td>  117.519</td>\n",
       "</tr>\n",
       "<tr>\n",
       "  <th>np.log(codes_in_invoice)</th> <td>   -0.0378</td> <td>    0.005</td> <td>   -7.717</td> <td> 0.000</td> <td>   -0.047</td> <td>   -0.028</td>\n",
       "</tr>\n",
       "<tr>\n",
       "  <th>hour</th>                     <td>    0.0059</td> <td>    0.002</td> <td>    3.213</td> <td> 0.001</td> <td>    0.002</td> <td>    0.010</td>\n",
       "</tr>\n",
       "<tr>\n",
       "  <th>month</th>                    <td>   -0.0002</td> <td>    0.000</td> <td>   -1.470</td> <td> 0.142</td> <td>   -0.001</td> <td> 8.32e-05</td>\n",
       "</tr>\n",
       "<tr>\n",
       "  <th>words_per_item</th>           <td>    0.0633</td> <td>    0.007</td> <td>    8.681</td> <td> 0.000</td> <td>    0.049</td> <td>    0.078</td>\n",
       "</tr>\n",
       "</table>\n",
       "<table class=\"simpletable\">\n",
       "<tr>\n",
       "  <th>Omnibus:</th>       <td>2976.262</td> <th>  Durbin-Watson:     </th> <td>   1.848</td> \n",
       "</tr>\n",
       "<tr>\n",
       "  <th>Prob(Omnibus):</th>  <td> 0.000</td>  <th>  Jarque-Bera (JB):  </th> <td>21367.662</td>\n",
       "</tr>\n",
       "<tr>\n",
       "  <th>Skew:</th>           <td> 0.495</td>  <th>  Prob(JB):          </th> <td>    0.00</td> \n",
       "</tr>\n",
       "<tr>\n",
       "  <th>Kurtosis:</th>       <td> 7.893</td>  <th>  Cond. No.          </th> <td>1.55e+09</td> \n",
       "</tr>\n",
       "</table><br/><br/>Warnings:<br/>[1] Standard Errors assume that the covariance matrix of the errors is correctly specified.<br/>[2] The condition number is large, 1.55e+09. This might indicate that there are<br/>strong multicollinearity or other numerical problems."
      ],
      "text/plain": [
       "<class 'statsmodels.iolib.summary.Summary'>\n",
       "\"\"\"\n",
       "                                       OLS Regression Results                                       \n",
       "====================================================================================================\n",
       "Dep. Variable:     np.log(invoice_spend / items_in_invoice)   R-squared:                       0.021\n",
       "Model:                                                  OLS   Adj. R-squared:                  0.021\n",
       "Method:                                       Least Squares   F-statistic:                     109.0\n",
       "Date:                                      Sun, 19 Apr 2020   Prob (F-statistic):           4.55e-92\n",
       "Time:                                              19:18:14   Log-Likelihood:                -19801.\n",
       "No. Observations:                                     20577   AIC:                         3.961e+04\n",
       "Df Residuals:                                         20572   BIC:                         3.965e+04\n",
       "Df Model:                                                 4                                         \n",
       "Covariance Type:                                  nonrobust                                         \n",
       "============================================================================================\n",
       "                               coef    std err          t      P>|t|      [0.025      0.975]\n",
       "--------------------------------------------------------------------------------------------\n",
       "Intercept                   50.6791     34.101      1.486      0.137     -16.161     117.519\n",
       "np.log(codes_in_invoice)    -0.0378      0.005     -7.717      0.000      -0.047      -0.028\n",
       "hour                         0.0059      0.002      3.213      0.001       0.002       0.010\n",
       "month                       -0.0002      0.000     -1.470      0.142      -0.001    8.32e-05\n",
       "words_per_item               0.0633      0.007      8.681      0.000       0.049       0.078\n",
       "==============================================================================\n",
       "Omnibus:                     2976.262   Durbin-Watson:                   1.848\n",
       "Prob(Omnibus):                  0.000   Jarque-Bera (JB):            21367.662\n",
       "Skew:                           0.495   Prob(JB):                         0.00\n",
       "Kurtosis:                       7.893   Cond. No.                     1.55e+09\n",
       "==============================================================================\n",
       "\n",
       "Warnings:\n",
       "[1] Standard Errors assume that the covariance matrix of the errors is correctly specified.\n",
       "[2] The condition number is large, 1.55e+09. This might indicate that there are\n",
       "strong multicollinearity or other numerical problems.\n",
       "\"\"\""
      ]
     },
     "execution_count": 13,
     "metadata": {},
     "output_type": "execute_result"
    }
   ],
   "source": [
    "fit.summary()"
   ]
  },
  {
   "cell_type": "markdown",
   "metadata": {},
   "source": [
    "The 'condition number' refers to $X'X$ -- and indicates how stably we can expect to invert that matrix"
   ]
  },
  {
   "cell_type": "markdown",
   "metadata": {
    "slideshow": {
     "slide_type": "slide"
    }
   },
   "source": [
    "#### Comments on linear regression with `statsmodels`\n",
    "\n",
    "* Thorough implementation of linear regression, elegant presentation, including tests:\n",
    "    * significance tests (t-stats, F-tests, p-values, ...)\n",
    "    * specification tests"
   ]
  },
  {
   "cell_type": "markdown",
   "metadata": {
    "slideshow": {
     "slide_type": "fragment"
    }
   },
   "source": [
    "* Imagine these tests pass (though they don't here)\n",
    "    * we may conclude that we now *know* the Data Generating Process\n",
    "       * our parametric modelling has been successful\n",
    "    * we understand statistical aspects of the mechanisms out there\n",
    "    * -> we are in a position to offer *explanations* of past, present and future observation\n",
    "    "
   ]
  },
  {
   "cell_type": "markdown",
   "metadata": {
    "slideshow": {
     "slide_type": "fragment"
    }
   },
   "source": [
    "* However, standard reporting from `statsmodels` is fairly negative for my specifiation of the linear regression model on this data\n",
    "    * Message: this is not much use, come back with something that describes reality better"
   ]
  },
  {
   "cell_type": "markdown",
   "metadata": {
    "slideshow": {
     "slide_type": "fragment"
    }
   },
   "source": [
    "* All the data has been used in fitting the regression\n",
    "    * like e.g. MLEs, resulting estimates are statistically *efficient*.\n",
    "    * But, to use up all the data like that:\n",
    "      * was that greedy?\n",
    "      * was it prudent?"
   ]
  },
  {
   "cell_type": "markdown",
   "metadata": {
    "slideshow": {
     "slide_type": "slide"
    }
   },
   "source": [
    "### 2. Fitting a linear regression with `scikit-learn`\n",
    "\n",
    "In the case of `scikit-learn`, there are preliminaries to go over."
   ]
  },
  {
   "cell_type": "code",
   "execution_count": 14,
   "metadata": {},
   "outputs": [
    {
     "data": {
      "text/plain": [
       "'np.log(invoice_spend/items_in_invoice) ~ np.log(codes_in_invoice) + hour + month + words_per_item'"
      ]
     },
     "execution_count": 14,
     "metadata": {},
     "output_type": "execute_result"
    }
   ],
   "source": [
    "# Reminder of our formulation of this regression:\n",
    "formula_string"
   ]
  },
  {
   "cell_type": "code",
   "execution_count": 15,
   "metadata": {
    "slideshow": {
     "slide_type": "fragment"
    }
   },
   "outputs": [],
   "source": [
    "#  First, we'll have to build some additional columns in our dataframe to do logariths etc.:\n",
    "invoices['log_item_spend'] = np.log(invoices.invoice_spend / invoices.items_in_invoice)\n",
    "invoices['log_n_codes'] = np.log(invoices.codes_in_invoice)"
   ]
  },
  {
   "cell_type": "code",
   "execution_count": 16,
   "metadata": {},
   "outputs": [],
   "source": [
    "# Regarding this, set out `y` and `X` variables:\n",
    "y = pd.DataFrame(invoices['log_item_spend'])\n",
    "X = invoices[['log_n_codes', 'hour', 'month', 'words_per_item']] "
   ]
  },
  {
   "cell_type": "code",
   "execution_count": 17,
   "metadata": {
    "slideshow": {
     "slide_type": "slide"
    }
   },
   "outputs": [],
   "source": [
    "#  pull in scikit-learn libraries:\n",
    "from sklearn.linear_model import LinearRegression\n",
    "from sklearn import metrics"
   ]
  },
  {
   "cell_type": "code",
   "execution_count": 18,
   "metadata": {},
   "outputs": [],
   "source": [
    "model = LinearRegression()"
   ]
  },
  {
   "cell_type": "markdown",
   "metadata": {
    "slideshow": {
     "slide_type": "fragment"
    }
   },
   "source": [
    "#### `.fit()` - first of two central functions/methods in `scikit-learn`"
   ]
  },
  {
   "cell_type": "code",
   "execution_count": 19,
   "metadata": {},
   "outputs": [
    {
     "data": {
      "text/plain": [
       "LinearRegression(copy_X=True, fit_intercept=True, n_jobs=None, normalize=False)"
      ]
     },
     "execution_count": 19,
     "metadata": {},
     "output_type": "execute_result"
    }
   ],
   "source": [
    "model.fit(X, y)"
   ]
  },
  {
   "cell_type": "markdown",
   "metadata": {
    "slideshow": {
     "slide_type": "subslide"
    }
   },
   "source": [
    "#### `.predict()` - the second of the two"
   ]
  },
  {
   "cell_type": "code",
   "execution_count": 20,
   "metadata": {},
   "outputs": [
    {
     "data": {
      "image/png": "[encoded data removed]",
      "text/plain": [
       "<Figure size 864x288 with 1 Axes>"
      ]
     },
     "metadata": {
      "needs_background": "light"
     },
     "output_type": "display_data"
    }
   ],
   "source": [
    "y_hat = model.predict(X)\n",
    "plt.scatter(y_hat, y, marker='.')\n",
    "plt.grid(); plt.xlabel('fit'); plt.ylabel('actual'); plt.axvline(); plt.axhline(); plt.show()"
   ]
  },
  {
   "cell_type": "code",
   "execution_count": 21,
   "metadata": {
    "slideshow": {
     "slide_type": "subslide"
    }
   },
   "outputs": [
    {
     "name": "stdout",
     "output_type": "stream",
     "text": [
      "intercept is  [50.67914996]\n",
      "coefficients are  [[-0.03775424  0.00592188 -0.0002493   0.06332345]]\n",
      "R2 is  0.02075104873480338\n",
      "MSE of prediction is 0.4012000071461238\n"
     ]
    }
   ],
   "source": [
    "print('intercept is ', model.intercept_)\n",
    "print('coefficients are ', model.coef_)\n",
    "print('R2 is ', model.score(X, y))\n",
    "print('MSE of prediction is', metrics.mean_squared_error(model.predict(X), y))"
   ]
  },
  {
   "cell_type": "markdown",
   "metadata": {},
   "source": [
    "We note that the Mean Square Error of the target, anyway, is:"
   ]
  },
  {
   "cell_type": "code",
   "execution_count": 22,
   "metadata": {},
   "outputs": [
    {
     "data": {
      "text/plain": [
       "0.4097"
      ]
     },
     "execution_count": 22,
     "metadata": {},
     "output_type": "execute_result"
    }
   ],
   "source": [
    "np.round(invoices.log_item_spend.var(), 4)"
   ]
  },
  {
   "cell_type": "markdown",
   "metadata": {},
   "source": [
    "-> We can confirm by checking back that these are the same numbers as those obtained earlier with `statsmodels`"
   ]
  },
  {
   "cell_type": "markdown",
   "metadata": {
    "slideshow": {
     "slide_type": "slide"
    }
   },
   "source": [
    "#### Observations so far about linear regression with `scikit-learn`\n",
    "\n",
    "The linear regression feels much less slick than `statsmodels`\n",
    "\n",
    "* we have to do more work to prepare it\n",
    "\n",
    "* it only presents the details of its fit, if we interrogate oddly-named attributes like `.coef_`\n",
    "\n",
    "* it doesn't seem to offer either specification, or significance, testing\n",
    "\n",
    "In fact, it seems hard to extract from it anything much at all, relating to its *linear* structure\n",
    "\n"
   ]
  },
  {
   "cell_type": "markdown",
   "metadata": {
    "slideshow": {
     "slide_type": "fragment"
    }
   },
   "source": [
    "#### Lets push `scikit-learn` harder, to find out where it excels"
   ]
  },
  {
   "cell_type": "markdown",
   "metadata": {
    "slideshow": {
     "slide_type": "slide"
    }
   },
   "source": [
    "#### Separate testing data from training data"
   ]
  },
  {
   "cell_type": "code",
   "execution_count": 23,
   "metadata": {
    "slideshow": {
     "slide_type": "fragment"
    }
   },
   "outputs": [],
   "source": [
    "from sklearn import inspection\n",
    "from sklearn.model_selection import KFold"
   ]
  },
  {
   "cell_type": "markdown",
   "metadata": {
    "slideshow": {
     "slide_type": "fragment"
    }
   },
   "source": [
    "#### We're going to loop through data, so we write a function to encapsulate that:"
   ]
  },
  {
   "cell_type": "markdown",
   "metadata": {},
   "source": [
    "Take a look at [`train_n_test()`](https://github.com/jeremy-large/ox-sbs-ml-bd/blob/master/lib/sbs_sklearn.py#L21)"
   ]
  },
  {
   "cell_type": "code",
   "execution_count": 24,
   "metadata": {},
   "outputs": [],
   "source": [
    "from sbs_sklearn import train_n_test"
   ]
  },
  {
   "cell_type": "markdown",
   "metadata": {
    "slideshow": {
     "slide_type": "fragment"
    }
   },
   "source": [
    "#### ... and a helper function to plot diagrams:"
   ]
  },
  {
   "cell_type": "markdown",
   "metadata": {},
   "source": [
    "Take a look at [`plot_kfold_scores()`](https://github.com/jeremy-large/ox-sbs-ml-bd/blob/master/lib/sbs_sklearn.py#L63)"
   ]
  },
  {
   "cell_type": "code",
   "execution_count": 25,
   "metadata": {},
   "outputs": [],
   "source": [
    "from sbs_sklearn import plot_kfold_scores"
   ]
  },
  {
   "cell_type": "markdown",
   "metadata": {
    "slideshow": {
     "slide_type": "slide"
    }
   },
   "source": [
    "#### Now lets deploy `scikit-learn` several times, distinguishing `train` from `test`:"
   ]
  },
  {
   "cell_type": "code",
   "execution_count": 27,
   "metadata": {},
   "outputs": [
    {
     "name": "stderr",
     "output_type": "stream",
     "text": [
      "2020-04-19 19:20:04,631 INFO:In study 1/6, train on 17147 points; then test on the other 3430: first few test points = [21 28 35 44 46] \n",
      "2020-04-19 19:20:04,637 INFO:In study 2/6, train on 17147 points; then test on the other 3430: first few test points = [ 1  3 17 19 25] \n",
      "2020-04-19 19:20:04,642 INFO:In study 3/6, train on 17147 points; then test on the other 3430: first few test points = [0 2 5 6 7] \n",
      "2020-04-19 19:20:04,648 INFO:In study 4/6, train on 17148 points; then test on the other 3429: first few test points = [ 4 14 18 22 27] \n",
      "2020-04-19 19:20:04,653 INFO:In study 5/6, train on 17148 points; then test on the other 3429: first few test points = [10 24 31 34 42] \n",
      "2020-04-19 19:20:04,658 INFO:In study 6/6, train on 17148 points; then test on the other 3429: first few test points = [ 8  9 13 15 16] \n"
     ]
    }
   ],
   "source": [
    "scores = train_n_test(X, y, 6, update_frequency=1, concise=False)"
   ]
  },
  {
   "cell_type": "code",
   "execution_count": 28,
   "metadata": {
    "slideshow": {
     "slide_type": "fragment"
    }
   },
   "outputs": [
    {
     "data": {
      "image/png": "[encoded data removed]",
      "text/plain": [
       "<Figure size 864x288 with 1 Axes>"
      ]
     },
     "metadata": {
      "needs_background": "light"
     },
     "output_type": "display_data"
    }
   ],
   "source": [
    "plot_kfold_scores(scores)"
   ]
  },
  {
   "cell_type": "code",
   "execution_count": 29,
   "metadata": {
    "slideshow": {
     "slide_type": "subslide"
    }
   },
   "outputs": [
    {
     "name": "stderr",
     "output_type": "stream",
     "text": [
      "2020-04-19 19:20:11,660 INFO:In study 1/750, train on 20549 points; then test on the other 28: first few test points = [ 393  445  490  689 1058] \n"
     ]
    },
    {
     "data": {
      "image/png": "[encoded data removed]",
      "text/plain": [
       "<Figure size 864x288 with 1 Axes>"
      ]
     },
     "metadata": {
      "needs_background": "light"
     },
     "output_type": "display_data"
    }
   ],
   "source": [
    "scores = train_n_test(X, y, 750)\n",
    "plot_kfold_scores(scores, scatter=True)"
   ]
  },
  {
   "cell_type": "code",
   "execution_count": 30,
   "metadata": {
    "slideshow": {
     "slide_type": "subslide"
    }
   },
   "outputs": [
    {
     "data": {
      "image/png": "[encoded data removed]",
      "text/plain": [
       "<Figure size 864x288 with 1 Axes>"
      ]
     },
     "metadata": {
      "needs_background": "light"
     },
     "output_type": "display_data"
    }
   ],
   "source": [
    "plot_kfold_scores(scores)"
   ]
  },
  {
   "cell_type": "markdown",
   "metadata": {
    "slideshow": {
     "slide_type": "slide"
    }
   },
   "source": [
    "#### Comments on linear regression with `scikit-learn`\n",
    "\n",
    "* Correct implementation of linear regression\n",
    "\n",
    "* Not focused on standard testing for linear regression\n",
    "    * significance tests (t-stats, F-tests, p-values, ...)\n",
    "    * specification tests\n",
    "    "
   ]
  },
  {
   "cell_type": "markdown",
   "metadata": {
    "slideshow": {
     "slide_type": "fragment"
    }
   },
   "source": [
    "* Our model failed every specification test that `statsmodel` threw at it\n",
    "\n",
    "* -> YET (per `scikit-learn`): it had a decent r2 on unseen data\n",
    "    * Pragmatism: this model, for all its faults, can be used\n",
    "    "
   ]
  },
  {
   "cell_type": "markdown",
   "metadata": {
    "slideshow": {
     "slide_type": "fragment"
    }
   },
   "source": [
    "* To embody more of a Machine Learning paradigm, we reprioritize:\n",
    "    * prediction [`.predict() `] as compared to explanation\n",
    "    * out-of-sample fitting, as compared to specification testing\n",
    "    * empirical distribution of our statistic, as compared to an asymptotic limit theory for it\n",
    "    "
   ]
  },
  {
   "cell_type": "markdown",
   "metadata": {
    "slideshow": {
     "slide_type": "subslide"
    }
   },
   "source": [
    "To embody more of a Machine Learning paradigm, we reprioritize:\n",
    "* prediction [`.predict() `] as compared to explanation\n",
    "* out-of-sample fitting, as compared to specification testing\n",
    "* empirical distribution of our statistic, as compared to an asymptotic limit theory for it"
   ]
  },
  {
   "cell_type": "markdown",
   "metadata": {},
   "source": [
    "### > In an abundance of data, and for some purposes, this reprioritization will make sense\n",
    "\n",
    "* leaves us flexible in new dimensions"
   ]
  },
  {
   "cell_type": "markdown",
   "metadata": {},
   "source": [
    "*Exercise*: apply the K-fold regression approach with number of folds equal to a tenth of the number of observations. Plot a histogram of the result, and discuss its meaning, as well as why it takes so long to compute."
   ]
  }
 ],
 "metadata": {
  "celltoolbar": "Slideshow",
  "kernelspec": {
   "display_name": "Python 3",
   "language": "python",
   "name": "python3"
  },
  "language_info": {
   "codemirror_mode": {
    "name": "ipython",
    "version": 3
   },
   "file_extension": ".py",
   "mimetype": "text/x-python",
   "name": "python",
   "nbconvert_exporter": "python",
   "pygments_lexer": "ipython3",
   "version": "3.6.10"
  }
 },
 "nbformat": 4,
 "nbformat_minor": 4
}
