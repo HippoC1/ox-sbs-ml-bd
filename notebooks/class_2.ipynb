{
 "cells": [
  {
   "cell_type": "markdown",
   "metadata": {
    "slideshow": {
     "slide_type": "slide"
    }
   },
   "source": [
    "# Advances in Machine Learning with Big Data\n",
    "\n",
    "### (part 1 of 2) \n",
    "### Trinity 2020 Weeks 1 - 4\n",
    "### Dr Jeremy Large\n",
    "#### jeremy.large@economics.ox.ac.uk\n",
    "\n",
    "\n",
    "&#169; Jeremy Large ; shared under [CC BY-NC-ND 4.0](https://creativecommons.org/licenses/by-nc-nd/4.0/)"
   ]
  },
  {
   "cell_type": "markdown",
   "metadata": {
    "slideshow": {
     "slide_type": "slide"
    }
   },
   "source": [
    "## 2. Being an econometrician *and* a data scientist"
   ]
  },
  {
   "cell_type": "markdown",
   "metadata": {
    "slideshow": {
     "slide_type": "slide"
    }
   },
   "source": [
    "## Contents Weeks 1-4:\n",
    "\n",
    "1. Introducing this course's dataset\n",
    "\n",
    "1. **Being an econometrician _and_ a data scientist**\n",
    "\n",
    "1. Data abundance and 'jaggedness' -> regularization and the problem of overfit\n",
    "\n",
    "1. Regularization through resampling methods (bootstrap etc.)\n",
    "\n",
    "1. Regularization through predictor/feature selection (Lasso etc.)\n",
    "\n",
    "1. Moving from linear regression to the perceptron\n",
    "\n",
    "1. Moving from linear regression to the random forest (and similar)"
   ]
  },
  {
   "cell_type": "code",
   "execution_count": 1,
   "metadata": {
    "slideshow": {
     "slide_type": "skip"
    }
   },
   "outputs": [
    {
     "name": "stdout",
     "output_type": "stream",
     "text": [
      "Populating the interactive namespace from numpy and matplotlib\n"
     ]
    }
   ],
   "source": [
    "%load_ext autoreload\n",
    "%autoreload 2\n",
    "%pylab inline\n",
    "plt.rcParams['figure.figsize'] = [12, 4]\n",
    "\n",
    "import sys, os\n",
    "import logging\n",
    "logging.basicConfig(format='%(asctime)s %(levelname)s:%(message)s', level=logging.INFO)\n",
    "\n",
    "# point at library; I need some lessons on doing good PYTHONPATHs:\n",
    "REPO_DIR = os.path.dirname(os.getcwd())\n",
    "\n",
    "UCI_LIB = os.path.join(REPO_DIR, 'lib')\n",
    "UCI_DATA = os.path.join(REPO_DIR, 'data') \n",
    "\n",
    "sys.path.append(UCI_LIB)\n",
    "\n",
    "UCI_DATA_FILE = os.path.join(UCI_DATA, 'raw.csv') \n",
    "\n",
    "from uci_retail_data import stock_codes, uci_files "
   ]
  },
  {
   "cell_type": "markdown",
   "metadata": {
    "slideshow": {
     "slide_type": "slide"
    }
   },
   "source": [
    "### Pull in and prepare our data"
   ]
  },
  {
   "cell_type": "code",
   "execution_count": 2,
   "metadata": {},
   "outputs": [
    {
     "name": "stderr",
     "output_type": "stream",
     "text": [
      "2020-04-13 16:35:33,791 INFO:Loading C:\\Users\\jerem\\Documents\\work\\Oxford\\SBS\\MLBD\\ox-sbs-ml-bd\\data\\raw.csv , sheet Year 2009-2010\n",
      "2020-04-13 16:35:40,469 INFO:Loaded C:\\Users\\jerem\\Documents\\work\\Oxford\\SBS\\MLBD\\ox-sbs-ml-bd\\data\\raw.csv , sheet number one, obviously\n"
     ]
    }
   ],
   "source": [
    "if os.path.exists(UCI_DATA_FILE):\n",
    "    df = uci_files.load_uci_file(UCI_DATA_FILE, uci_files.SHEET_NAME)\n",
    "else:\n",
    "    df = uci_files.load_uci_file(uci_files.REMOTE_FILE, uci_files.SHEET_NAME)\n",
    "    df.to_csv(UCI_DATA_FILE)\n",
    "    logging.info('Saving a copy to ' + UCI_DATA_FILE)"
   ]
  },
  {
   "cell_type": "markdown",
   "metadata": {},
   "source": [
    "Clean data:"
   ]
  },
  {
   "cell_type": "code",
   "execution_count": 3,
   "metadata": {},
   "outputs": [],
   "source": [
    "# Here, I call the irrelevant lines 'invalids':\n",
    "invalids = stock_codes.invalid_series(df)"
   ]
  },
  {
   "cell_type": "markdown",
   "metadata": {},
   "source": [
    "Aggregate into invoices:"
   ]
  },
  {
   "cell_type": "code",
   "execution_count": 4,
   "metadata": {},
   "outputs": [],
   "source": [
    "invoices = stock_codes.invoice_df(df, invalid_series=invalids)"
   ]
  },
  {
   "cell_type": "code",
   "execution_count": 5,
   "metadata": {
    "slideshow": {
     "slide_type": "subslide"
    }
   },
   "outputs": [
    {
     "data": {
      "text/html": [
       "<div>\n",
       "<style scoped>\n",
       "    .dataframe tbody tr th:only-of-type {\n",
       "        vertical-align: middle;\n",
       "    }\n",
       "\n",
       "    .dataframe tbody tr th {\n",
       "        vertical-align: top;\n",
       "    }\n",
       "\n",
       "    .dataframe thead th {\n",
       "        text-align: right;\n",
       "    }\n",
       "</style>\n",
       "<table border=\"1\" class=\"dataframe\">\n",
       "  <thead>\n",
       "    <tr style=\"text-align: right;\">\n",
       "      <th></th>\n",
       "      <th>customer</th>\n",
       "      <th>codes_in_invoice</th>\n",
       "      <th>items_in_invoice</th>\n",
       "      <th>invoice_spend</th>\n",
       "      <th>hour</th>\n",
       "      <th>month</th>\n",
       "      <th>words</th>\n",
       "      <th>country</th>\n",
       "      <th>words_per_item</th>\n",
       "    </tr>\n",
       "    <tr>\n",
       "      <th>Invoice</th>\n",
       "      <th></th>\n",
       "      <th></th>\n",
       "      <th></th>\n",
       "      <th></th>\n",
       "      <th></th>\n",
       "      <th></th>\n",
       "      <th></th>\n",
       "      <th></th>\n",
       "      <th></th>\n",
       "    </tr>\n",
       "  </thead>\n",
       "  <tbody>\n",
       "    <tr>\n",
       "      <th>489434</th>\n",
       "      <td>13085.0</td>\n",
       "      <td>8</td>\n",
       "      <td>166</td>\n",
       "      <td>505.3</td>\n",
       "      <td>7</td>\n",
       "      <td>200912</td>\n",
       "      <td>{CHRISTMAS, 20, BALL, FANCY, RECORD, BOX, LIGH...</td>\n",
       "      <td>United Kingdom</td>\n",
       "      <td>3.625</td>\n",
       "    </tr>\n",
       "    <tr>\n",
       "      <th>489435</th>\n",
       "      <td>13085.0</td>\n",
       "      <td>4</td>\n",
       "      <td>60</td>\n",
       "      <td>145.8</td>\n",
       "      <td>7</td>\n",
       "      <td>200912</td>\n",
       "      <td>{BALL, BOWL, MEASURING, DOG, WITH, CAKES, SPOO...</td>\n",
       "      <td>United Kingdom</td>\n",
       "      <td>4.000</td>\n",
       "    </tr>\n",
       "  </tbody>\n",
       "</table>\n",
       "</div>"
      ],
      "text/plain": [
       "         customer  codes_in_invoice  items_in_invoice  invoice_spend  hour  \\\n",
       "Invoice                                                                      \n",
       "489434    13085.0                 8               166          505.3     7   \n",
       "489435    13085.0                 4                60          145.8     7   \n",
       "\n",
       "          month                                              words  \\\n",
       "Invoice                                                              \n",
       "489434   200912  {CHRISTMAS, 20, BALL, FANCY, RECORD, BOX, LIGH...   \n",
       "489435   200912  {BALL, BOWL, MEASURING, DOG, WITH, CAKES, SPOO...   \n",
       "\n",
       "                country  words_per_item  \n",
       "Invoice                                  \n",
       "489434   United Kingdom           3.625  \n",
       "489435   United Kingdom           4.000  "
      ]
     },
     "execution_count": 5,
     "metadata": {},
     "output_type": "execute_result"
    }
   ],
   "source": [
    "invoices.head(2)"
   ]
  },
  {
   "cell_type": "code",
   "execution_count": 6,
   "metadata": {},
   "outputs": [
    {
     "data": {
      "text/html": [
       "<div>\n",
       "<style scoped>\n",
       "    .dataframe tbody tr th:only-of-type {\n",
       "        vertical-align: middle;\n",
       "    }\n",
       "\n",
       "    .dataframe tbody tr th {\n",
       "        vertical-align: top;\n",
       "    }\n",
       "\n",
       "    .dataframe thead th {\n",
       "        text-align: right;\n",
       "    }\n",
       "</style>\n",
       "<table border=\"1\" class=\"dataframe\">\n",
       "  <thead>\n",
       "    <tr style=\"text-align: right;\">\n",
       "      <th></th>\n",
       "      <th>customer</th>\n",
       "      <th>codes_in_invoice</th>\n",
       "      <th>items_in_invoice</th>\n",
       "      <th>invoice_spend</th>\n",
       "      <th>hour</th>\n",
       "      <th>month</th>\n",
       "      <th>words</th>\n",
       "      <th>country</th>\n",
       "      <th>words_per_item</th>\n",
       "    </tr>\n",
       "    <tr>\n",
       "      <th>Invoice</th>\n",
       "      <th></th>\n",
       "      <th></th>\n",
       "      <th></th>\n",
       "      <th></th>\n",
       "      <th></th>\n",
       "      <th></th>\n",
       "      <th></th>\n",
       "      <th></th>\n",
       "      <th></th>\n",
       "    </tr>\n",
       "  </thead>\n",
       "  <tbody>\n",
       "    <tr>\n",
       "      <th>538170</th>\n",
       "      <td>13969.0</td>\n",
       "      <td>25</td>\n",
       "      <td>133</td>\n",
       "      <td>317.59</td>\n",
       "      <td>19</td>\n",
       "      <td>201012</td>\n",
       "      <td>{STACKING, CARDS, SEWING, JAM, HOT, LARGE, DEL...</td>\n",
       "      <td>United Kingdom</td>\n",
       "      <td>2.92</td>\n",
       "    </tr>\n",
       "    <tr>\n",
       "      <th>538171</th>\n",
       "      <td>17530.0</td>\n",
       "      <td>65</td>\n",
       "      <td>194</td>\n",
       "      <td>300.64</td>\n",
       "      <td>20</td>\n",
       "      <td>201012</td>\n",
       "      <td>{DINOSAUR, YOUR, MATCHES, GIRL, SAVE, DOILIES,...</td>\n",
       "      <td>United Kingdom</td>\n",
       "      <td>2.20</td>\n",
       "    </tr>\n",
       "  </tbody>\n",
       "</table>\n",
       "</div>"
      ],
      "text/plain": [
       "         customer  codes_in_invoice  items_in_invoice  invoice_spend  hour  \\\n",
       "Invoice                                                                      \n",
       "538170    13969.0                25               133         317.59    19   \n",
       "538171    17530.0                65               194         300.64    20   \n",
       "\n",
       "          month                                              words  \\\n",
       "Invoice                                                              \n",
       "538170   201012  {STACKING, CARDS, SEWING, JAM, HOT, LARGE, DEL...   \n",
       "538171   201012  {DINOSAUR, YOUR, MATCHES, GIRL, SAVE, DOILIES,...   \n",
       "\n",
       "                country  words_per_item  \n",
       "Invoice                                  \n",
       "538170   United Kingdom            2.92  \n",
       "538171   United Kingdom            2.20  "
      ]
     },
     "execution_count": 6,
     "metadata": {},
     "output_type": "execute_result"
    }
   ],
   "source": [
    "invoices.tail(2)"
   ]
  },
  {
   "cell_type": "code",
   "execution_count": 7,
   "metadata": {
    "slideshow": {
     "slide_type": "subslide"
    }
   },
   "outputs": [
    {
     "name": "stdout",
     "output_type": "stream",
     "text": [
      "<class 'pandas.core.frame.DataFrame'>\n",
      "Index: 20577 entries, 489434 to 538171\n",
      "Data columns (total 9 columns):\n",
      " #   Column            Non-Null Count  Dtype  \n",
      "---  ------            --------------  -----  \n",
      " 0   customer          18969 non-null  float64\n",
      " 1   codes_in_invoice  20577 non-null  int64  \n",
      " 2   items_in_invoice  20577 non-null  int64  \n",
      " 3   invoice_spend     20577 non-null  float64\n",
      " 4   hour              20577 non-null  int64  \n",
      " 5   month             20577 non-null  int64  \n",
      " 6   words             20577 non-null  object \n",
      " 7   country           20577 non-null  object \n",
      " 8   words_per_item    20577 non-null  float64\n",
      "dtypes: float64(3), int64(4), object(2)\n",
      "memory usage: 1.6+ MB\n"
     ]
    }
   ],
   "source": [
    "invoices.info()"
   ]
  },
  {
   "cell_type": "markdown",
   "metadata": {
    "slideshow": {
     "slide_type": "slide"
    }
   },
   "source": [
    "### Set a prediction problem:"
   ]
  },
  {
   "cell_type": "markdown",
   "metadata": {},
   "source": [
    "**Given the time, date, and complexity of an invoice, what's its expected spend?**\n",
    "\n",
    "First, we'll attack this in a familiar way: using, as best we can, *linear regression*. \n",
    "\n",
    "*  However, we'll take time to compare two suitable `python` libraries for this."
   ]
  },
  {
   "cell_type": "markdown",
   "metadata": {
    "slideshow": {
     "slide_type": "subslide"
    }
   },
   "source": [
    "### 1. [`statsmodels`](https://www.statsmodels.org/stable/index.html)\n",
    "\n",
    "* package for established statistics; has [some of the feel](https://www.statsmodels.org/stable/example_formulas.html) of R\n",
    "\n",
    "* *statsmodels: Econometric and statistical modeling with python* Seabold, Skipper, and Josef Perktold. Proceedings of the 9th Python in Science Conference, 2010.\n",
    "\n",
    "* funded at [Google Summer of Code (GSOC) 2009-2017](https://summerofcode.withgoogle.com/) and by hedge fund [AQR](https://www.aqr.com)      "
   ]
  },
  {
   "cell_type": "markdown",
   "metadata": {
    "slideshow": {
     "slide_type": "fragment"
    }
   },
   "source": [
    "### 2. [`scikit-learn`](https://scikit-learn.org/stable/index.html)\n",
    "\n",
    "* package for machine learning\n",
    "\n",
    "* *Scikit-learn: Machine Learning in Python*, Pedregosa et al., JMLR 12, pp. 2825-2830, 2011.\n",
    "\n",
    "They both do linear regression."
   ]
  },
  {
   "cell_type": "raw",
   "metadata": {
    "slideshow": {
     "slide_type": "skip"
    }
   },
   "source": [
    "Note - here's the bibtex references for scikit-learn and for statsmodels:\n",
    "\n",
    "@article{scikit-learn,\n",
    " title={Scikit-learn: Machine Learning in {P}ython},\n",
    " author={Pedregosa, F. and Varoquaux, G. and Gramfort, A. and Michel, V.\n",
    "         and Thirion, B. and Grisel, O. and Blondel, M. and Prettenhofer, P.\n",
    "         and Weiss, R. and Dubourg, V. and Vanderplas, J. and Passos, A. and\n",
    "         Cournapeau, D. and Brucher, M. and Perrot, M. and Duchesnay, E.},\n",
    " journal={Journal of Machine Learning Research},\n",
    " volume={12},\n",
    " pages={2825--2830},\n",
    " year={2011}\n",
    "}\n",
    "\n",
    "@inproceedings{seabold2010statsmodels,\n",
    "  title={statsmodels: Econometric and statistical modeling with python},\n",
    "  author={Seabold, Skipper and Perktold, Josef},\n",
    "  booktitle={9th Python in Science Conference},\n",
    "  year={2010},\n",
    "}"
   ]
  },
  {
   "cell_type": "markdown",
   "metadata": {
    "slideshow": {
     "slide_type": "slide"
    }
   },
   "source": [
    "#### Lets import statsmodels / scikit-learn and packages that they use:"
   ]
  },
  {
   "cell_type": "code",
   "execution_count": 8,
   "metadata": {},
   "outputs": [],
   "source": [
    "import numpy as np    # fast handling of matrices of real numbers, and similar\n",
    "\n",
    "import pandas as pd     # great tool for wielding and combining rectangular datasets with varied, named, columns\n",
    "\n",
    "\n",
    "\n",
    "import sklearn\n",
    "\n",
    "import statsmodels"
   ]
  },
  {
   "cell_type": "code",
   "execution_count": 9,
   "metadata": {
    "slideshow": {
     "slide_type": "fragment"
    }
   },
   "outputs": [],
   "source": [
    "# in both cases, we will have to import specifically the bits of the package that we need, for example:\n",
    "import statsmodels.formula.api as smf"
   ]
  },
  {
   "cell_type": "markdown",
   "metadata": {
    "slideshow": {
     "slide_type": "slide"
    }
   },
   "source": [
    "#### Reminder of linear regression:"
   ]
  },
  {
   "cell_type": "markdown",
   "metadata": {},
   "source": [
    "We have an i.i.d. sequence of observations, $\\{(y_i, x_i), i=0, 1, ...\\}$ where we are interested in moments of the R.V. $y_i$, conditional on the multivariate R.V.  $x_i$ (of length, say, $p$). \n",
    "\n",
    "We *postulate* a linear relationship of the following form:\n",
    "\n",
    "\\begin{equation}\n",
    "y_i = x_i ' \\beta + \\epsilon_i,\n",
    "\\end{equation}\n",
    "where $\\beta$ is a vector of parameters of length $p$, and the i.i.d. sequence of random variables $\\{\\epsilon_i\\}$ is independent of the regressors $\\{x_i\\}$"
   ]
  },
  {
   "cell_type": "markdown",
   "metadata": {
    "slideshow": {
     "slide_type": "fragment"
    }
   },
   "source": [
    "#### A personal story:\n",
    "\n",
    "Now, what do I mean here by the word: *'postulate'*? \n",
    "\n",
    "For the econometrician in me, it means I *sincerely assert*.\n",
    "\n",
    "For the machine learner in me, I'm not sure that's quite it. It's more that - pragmatically - I entertain this model.\n",
    "\n",
    "* an important part of this course will be to flesh-out this comparison"
   ]
  },
  {
   "cell_type": "markdown",
   "metadata": {
    "slideshow": {
     "slide_type": "slide"
    }
   },
   "source": [
    "### 1. Fitting a linear regression with `statsmodels`\n",
    "\n",
    "Describe the model in natural statistician's terms:"
   ]
  },
  {
   "cell_type": "code",
   "execution_count": 10,
   "metadata": {},
   "outputs": [],
   "source": [
    "formula_string = 'np.log(invoice_spend) ~ np.log(codes_in_invoice) + np.log(items_in_invoice) + hour + month + words_per_item'"
   ]
  },
  {
   "cell_type": "markdown",
   "metadata": {},
   "source": [
    "Specify that the model is OLS:"
   ]
  },
  {
   "cell_type": "code",
   "execution_count": 11,
   "metadata": {},
   "outputs": [],
   "source": [
    "lm1 = smf.ols(formula=formula_string, data=invoices)"
   ]
  },
  {
   "cell_type": "markdown",
   "metadata": {},
   "source": [
    "Common, pythonic, step, next, namely to `fit()`:"
   ]
  },
  {
   "cell_type": "code",
   "execution_count": 12,
   "metadata": {},
   "outputs": [],
   "source": [
    "fit = lm1.fit()"
   ]
  },
  {
   "cell_type": "code",
   "execution_count": 13,
   "metadata": {
    "slideshow": {
     "slide_type": "subslide"
    }
   },
   "outputs": [
    {
     "data": {
      "text/html": [
       "<table class=\"simpletable\">\n",
       "<caption>OLS Regression Results</caption>\n",
       "<tr>\n",
       "  <th>Dep. Variable:</th>    <td>np.log(invoice_spend)</td> <th>  R-squared:         </th> <td>   0.815</td> \n",
       "</tr>\n",
       "<tr>\n",
       "  <th>Model:</th>                     <td>OLS</td>          <th>  Adj. R-squared:    </th> <td>   0.815</td> \n",
       "</tr>\n",
       "<tr>\n",
       "  <th>Method:</th>               <td>Least Squares</td>     <th>  F-statistic:       </th> <td>1.813e+04</td>\n",
       "</tr>\n",
       "<tr>\n",
       "  <th>Date:</th>               <td>Mon, 13 Apr 2020</td>    <th>  Prob (F-statistic):</th>  <td>  0.00</td>  \n",
       "</tr>\n",
       "<tr>\n",
       "  <th>Time:</th>                   <td>16:41:34</td>        <th>  Log-Likelihood:    </th> <td> -16469.</td> \n",
       "</tr>\n",
       "<tr>\n",
       "  <th>No. Observations:</th>        <td> 20577</td>         <th>  AIC:               </th> <td>3.295e+04</td>\n",
       "</tr>\n",
       "<tr>\n",
       "  <th>Df Residuals:</th>            <td> 20571</td>         <th>  BIC:               </th> <td>3.300e+04</td>\n",
       "</tr>\n",
       "<tr>\n",
       "  <th>Df Model:</th>                <td>     5</td>         <th>                     </th>     <td> </td>    \n",
       "</tr>\n",
       "<tr>\n",
       "  <th>Covariance Type:</th>        <td>nonrobust</td>       <th>                     </th>     <td> </td>    \n",
       "</tr>\n",
       "</table>\n",
       "<table class=\"simpletable\">\n",
       "<tr>\n",
       "              <td></td>                <th>coef</th>     <th>std err</th>      <th>t</th>      <th>P>|t|</th>  <th>[0.025</th>    <th>0.975]</th>  \n",
       "</tr>\n",
       "<tr>\n",
       "  <th>Intercept</th>                <td>   29.2646</td> <td>   29.005</td> <td>    1.009</td> <td> 0.313</td> <td>  -27.587</td> <td>   86.116</td>\n",
       "</tr>\n",
       "<tr>\n",
       "  <th>np.log(codes_in_invoice)</th> <td>    0.1440</td> <td>    0.005</td> <td>   31.038</td> <td> 0.000</td> <td>    0.135</td> <td>    0.153</td>\n",
       "</tr>\n",
       "<tr>\n",
       "  <th>np.log(items_in_invoice)</th> <td>    0.7087</td> <td>    0.003</td> <td>  215.811</td> <td> 0.000</td> <td>    0.702</td> <td>    0.715</td>\n",
       "</tr>\n",
       "<tr>\n",
       "  <th>hour</th>                     <td>   -0.0122</td> <td>    0.002</td> <td>   -7.733</td> <td> 0.000</td> <td>   -0.015</td> <td>   -0.009</td>\n",
       "</tr>\n",
       "<tr>\n",
       "  <th>month</th>                    <td>   -0.0001</td> <td>    0.000</td> <td>   -0.945</td> <td> 0.345</td> <td>   -0.000</td> <td>    0.000</td>\n",
       "</tr>\n",
       "<tr>\n",
       "  <th>words_per_item</th>           <td>    0.0168</td> <td>    0.006</td> <td>    2.691</td> <td> 0.007</td> <td>    0.005</td> <td>    0.029</td>\n",
       "</tr>\n",
       "</table>\n",
       "<table class=\"simpletable\">\n",
       "<tr>\n",
       "  <th>Omnibus:</th>       <td>2692.737</td> <th>  Durbin-Watson:     </th> <td>   1.891</td> \n",
       "</tr>\n",
       "<tr>\n",
       "  <th>Prob(Omnibus):</th>  <td> 0.000</td>  <th>  Jarque-Bera (JB):  </th> <td>19904.742</td>\n",
       "</tr>\n",
       "<tr>\n",
       "  <th>Skew:</th>           <td> 0.405</td>  <th>  Prob(JB):          </th> <td>    0.00</td> \n",
       "</tr>\n",
       "<tr>\n",
       "  <th>Kurtosis:</th>       <td> 7.750</td>  <th>  Cond. No.          </th> <td>1.55e+09</td> \n",
       "</tr>\n",
       "</table><br/><br/>Warnings:<br/>[1] Standard Errors assume that the covariance matrix of the errors is correctly specified.<br/>[2] The condition number is large, 1.55e+09. This might indicate that there are<br/>strong multicollinearity or other numerical problems."
      ],
      "text/plain": [
       "<class 'statsmodels.iolib.summary.Summary'>\n",
       "\"\"\"\n",
       "                              OLS Regression Results                             \n",
       "=================================================================================\n",
       "Dep. Variable:     np.log(invoice_spend)   R-squared:                       0.815\n",
       "Model:                               OLS   Adj. R-squared:                  0.815\n",
       "Method:                    Least Squares   F-statistic:                 1.813e+04\n",
       "Date:                   Mon, 13 Apr 2020   Prob (F-statistic):               0.00\n",
       "Time:                           16:41:34   Log-Likelihood:                -16469.\n",
       "No. Observations:                  20577   AIC:                         3.295e+04\n",
       "Df Residuals:                      20571   BIC:                         3.300e+04\n",
       "Df Model:                              5                                         \n",
       "Covariance Type:               nonrobust                                         \n",
       "============================================================================================\n",
       "                               coef    std err          t      P>|t|      [0.025      0.975]\n",
       "--------------------------------------------------------------------------------------------\n",
       "Intercept                   29.2646     29.005      1.009      0.313     -27.587      86.116\n",
       "np.log(codes_in_invoice)     0.1440      0.005     31.038      0.000       0.135       0.153\n",
       "np.log(items_in_invoice)     0.7087      0.003    215.811      0.000       0.702       0.715\n",
       "hour                        -0.0122      0.002     -7.733      0.000      -0.015      -0.009\n",
       "month                       -0.0001      0.000     -0.945      0.345      -0.000       0.000\n",
       "words_per_item               0.0168      0.006      2.691      0.007       0.005       0.029\n",
       "==============================================================================\n",
       "Omnibus:                     2692.737   Durbin-Watson:                   1.891\n",
       "Prob(Omnibus):                  0.000   Jarque-Bera (JB):            19904.742\n",
       "Skew:                           0.405   Prob(JB):                         0.00\n",
       "Kurtosis:                       7.750   Cond. No.                     1.55e+09\n",
       "==============================================================================\n",
       "\n",
       "Warnings:\n",
       "[1] Standard Errors assume that the covariance matrix of the errors is correctly specified.\n",
       "[2] The condition number is large, 1.55e+09. This might indicate that there are\n",
       "strong multicollinearity or other numerical problems.\n",
       "\"\"\""
      ]
     },
     "execution_count": 13,
     "metadata": {},
     "output_type": "execute_result"
    }
   ],
   "source": [
    "fit.summary()"
   ]
  },
  {
   "cell_type": "markdown",
   "metadata": {},
   "source": [
    "The 'condition number' refers to $X'X$ -- and indicates how stably we can expect to invert that matrix"
   ]
  },
  {
   "cell_type": "markdown",
   "metadata": {
    "slideshow": {
     "slide_type": "slide"
    }
   },
   "source": [
    "#### Comments on linear regression with `statsmodels`\n",
    "\n",
    "* Thorough implementation of linear regression, elegant presentation, including tests:\n",
    "    * significance tests (t-stats, F-tests, p-values, ...)\n",
    "    * specification tests"
   ]
  },
  {
   "cell_type": "markdown",
   "metadata": {
    "slideshow": {
     "slide_type": "fragment"
    }
   },
   "source": [
    "* Imagine these tests pass (though they don't here)\n",
    "    * we may conclude that we now *know* the Data Generating Process\n",
    "       * our parametric modelling has been successful\n",
    "    * we understand statistical aspects of the mechanisms out there\n",
    "    * -> we are in a position to offer *explanations* of past, present and future observation\n",
    "    "
   ]
  },
  {
   "cell_type": "markdown",
   "metadata": {
    "slideshow": {
     "slide_type": "fragment"
    }
   },
   "source": [
    "* However, standard reporting from `statsmodels` is in fact **damning** for my specifiation of the linear regression model on this data\n",
    "    * Message: this is not of use, come back with something that describes reality"
   ]
  },
  {
   "cell_type": "markdown",
   "metadata": {
    "slideshow": {
     "slide_type": "fragment"
    }
   },
   "source": [
    "* All the data has been used in fitting the regression\n",
    "    * like e.g. MLEs, resulting estimates are statistically *efficient*.\n",
    "    * But, to use up all the data like that:\n",
    "      * was that greedy?\n",
    "      * was it prudent?"
   ]
  },
  {
   "cell_type": "markdown",
   "metadata": {
    "slideshow": {
     "slide_type": "slide"
    }
   },
   "source": [
    "### 2. Fitting a linear regression with `scikit-learn`\n",
    "\n",
    "In the case of `scikit-learn`, there are preliminaries to go over."
   ]
  },
  {
   "cell_type": "code",
   "execution_count": 14,
   "metadata": {},
   "outputs": [
    {
     "data": {
      "text/plain": [
       "'np.log(invoice_spend) ~ np.log(codes_in_invoice) + np.log(items_in_invoice) + hour + month + words_per_item'"
      ]
     },
     "execution_count": 14,
     "metadata": {},
     "output_type": "execute_result"
    }
   ],
   "source": [
    "# Reminder of our formulation of this regression:\n",
    "formula_string"
   ]
  },
  {
   "cell_type": "code",
   "execution_count": 15,
   "metadata": {
    "slideshow": {
     "slide_type": "fragment"
    }
   },
   "outputs": [],
   "source": [
    "#  First, we'll have to build some additional columns in our dataframe to take account of the logarithms and squaring:\n",
    "invoices['hour_sqd'] = invoices.hour**2\n",
    "invoices['log_inv_spend'] = np.log(invoices.invoice_spend)\n",
    "invoices['log_n_codes'] = np.log(invoices.codes_in_invoice)\n",
    "invoices['log_n_items'] = np.log(invoices.items_in_invoice)"
   ]
  },
  {
   "cell_type": "code",
   "execution_count": 16,
   "metadata": {},
   "outputs": [],
   "source": [
    "# Regarding this, set out `y` and `X` variables:\n",
    "y = pd.DataFrame(invoices['log_inv_spend'])\n",
    "X = invoices[['log_n_codes', 'log_n_items', 'hour', 'month', 'words_per_item']] # , 'hour_sqd'"
   ]
  },
  {
   "cell_type": "code",
   "execution_count": 17,
   "metadata": {
    "slideshow": {
     "slide_type": "slide"
    }
   },
   "outputs": [],
   "source": [
    "#  pull in scikit-learn libraries:\n",
    "from sklearn.linear_model import LinearRegression\n",
    "from sklearn import metrics"
   ]
  },
  {
   "cell_type": "code",
   "execution_count": 18,
   "metadata": {},
   "outputs": [],
   "source": [
    "model = LinearRegression()"
   ]
  },
  {
   "cell_type": "markdown",
   "metadata": {
    "slideshow": {
     "slide_type": "fragment"
    }
   },
   "source": [
    "#### `.fit()` - first of two central functions/methods in `scikit-learn`"
   ]
  },
  {
   "cell_type": "code",
   "execution_count": 19,
   "metadata": {},
   "outputs": [
    {
     "data": {
      "text/plain": [
       "LinearRegression(copy_X=True, fit_intercept=True, n_jobs=None, normalize=False)"
      ]
     },
     "execution_count": 19,
     "metadata": {},
     "output_type": "execute_result"
    }
   ],
   "source": [
    "model.fit(X, y)"
   ]
  },
  {
   "cell_type": "markdown",
   "metadata": {
    "slideshow": {
     "slide_type": "subslide"
    }
   },
   "source": [
    "#### `.predict()` - the second of the two"
   ]
  },
  {
   "cell_type": "code",
   "execution_count": 20,
   "metadata": {},
   "outputs": [
    {
     "data": {
      "image/png": "[encoded data removed]",
      "text/plain": [
       "<Figure size 864x288 with 1 Axes>"
      ]
     },
     "metadata": {
      "needs_background": "light"
     },
     "output_type": "display_data"
    }
   ],
   "source": [
    "y_hat = model.predict(X)\n",
    "plt.scatter(y_hat, y, marker='.')\n",
    "plt.grid(); plt.xlabel('fit'); plt.ylabel('actual'); plt.axvline(); plt.axhline(); plt.show()"
   ]
  },
  {
   "cell_type": "code",
   "execution_count": 21,
   "metadata": {
    "slideshow": {
     "slide_type": "subslide"
    }
   },
   "outputs": [
    {
     "name": "stdout",
     "output_type": "stream",
     "text": [
      "intercept is  [29.26457648]\n",
      "coefficients are  [[ 1.43967271e-01  7.08724911e-01 -1.22246009e-02 -1.36293685e-04\n",
      "   1.67567537e-02]]\n",
      "R2 is  0.8150405334343745\n"
     ]
    }
   ],
   "source": [
    "print('intercept is ', model.intercept_)\n",
    "print('coefficients are ', model.coef_)\n",
    "print('R2 is ', model.score(X, y))"
   ]
  },
  {
   "cell_type": "markdown",
   "metadata": {},
   "source": [
    "-> We can confirm that these are the same numbers as those obtained earlier with `statsmodels`"
   ]
  },
  {
   "cell_type": "markdown",
   "metadata": {
    "slideshow": {
     "slide_type": "slide"
    }
   },
   "source": [
    "#### Observations so far about linear regression with `scikit-learn`\n",
    "\n",
    "The linear regression feels much less slick than `statsmodels`\n",
    "\n",
    "* we have to do more work to prepare it\n",
    "\n",
    "* it only presents the details of its fit, if we interrogate oddly-named attributes like `.coef_`\n",
    "\n",
    "* it doesn't seem to offer either specification, or significance, testing\n",
    "\n",
    "In fact, it seems hard to extract from it anything much at all, relating to its *linear* structure\n",
    "\n"
   ]
  },
  {
   "cell_type": "markdown",
   "metadata": {
    "slideshow": {
     "slide_type": "fragment"
    }
   },
   "source": [
    "#### Lets push `scikit-learn` harder, to find out where it excels"
   ]
  },
  {
   "cell_type": "markdown",
   "metadata": {
    "slideshow": {
     "slide_type": "slide"
    }
   },
   "source": [
    "#### Separate testing data from training data"
   ]
  },
  {
   "cell_type": "code",
   "execution_count": 22,
   "metadata": {
    "slideshow": {
     "slide_type": "fragment"
    }
   },
   "outputs": [],
   "source": [
    "from sklearn import inspection\n",
    "from sklearn.model_selection import KFold"
   ]
  },
  {
   "cell_type": "markdown",
   "metadata": {
    "slideshow": {
     "slide_type": "fragment"
    }
   },
   "source": [
    "#### We're going to loop through data, so we write a function to encapsulate that:"
   ]
  },
  {
   "cell_type": "markdown",
   "metadata": {},
   "source": [
    "Take a look at [`train_n_test()`](https://github.com/jeremy-large/ox-sbs-ml-bd/blob/196fc5903a35469e4e382586a35203ae1547c799/lib/sbs_sklearn.py#L31)"
   ]
  },
  {
   "cell_type": "code",
   "execution_count": 23,
   "metadata": {},
   "outputs": [],
   "source": [
    "from sbs_sklearn import train_n_test"
   ]
  },
  {
   "cell_type": "markdown",
   "metadata": {
    "slideshow": {
     "slide_type": "fragment"
    }
   },
   "source": [
    "#### ... and a helper function to plot diagrams:"
   ]
  },
  {
   "cell_type": "markdown",
   "metadata": {},
   "source": [
    "Take a look at [`mfe_r2_diag()`](https://github.com/jeremy-large/ox-sbs-ml-bd/blob/196fc5903a35469e4e382586a35203ae1547c799/lib/sbs_sklearn.py#L63)"
   ]
  },
  {
   "cell_type": "code",
   "execution_count": 24,
   "metadata": {},
   "outputs": [],
   "source": [
    "from sbs_sklearn import mfe_r2_diag"
   ]
  },
  {
   "cell_type": "markdown",
   "metadata": {
    "slideshow": {
     "slide_type": "slide"
    }
   },
   "source": [
    "#### Now lets deploy `scikit-learn` several times, distinguishing `train` from `test`:"
   ]
  },
  {
   "cell_type": "code",
   "execution_count": 26,
   "metadata": {},
   "outputs": [
    {
     "name": "stdout",
     "output_type": "stream",
     "text": [
      "In study 1/6, 3430 datapoints were held back for testing; first 10 such points = [10 25 27 37 45 55 63 65 67 87]\n",
      "In study 2/6, 3430 datapoints were held back for testing; first 10 such points = [ 1  4 26 34 38 41 46 47 49 58]\n",
      "In study 3/6, 3430 datapoints were held back for testing; first 10 such points = [ 3  5  7 11 21 23 28 29 32 35]\n",
      "In study 4/6, 3429 datapoints were held back for testing; first 10 such points = [ 2  6  8 12 13 15 16 17 22 24]\n",
      "In study 5/6, 3429 datapoints were held back for testing; first 10 such points = [14 18 19 20 30 31 33 40 43 50]\n",
      "In study 6/6, 3429 datapoints were held back for testing; first 10 such points = [ 0  9 42 51 56 60 64 74 75 76]\n"
     ]
    }
   ],
   "source": [
    "scores = train_n_test(X, y, 6, verbose=True)"
   ]
  },
  {
   "cell_type": "code",
   "execution_count": 27,
   "metadata": {
    "slideshow": {
     "slide_type": "fragment"
    }
   },
   "outputs": [
    {
     "data": {
      "image/png": "[encoded data removed]",
      "text/plain": [
       "<Figure size 864x288 with 1 Axes>"
      ]
     },
     "metadata": {
      "needs_background": "light"
     },
     "output_type": "display_data"
    }
   ],
   "source": [
    "mfe_r2_diag(scores)"
   ]
  },
  {
   "cell_type": "code",
   "execution_count": 28,
   "metadata": {
    "slideshow": {
     "slide_type": "subslide"
    }
   },
   "outputs": [
    {
     "name": "stdout",
     "output_type": "stream",
     "text": [
      "In study 1/750, 28 datapoints were held back for testing; first 10 such points = [ 215  680 1243 1700 2654 3433 4219 5295 6928 7305]\n"
     ]
    },
    {
     "data": {
      "image/png": "[encoded data removed]",
      "text/plain": [
       "<Figure size 864x288 with 1 Axes>"
      ]
     },
     "metadata": {
      "needs_background": "light"
     },
     "output_type": "display_data"
    }
   ],
   "source": [
    "scores = train_n_test(X, y, 750)\n",
    "mfe_r2_diag(scores)"
   ]
  },
  {
   "cell_type": "code",
   "execution_count": 29,
   "metadata": {
    "slideshow": {
     "slide_type": "subslide"
    }
   },
   "outputs": [
    {
     "data": {
      "image/png": "[encoded data removed]",
      "text/plain": [
       "<Figure size 864x288 with 1 Axes>"
      ]
     },
     "metadata": {
      "needs_background": "light"
     },
     "output_type": "display_data"
    }
   ],
   "source": [
    "mfe_r2_diag(scores, histogram=True)"
   ]
  },
  {
   "cell_type": "code",
   "execution_count": 30,
   "metadata": {},
   "outputs": [
    {
     "data": {
      "text/plain": [
       "'0.783 is only a little less than 0.815'"
      ]
     },
     "execution_count": 30,
     "metadata": {},
     "output_type": "execute_result"
    }
   ],
   "source": [
    "f\"{np.round(mean(scores), 3)} is only a little less than {np.round(model.score(X, y), 3)}\""
   ]
  },
  {
   "cell_type": "markdown",
   "metadata": {},
   "source": [
    "Mis-specified it may be, but this modelling is working to an R2 of ~80% when applied to 'unseen' data"
   ]
  },
  {
   "cell_type": "markdown",
   "metadata": {
    "slideshow": {
     "slide_type": "slide"
    }
   },
   "source": [
    "#### Comments on linear regression with `scikit-learn`\n",
    "\n",
    "* Correct implementation of linear regression\n",
    "\n",
    "* Not focused on standard testing for linear regression\n",
    "    * significance tests (t-stats, F-tests, p-values, ...)\n",
    "    * specification tests\n",
    "    "
   ]
  },
  {
   "cell_type": "markdown",
   "metadata": {
    "slideshow": {
     "slide_type": "fragment"
    }
   },
   "source": [
    "* Our model failed every specification test that `statsmodel` threw at it\n",
    "\n",
    "* -> YET (per `scikit-learn`): it had a decent r2 on unseen data\n",
    "    * Pragmatism: this model, for all its faults, can be used\n",
    "    "
   ]
  },
  {
   "cell_type": "markdown",
   "metadata": {
    "slideshow": {
     "slide_type": "fragment"
    }
   },
   "source": [
    "* To embody more of a Machine Learning paradigm, we reprioritize:\n",
    "    * prediction [`.predict() `] as compared to explanation\n",
    "    * out-of-sample fitting, as compared to specification testing\n",
    "    * empirical distribution of our statistic, as compared to an asymptotic limit theory for it\n",
    "    "
   ]
  },
  {
   "cell_type": "markdown",
   "metadata": {
    "slideshow": {
     "slide_type": "subslide"
    }
   },
   "source": [
    "To embody more of a Machine Learning paradigm, we reprioritize:\n",
    "* prediction [`.predict() `] as compared to explanation\n",
    "* out-of-sample fitting, as compared to specification testing\n",
    "* empirical distribution of our statistic, as compared to an asymptotic limit theory for it"
   ]
  },
  {
   "cell_type": "markdown",
   "metadata": {},
   "source": [
    "### > In an abundance of data, and for some purposes, this reprioritization will make sense\n",
    "\n",
    "* leaves us flexible in new dimensions"
   ]
  },
  {
   "cell_type": "markdown",
   "metadata": {},
   "source": [
    "*Exercise*: apply the K-fold regression approach with number of folds equal to a tenth of the number of observations. Plot a histogram of the result, and discuss its meaning, as well as why it takes so long to compute."
   ]
  },
  {
   "cell_type": "code",
   "execution_count": null,
   "metadata": {},
   "outputs": [],
   "source": []
  }
 ],
 "metadata": {
  "celltoolbar": "Slideshow",
  "kernelspec": {
   "display_name": "Python 3",
   "language": "python",
   "name": "python3"
  },
  "language_info": {
   "codemirror_mode": {
    "name": "ipython",
    "version": 3
   },
   "file_extension": ".py",
   "mimetype": "text/x-python",
   "name": "python",
   "nbconvert_exporter": "python",
   "pygments_lexer": "ipython3",
   "version": "3.6.10"
  }
 },
 "nbformat": 4,
 "nbformat_minor": 4
}
