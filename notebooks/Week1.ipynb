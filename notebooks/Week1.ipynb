{
 "cells": [
  {
   "cell_type": "markdown",
   "metadata": {
    "slideshow": {
     "slide_type": "slide"
    }
   },
   "source": [
    "# Advances in Machine Learning with Big Data\n",
    "\n",
    "### Dr Jeremy Large and Dr Matthias Qian\n",
    "#### jeremy.large@economics.ox.ac.uk\n",
    "#### matthias.qian@economics.ox.ac.uk\n",
    "### Trinity 2020\n",
    "\n"
   ]
  },
  {
   "cell_type": "markdown",
   "metadata": {
    "slideshow": {
     "slide_type": "subslide"
    }
   },
   "source": [
    "... make the notebook pick it up if I change the functions in my libraries behind the scenes:"
   ]
  },
  {
   "cell_type": "code",
   "execution_count": 1,
   "metadata": {
    "slideshow": {
     "slide_type": "-"
    }
   },
   "outputs": [],
   "source": [
    "%load_ext autoreload\n",
    "%autoreload 2"
   ]
  },
  {
   "cell_type": "markdown",
   "metadata": {
    "slideshow": {
     "slide_type": "-"
    }
   },
   "source": [
    "... classic python libraries that are almost always needed for machine learning work:"
   ]
  },
  {
   "cell_type": "code",
   "execution_count": 42,
   "metadata": {
    "slideshow": {
     "slide_type": "-"
    }
   },
   "outputs": [],
   "source": [
    "import sys\n",
    "import os\n",
    "import pandas as pd\n",
    "import logging\n",
    "%matplotlib notebook"
   ]
  },
  {
   "cell_type": "markdown",
   "metadata": {
    "slideshow": {
     "slide_type": "subslide"
    }
   },
   "source": [
    "... now I tell the code where to look for the libraries I wrote for the course, as well as where to dump data:"
   ]
  },
  {
   "cell_type": "code",
   "execution_count": 3,
   "metadata": {
    "slideshow": {
     "slide_type": "-"
    }
   },
   "outputs": [],
   "source": [
    "# point at library; I need some lessons on doing good PYTHONPATHs:\n",
    "REPO_DIR = os.path.dirname(os.getcwd())\n",
    "\n",
    "UCI_LIB = os.path.join(REPO_DIR, 'lib')\n",
    "UCI_DATA = os.path.join(REPO_DIR, 'data') \n",
    "\n",
    "sys.path.append(UCI_LIB)\n",
    "\n",
    "logging.basicConfig(format='%(asctime)s %(levelname)s:%(message)s', level=logging.INFO)"
   ]
  },
  {
   "cell_type": "code",
   "execution_count": 4,
   "metadata": {
    "slideshow": {
     "slide_type": "-"
    }
   },
   "outputs": [],
   "source": [
    "UCI_DATA_FILE = os.path.join(UCI_DATA, 'raw.csv') "
   ]
  },
  {
   "cell_type": "markdown",
   "metadata": {
    "slideshow": {
     "slide_type": "-"
    }
   },
   "source": [
    "... among other things we created a path name where we can later save a file:"
   ]
  },
  {
   "cell_type": "code",
   "execution_count": 5,
   "metadata": {
    "slideshow": {
     "slide_type": "-"
    }
   },
   "outputs": [
    {
     "name": "stdout",
     "output_type": "stream",
     "text": [
      "C:\\Users\\Jeremy Large\\Documents\\professional\\Oxford Work\\ML Lectures\\ox-sbs-ml-bd\\data\\raw.csv\n"
     ]
    }
   ],
   "source": [
    "print(UCI_DATA_FILE)"
   ]
  },
  {
   "cell_type": "markdown",
   "metadata": {
    "slideshow": {
     "slide_type": "subslide"
    }
   },
   "source": [
    "... so, now I can tell the code to go looking for my behind-the-scenes functions:"
   ]
  },
  {
   "cell_type": "code",
   "execution_count": 6,
   "metadata": {
    "slideshow": {
     "slide_type": "-"
    }
   },
   "outputs": [],
   "source": [
    "from uci_retail_data.stock_codes import is_invalid, customer_code, stock_code_to_num, invalid_series, invoice_df\n",
    "from uci_retail_data.uci_files import load_uci_file, REMOTE_FILE, SHEET_NAME"
   ]
  },
  {
   "cell_type": "markdown",
   "metadata": {
    "slideshow": {
     "slide_type": "-"
    }
   },
   "source": [
    "... for example, here's one of the variables we just went and obtained:"
   ]
  },
  {
   "cell_type": "code",
   "execution_count": 7,
   "metadata": {
    "slideshow": {
     "slide_type": "-"
    }
   },
   "outputs": [
    {
     "data": {
      "text/plain": [
       "'https://archive.ics.uci.edu/ml/machine-learning-databases/00502/online_retail_II.xlsx'"
      ]
     },
     "execution_count": 7,
     "metadata": {},
     "output_type": "execute_result"
    }
   ],
   "source": [
    "REMOTE_FILE"
   ]
  },
  {
   "cell_type": "markdown",
   "metadata": {
    "slideshow": {
     "slide_type": "slide"
    }
   },
   "source": [
    "# Overview of the course"
   ]
  },
  {
   "cell_type": "markdown",
   "metadata": {
    "slideshow": {
     "slide_type": "-"
    }
   },
   "source": [
    "## 1. Introducing the dataset"
   ]
  },
  {
   "cell_type": "code",
   "execution_count": 8,
   "metadata": {
    "slideshow": {
     "slide_type": "-"
    }
   },
   "outputs": [
    {
     "name": "stdout",
     "output_type": "stream",
     "text": [
      "https://archive.ics.uci.edu/ml/machine-learning-databases/00502/online_retail_II.xlsx\n",
      "Year 2009-2010\n"
     ]
    }
   ],
   "source": [
    "print(REMOTE_FILE)\n",
    "print(SHEET_NAME)"
   ]
  },
  {
   "cell_type": "code",
   "execution_count": 9,
   "metadata": {
    "slideshow": {
     "slide_type": "subslide"
    }
   },
   "outputs": [
    {
     "name": "stderr",
     "output_type": "stream",
     "text": [
      "2020-02-12 16:57:30,957 INFO:Loading https://archive.ics.uci.edu/ml/machine-learning-databases/00502/online_retail_II.xlsx , sheet Year 2009-2010\n",
      "2020-02-12 17:01:08,798 INFO:Loaded https://archive.ics.uci.edu/ml/machine-learning-databases/00502/online_retail_II.xlsx , sheet Year 2009-2010\n",
      "2020-02-12 17:01:18,010 INFO:Saving a copy to C:\\Users\\Jeremy Large\\Documents\\professional\\Oxford Work\\ML Lectures\\ox-sbs-ml-bd\\data\\raw.csv\n"
     ]
    }
   ],
   "source": [
    "if os.path.exists(UCI_DATA_FILE):\n",
    "    df = load_uci_file(UCI_DATA_FILE, SHEET_NAME)\n",
    "else:\n",
    "    df = load_uci_file(REMOTE_FILE, SHEET_NAME)\n",
    "    df.to_csv(UCI_DATA_FILE)\n",
    "    logging.info('Saving a copy to ' + UCI_DATA_FILE)"
   ]
  },
  {
   "cell_type": "code",
   "execution_count": 10,
   "metadata": {
    "slideshow": {
     "slide_type": "-"
    }
   },
   "outputs": [
    {
     "data": {
      "text/html": [
       "<div>\n",
       "<style scoped>\n",
       "    .dataframe tbody tr th:only-of-type {\n",
       "        vertical-align: middle;\n",
       "    }\n",
       "\n",
       "    .dataframe tbody tr th {\n",
       "        vertical-align: top;\n",
       "    }\n",
       "\n",
       "    .dataframe thead th {\n",
       "        text-align: right;\n",
       "    }\n",
       "</style>\n",
       "<table border=\"1\" class=\"dataframe\">\n",
       "  <thead>\n",
       "    <tr style=\"text-align: right;\">\n",
       "      <th></th>\n",
       "      <th>Invoice</th>\n",
       "      <th>StockCode</th>\n",
       "      <th>Description</th>\n",
       "      <th>Quantity</th>\n",
       "      <th>InvoiceDate</th>\n",
       "      <th>Price</th>\n",
       "      <th>Customer ID</th>\n",
       "      <th>Country</th>\n",
       "    </tr>\n",
       "  </thead>\n",
       "  <tbody>\n",
       "    <tr>\n",
       "      <th>0</th>\n",
       "      <td>489434</td>\n",
       "      <td>85048</td>\n",
       "      <td>15CM CHRISTMAS GLASS BALL 20 LIGHTS</td>\n",
       "      <td>12</td>\n",
       "      <td>2009-12-01 07:45:00</td>\n",
       "      <td>6.95</td>\n",
       "      <td>13085.0</td>\n",
       "      <td>United Kingdom</td>\n",
       "    </tr>\n",
       "    <tr>\n",
       "      <th>1</th>\n",
       "      <td>489434</td>\n",
       "      <td>79323P</td>\n",
       "      <td>PINK CHERRY LIGHTS</td>\n",
       "      <td>12</td>\n",
       "      <td>2009-12-01 07:45:00</td>\n",
       "      <td>6.75</td>\n",
       "      <td>13085.0</td>\n",
       "      <td>United Kingdom</td>\n",
       "    </tr>\n",
       "    <tr>\n",
       "      <th>2</th>\n",
       "      <td>489434</td>\n",
       "      <td>79323W</td>\n",
       "      <td>WHITE CHERRY LIGHTS</td>\n",
       "      <td>12</td>\n",
       "      <td>2009-12-01 07:45:00</td>\n",
       "      <td>6.75</td>\n",
       "      <td>13085.0</td>\n",
       "      <td>United Kingdom</td>\n",
       "    </tr>\n",
       "    <tr>\n",
       "      <th>3</th>\n",
       "      <td>489434</td>\n",
       "      <td>22041</td>\n",
       "      <td>RECORD FRAME 7\" SINGLE SIZE</td>\n",
       "      <td>48</td>\n",
       "      <td>2009-12-01 07:45:00</td>\n",
       "      <td>2.10</td>\n",
       "      <td>13085.0</td>\n",
       "      <td>United Kingdom</td>\n",
       "    </tr>\n",
       "    <tr>\n",
       "      <th>4</th>\n",
       "      <td>489434</td>\n",
       "      <td>21232</td>\n",
       "      <td>STRAWBERRY CERAMIC TRINKET BOX</td>\n",
       "      <td>24</td>\n",
       "      <td>2009-12-01 07:45:00</td>\n",
       "      <td>1.25</td>\n",
       "      <td>13085.0</td>\n",
       "      <td>United Kingdom</td>\n",
       "    </tr>\n",
       "  </tbody>\n",
       "</table>\n",
       "</div>"
      ],
      "text/plain": [
       "  Invoice StockCode                          Description  Quantity  \\\n",
       "0  489434     85048  15CM CHRISTMAS GLASS BALL 20 LIGHTS        12   \n",
       "1  489434    79323P                   PINK CHERRY LIGHTS        12   \n",
       "2  489434    79323W                  WHITE CHERRY LIGHTS        12   \n",
       "3  489434     22041         RECORD FRAME 7\" SINGLE SIZE         48   \n",
       "4  489434     21232       STRAWBERRY CERAMIC TRINKET BOX        24   \n",
       "\n",
       "          InvoiceDate  Price  Customer ID         Country  \n",
       "0 2009-12-01 07:45:00   6.95      13085.0  United Kingdom  \n",
       "1 2009-12-01 07:45:00   6.75      13085.0  United Kingdom  \n",
       "2 2009-12-01 07:45:00   6.75      13085.0  United Kingdom  \n",
       "3 2009-12-01 07:45:00   2.10      13085.0  United Kingdom  \n",
       "4 2009-12-01 07:45:00   1.25      13085.0  United Kingdom  "
      ]
     },
     "execution_count": 10,
     "metadata": {},
     "output_type": "execute_result"
    }
   ],
   "source": [
    "df.head()"
   ]
  },
  {
   "cell_type": "code",
   "execution_count": 11,
   "metadata": {
    "slideshow": {
     "slide_type": "subslide"
    }
   },
   "outputs": [
    {
     "data": {
      "text/html": [
       "<div>\n",
       "<style scoped>\n",
       "    .dataframe tbody tr th:only-of-type {\n",
       "        vertical-align: middle;\n",
       "    }\n",
       "\n",
       "    .dataframe tbody tr th {\n",
       "        vertical-align: top;\n",
       "    }\n",
       "\n",
       "    .dataframe thead th {\n",
       "        text-align: right;\n",
       "    }\n",
       "</style>\n",
       "<table border=\"1\" class=\"dataframe\">\n",
       "  <thead>\n",
       "    <tr style=\"text-align: right;\">\n",
       "      <th></th>\n",
       "      <th>Invoice</th>\n",
       "      <th>StockCode</th>\n",
       "      <th>Description</th>\n",
       "      <th>Quantity</th>\n",
       "      <th>InvoiceDate</th>\n",
       "      <th>Price</th>\n",
       "      <th>Customer ID</th>\n",
       "      <th>Country</th>\n",
       "    </tr>\n",
       "  </thead>\n",
       "  <tbody>\n",
       "    <tr>\n",
       "      <th>525456</th>\n",
       "      <td>538171</td>\n",
       "      <td>22271</td>\n",
       "      <td>FELTCRAFT DOLL ROSIE</td>\n",
       "      <td>2</td>\n",
       "      <td>2010-12-09 20:01:00</td>\n",
       "      <td>2.95</td>\n",
       "      <td>17530.0</td>\n",
       "      <td>United Kingdom</td>\n",
       "    </tr>\n",
       "    <tr>\n",
       "      <th>525457</th>\n",
       "      <td>538171</td>\n",
       "      <td>22750</td>\n",
       "      <td>FELTCRAFT PRINCESS LOLA DOLL</td>\n",
       "      <td>1</td>\n",
       "      <td>2010-12-09 20:01:00</td>\n",
       "      <td>3.75</td>\n",
       "      <td>17530.0</td>\n",
       "      <td>United Kingdom</td>\n",
       "    </tr>\n",
       "    <tr>\n",
       "      <th>525458</th>\n",
       "      <td>538171</td>\n",
       "      <td>22751</td>\n",
       "      <td>FELTCRAFT PRINCESS OLIVIA DOLL</td>\n",
       "      <td>1</td>\n",
       "      <td>2010-12-09 20:01:00</td>\n",
       "      <td>3.75</td>\n",
       "      <td>17530.0</td>\n",
       "      <td>United Kingdom</td>\n",
       "    </tr>\n",
       "    <tr>\n",
       "      <th>525459</th>\n",
       "      <td>538171</td>\n",
       "      <td>20970</td>\n",
       "      <td>PINK FLORAL FELTCRAFT SHOULDER BAG</td>\n",
       "      <td>2</td>\n",
       "      <td>2010-12-09 20:01:00</td>\n",
       "      <td>3.75</td>\n",
       "      <td>17530.0</td>\n",
       "      <td>United Kingdom</td>\n",
       "    </tr>\n",
       "    <tr>\n",
       "      <th>525460</th>\n",
       "      <td>538171</td>\n",
       "      <td>21931</td>\n",
       "      <td>JUMBO STORAGE BAG SUKI</td>\n",
       "      <td>2</td>\n",
       "      <td>2010-12-09 20:01:00</td>\n",
       "      <td>1.95</td>\n",
       "      <td>17530.0</td>\n",
       "      <td>United Kingdom</td>\n",
       "    </tr>\n",
       "  </tbody>\n",
       "</table>\n",
       "</div>"
      ],
      "text/plain": [
       "       Invoice StockCode                         Description  Quantity  \\\n",
       "525456  538171     22271                FELTCRAFT DOLL ROSIE         2   \n",
       "525457  538171     22750        FELTCRAFT PRINCESS LOLA DOLL         1   \n",
       "525458  538171     22751      FELTCRAFT PRINCESS OLIVIA DOLL         1   \n",
       "525459  538171     20970  PINK FLORAL FELTCRAFT SHOULDER BAG         2   \n",
       "525460  538171     21931              JUMBO STORAGE BAG SUKI         2   \n",
       "\n",
       "               InvoiceDate  Price  Customer ID         Country  \n",
       "525456 2010-12-09 20:01:00   2.95      17530.0  United Kingdom  \n",
       "525457 2010-12-09 20:01:00   3.75      17530.0  United Kingdom  \n",
       "525458 2010-12-09 20:01:00   3.75      17530.0  United Kingdom  \n",
       "525459 2010-12-09 20:01:00   3.75      17530.0  United Kingdom  \n",
       "525460 2010-12-09 20:01:00   1.95      17530.0  United Kingdom  "
      ]
     },
     "execution_count": 11,
     "metadata": {},
     "output_type": "execute_result"
    }
   ],
   "source": [
    "df.tail()"
   ]
  },
  {
   "cell_type": "code",
   "execution_count": 12,
   "metadata": {
    "slideshow": {
     "slide_type": "subslide"
    }
   },
   "outputs": [
    {
     "name": "stdout",
     "output_type": "stream",
     "text": [
      "<class 'pandas.core.frame.DataFrame'>\n",
      "RangeIndex: 525461 entries, 0 to 525460\n",
      "Data columns (total 8 columns):\n",
      "Invoice        525461 non-null object\n",
      "StockCode      525461 non-null object\n",
      "Description    522533 non-null object\n",
      "Quantity       525461 non-null int64\n",
      "InvoiceDate    525461 non-null datetime64[ns]\n",
      "Price          525461 non-null float64\n",
      "Customer ID    417534 non-null float64\n",
      "Country        525461 non-null object\n",
      "dtypes: datetime64[ns](1), float64(2), int64(1), object(4)\n",
      "memory usage: 32.1+ MB\n"
     ]
    }
   ],
   "source": [
    "df.info()"
   ]
  },
  {
   "cell_type": "code",
   "execution_count": 13,
   "metadata": {
    "slideshow": {
     "slide_type": "-"
    }
   },
   "outputs": [
    {
     "data": {
      "text/html": [
       "<div>\n",
       "<style scoped>\n",
       "    .dataframe tbody tr th:only-of-type {\n",
       "        vertical-align: middle;\n",
       "    }\n",
       "\n",
       "    .dataframe tbody tr th {\n",
       "        vertical-align: top;\n",
       "    }\n",
       "\n",
       "    .dataframe thead th {\n",
       "        text-align: right;\n",
       "    }\n",
       "</style>\n",
       "<table border=\"1\" class=\"dataframe\">\n",
       "  <thead>\n",
       "    <tr style=\"text-align: right;\">\n",
       "      <th></th>\n",
       "      <th>count</th>\n",
       "      <th>mean</th>\n",
       "      <th>std</th>\n",
       "      <th>min</th>\n",
       "      <th>25%</th>\n",
       "      <th>50%</th>\n",
       "      <th>75%</th>\n",
       "      <th>max</th>\n",
       "    </tr>\n",
       "  </thead>\n",
       "  <tbody>\n",
       "    <tr>\n",
       "      <th>Quantity</th>\n",
       "      <td>525461.0</td>\n",
       "      <td>10.337667</td>\n",
       "      <td>107.424110</td>\n",
       "      <td>-9600.00</td>\n",
       "      <td>1.00</td>\n",
       "      <td>3.0</td>\n",
       "      <td>10.00</td>\n",
       "      <td>19152.00</td>\n",
       "    </tr>\n",
       "    <tr>\n",
       "      <th>Price</th>\n",
       "      <td>525461.0</td>\n",
       "      <td>4.688834</td>\n",
       "      <td>146.126914</td>\n",
       "      <td>-53594.36</td>\n",
       "      <td>1.25</td>\n",
       "      <td>2.1</td>\n",
       "      <td>4.21</td>\n",
       "      <td>25111.09</td>\n",
       "    </tr>\n",
       "    <tr>\n",
       "      <th>Customer ID</th>\n",
       "      <td>417534.0</td>\n",
       "      <td>15360.645478</td>\n",
       "      <td>1680.811316</td>\n",
       "      <td>12346.00</td>\n",
       "      <td>13983.00</td>\n",
       "      <td>15311.0</td>\n",
       "      <td>16799.00</td>\n",
       "      <td>18287.00</td>\n",
       "    </tr>\n",
       "  </tbody>\n",
       "</table>\n",
       "</div>"
      ],
      "text/plain": [
       "                count          mean          std       min       25%      50%  \\\n",
       "Quantity     525461.0     10.337667   107.424110  -9600.00      1.00      3.0   \n",
       "Price        525461.0      4.688834   146.126914 -53594.36      1.25      2.1   \n",
       "Customer ID  417534.0  15360.645478  1680.811316  12346.00  13983.00  15311.0   \n",
       "\n",
       "                  75%       max  \n",
       "Quantity        10.00  19152.00  \n",
       "Price            4.21  25111.09  \n",
       "Customer ID  16799.00  18287.00  "
      ]
     },
     "execution_count": 13,
     "metadata": {},
     "output_type": "execute_result"
    }
   ],
   "source": [
    "df.describe().T"
   ]
  },
  {
   "cell_type": "markdown",
   "metadata": {
    "slideshow": {
     "slide_type": "-"
    }
   },
   "source": [
    "... half a million rows is _not that much_ these days, but will be a good illustration for this course"
   ]
  },
  {
   "cell_type": "code",
   "execution_count": 20,
   "metadata": {
    "slideshow": {
     "slide_type": "subslide"
    }
   },
   "outputs": [],
   "source": [
    "invalids = invalid_series(df)"
   ]
  },
  {
   "cell_type": "code",
   "execution_count": 21,
   "metadata": {
    "slideshow": {
     "slide_type": "-"
    }
   },
   "outputs": [
    {
     "data": {
      "text/html": [
       "<div>\n",
       "<style scoped>\n",
       "    .dataframe tbody tr th:only-of-type {\n",
       "        vertical-align: middle;\n",
       "    }\n",
       "\n",
       "    .dataframe tbody tr th {\n",
       "        vertical-align: top;\n",
       "    }\n",
       "\n",
       "    .dataframe thead th {\n",
       "        text-align: right;\n",
       "    }\n",
       "</style>\n",
       "<table border=\"1\" class=\"dataframe\">\n",
       "  <thead>\n",
       "    <tr style=\"text-align: right;\">\n",
       "      <th></th>\n",
       "      <th>Invoice</th>\n",
       "      <th>StockCode</th>\n",
       "      <th>Description</th>\n",
       "      <th>Quantity</th>\n",
       "      <th>InvoiceDate</th>\n",
       "      <th>Price</th>\n",
       "      <th>Customer ID</th>\n",
       "      <th>Country</th>\n",
       "    </tr>\n",
       "  </thead>\n",
       "  <tbody>\n",
       "    <tr>\n",
       "      <th>89</th>\n",
       "      <td>489439</td>\n",
       "      <td>POST</td>\n",
       "      <td>POSTAGE</td>\n",
       "      <td>3</td>\n",
       "      <td>2009-12-01 09:28:00</td>\n",
       "      <td>18.00</td>\n",
       "      <td>12682.0</td>\n",
       "      <td>France</td>\n",
       "    </tr>\n",
       "    <tr>\n",
       "      <th>126</th>\n",
       "      <td>489444</td>\n",
       "      <td>POST</td>\n",
       "      <td>POSTAGE</td>\n",
       "      <td>1</td>\n",
       "      <td>2009-12-01 09:55:00</td>\n",
       "      <td>141.00</td>\n",
       "      <td>12636.0</td>\n",
       "      <td>USA</td>\n",
       "    </tr>\n",
       "    <tr>\n",
       "      <th>173</th>\n",
       "      <td>489447</td>\n",
       "      <td>POST</td>\n",
       "      <td>POSTAGE</td>\n",
       "      <td>1</td>\n",
       "      <td>2009-12-01 10:10:00</td>\n",
       "      <td>130.00</td>\n",
       "      <td>12362.0</td>\n",
       "      <td>Belgium</td>\n",
       "    </tr>\n",
       "    <tr>\n",
       "      <th>178</th>\n",
       "      <td>C489449</td>\n",
       "      <td>22087</td>\n",
       "      <td>PAPER BUNTING WHITE LACE</td>\n",
       "      <td>-12</td>\n",
       "      <td>2009-12-01 10:33:00</td>\n",
       "      <td>2.95</td>\n",
       "      <td>16321.0</td>\n",
       "      <td>Australia</td>\n",
       "    </tr>\n",
       "    <tr>\n",
       "      <th>179</th>\n",
       "      <td>C489449</td>\n",
       "      <td>85206A</td>\n",
       "      <td>CREAM FELT EASTER EGG BASKET</td>\n",
       "      <td>-6</td>\n",
       "      <td>2009-12-01 10:33:00</td>\n",
       "      <td>1.65</td>\n",
       "      <td>16321.0</td>\n",
       "      <td>Australia</td>\n",
       "    </tr>\n",
       "  </tbody>\n",
       "</table>\n",
       "</div>"
      ],
      "text/plain": [
       "     Invoice StockCode                   Description  Quantity  \\\n",
       "89    489439      POST                       POSTAGE         3   \n",
       "126   489444      POST                       POSTAGE         1   \n",
       "173   489447      POST                       POSTAGE         1   \n",
       "178  C489449     22087      PAPER BUNTING WHITE LACE       -12   \n",
       "179  C489449    85206A  CREAM FELT EASTER EGG BASKET        -6   \n",
       "\n",
       "            InvoiceDate   Price  Customer ID    Country  \n",
       "89  2009-12-01 09:28:00   18.00      12682.0     France  \n",
       "126 2009-12-01 09:55:00  141.00      12636.0        USA  \n",
       "173 2009-12-01 10:10:00  130.00      12362.0    Belgium  \n",
       "178 2009-12-01 10:33:00    2.95      16321.0  Australia  \n",
       "179 2009-12-01 10:33:00    1.65      16321.0  Australia  "
      ]
     },
     "execution_count": 21,
     "metadata": {},
     "output_type": "execute_result"
    }
   ],
   "source": [
    "df.loc[invalids].head()"
   ]
  },
  {
   "cell_type": "code",
   "execution_count": 22,
   "metadata": {
    "slideshow": {
     "slide_type": "-"
    }
   },
   "outputs": [],
   "source": [
    "inv = invoice_df(df, invalid_series=invalids)"
   ]
  },
  {
   "cell_type": "code",
   "execution_count": 30,
   "metadata": {
    "slideshow": {
     "slide_type": "-"
    }
   },
   "outputs": [
    {
     "data": {
      "text/html": [
       "<div>\n",
       "<style scoped>\n",
       "    .dataframe tbody tr th:only-of-type {\n",
       "        vertical-align: middle;\n",
       "    }\n",
       "\n",
       "    .dataframe tbody tr th {\n",
       "        vertical-align: top;\n",
       "    }\n",
       "\n",
       "    .dataframe thead th {\n",
       "        text-align: right;\n",
       "    }\n",
       "</style>\n",
       "<table border=\"1\" class=\"dataframe\">\n",
       "  <thead>\n",
       "    <tr style=\"text-align: right;\">\n",
       "      <th></th>\n",
       "      <th>customer</th>\n",
       "      <th>n_codes</th>\n",
       "      <th>n_items</th>\n",
       "      <th>spend</th>\n",
       "      <th>hour</th>\n",
       "      <th>month</th>\n",
       "      <th>words</th>\n",
       "      <th>words_per_item</th>\n",
       "    </tr>\n",
       "    <tr>\n",
       "      <th>Invoice</th>\n",
       "      <th></th>\n",
       "      <th></th>\n",
       "      <th></th>\n",
       "      <th></th>\n",
       "      <th></th>\n",
       "      <th></th>\n",
       "      <th></th>\n",
       "      <th></th>\n",
       "    </tr>\n",
       "  </thead>\n",
       "  <tbody>\n",
       "    <tr>\n",
       "      <th>489434</th>\n",
       "      <td>13085.0</td>\n",
       "      <td>8</td>\n",
       "      <td>166</td>\n",
       "      <td>505.30</td>\n",
       "      <td>7</td>\n",
       "      <td>200912</td>\n",
       "      <td>{TRINKET, BALL, CERAMIC, DOORMAT, LIGHTS, PINK...</td>\n",
       "      <td>3.625000</td>\n",
       "    </tr>\n",
       "    <tr>\n",
       "      <th>489435</th>\n",
       "      <td>13085.0</td>\n",
       "      <td>4</td>\n",
       "      <td>60</td>\n",
       "      <td>145.80</td>\n",
       "      <td>7</td>\n",
       "      <td>200912</td>\n",
       "      <td>{DOG, SPOONS, BALL, HEART, BOWL, CAT, MEASURIN...</td>\n",
       "      <td>4.000000</td>\n",
       "    </tr>\n",
       "    <tr>\n",
       "      <th>489436</th>\n",
       "      <td>13078.0</td>\n",
       "      <td>19</td>\n",
       "      <td>193</td>\n",
       "      <td>630.33</td>\n",
       "      <td>9</td>\n",
       "      <td>200912</td>\n",
       "      <td>{BISCUITS, OF, SMALL, TRELLIS, LARGE, CLASSIC,...</td>\n",
       "      <td>3.315789</td>\n",
       "    </tr>\n",
       "    <tr>\n",
       "      <th>489437</th>\n",
       "      <td>15362.0</td>\n",
       "      <td>23</td>\n",
       "      <td>145</td>\n",
       "      <td>310.75</td>\n",
       "      <td>9</td>\n",
       "      <td>200912</td>\n",
       "      <td>{PAPER, OF, SMALL, CUPS, LARGE, RETRO, STOCKIN...</td>\n",
       "      <td>3.000000</td>\n",
       "    </tr>\n",
       "    <tr>\n",
       "      <th>489438</th>\n",
       "      <td>18102.0</td>\n",
       "      <td>17</td>\n",
       "      <td>826</td>\n",
       "      <td>2286.24</td>\n",
       "      <td>9</td>\n",
       "      <td>200912</td>\n",
       "      <td>{BISCUITS, OF, LOLA, COASTER, CHARLIE, DOORSTO...</td>\n",
       "      <td>2.235294</td>\n",
       "    </tr>\n",
       "  </tbody>\n",
       "</table>\n",
       "</div>"
      ],
      "text/plain": [
       "         customer  n_codes  n_items    spend  hour   month  \\\n",
       "Invoice                                                      \n",
       "489434    13085.0        8      166   505.30     7  200912   \n",
       "489435    13085.0        4       60   145.80     7  200912   \n",
       "489436    13078.0       19      193   630.33     9  200912   \n",
       "489437    15362.0       23      145   310.75     9  200912   \n",
       "489438    18102.0       17      826  2286.24     9  200912   \n",
       "\n",
       "                                                     words  words_per_item  \n",
       "Invoice                                                                     \n",
       "489434   {TRINKET, BALL, CERAMIC, DOORMAT, LIGHTS, PINK...        3.625000  \n",
       "489435   {DOG, SPOONS, BALL, HEART, BOWL, CAT, MEASURIN...        4.000000  \n",
       "489436   {BISCUITS, OF, SMALL, TRELLIS, LARGE, CLASSIC,...        3.315789  \n",
       "489437   {PAPER, OF, SMALL, CUPS, LARGE, RETRO, STOCKIN...        3.000000  \n",
       "489438   {BISCUITS, OF, LOLA, COASTER, CHARLIE, DOORSTO...        2.235294  "
      ]
     },
     "execution_count": 30,
     "metadata": {},
     "output_type": "execute_result"
    }
   ],
   "source": [
    "inv.head()"
   ]
  },
  {
   "cell_type": "code",
   "execution_count": 50,
   "metadata": {},
   "outputs": [
    {
     "data": {
      "text/plain": [
       "(2128, 20577)"
      ]
     },
     "execution_count": 50,
     "metadata": {},
     "output_type": "execute_result"
    }
   ],
   "source": [
    "len(inv[inv.n_codes > 50]), len(inv)"
   ]
  },
  {
   "cell_type": "code",
   "execution_count": null,
   "metadata": {},
   "outputs": [],
   "source": [
    "inv[inv.n_codes > 50])"
   ]
  },
  {
   "cell_type": "code",
   "execution_count": 44,
   "metadata": {
    "slideshow": {
     "slide_type": "subslide"
    }
   },
   "outputs": [
    {
     "data": {
      "application/javascript": [
       "/* Put everything inside the global mpl namespace */\n",
       "window.mpl = {};\n",
       "\n",
       "\n",
       "mpl.get_websocket_type = function() {\n",
       "    if (typeof(WebSocket) !== 'undefined') {\n",
       "        return WebSocket;\n",
       "    } else if (typeof(MozWebSocket) !== 'undefined') {\n",
       "        return MozWebSocket;\n",
       "    } else {\n",
       "        alert('Your browser does not have WebSocket support.' +\n",
       "              'Please try Chrome, Safari or Firefox ≥ 6. ' +\n",
       "              'Firefox 4 and 5 are also supported but you ' +\n",
       "              'have to enable WebSockets in about:config.');\n",
       "    };\n",
       "}\n",
       "\n",
       "mpl.figure = function(figure_id, websocket, ondownload, parent_element) {\n",
       "    this.id = figure_id;\n",
       "\n",
       "    this.ws = websocket;\n",
       "\n",
       "    this.supports_binary = (this.ws.binaryType != undefined);\n",
       "\n",
       "    if (!this.supports_binary) {\n",
       "        var warnings = document.getElementById(\"mpl-warnings\");\n",
       "        if (warnings) {\n",
       "            warnings.style.display = 'block';\n",
       "            warnings.textContent = (\n",
       "                \"This browser does not support binary websocket messages. \" +\n",
       "                    \"Performance may be slow.\");\n",
       "        }\n",
       "    }\n",
       "\n",
       "    this.imageObj = new Image();\n",
       "\n",
       "    this.context = undefined;\n",
       "    this.message = undefined;\n",
       "    this.canvas = undefined;\n",
       "    this.rubberband_canvas = undefined;\n",
       "    this.rubberband_context = undefined;\n",
       "    this.format_dropdown = undefined;\n",
       "\n",
       "    this.image_mode = 'full';\n",
       "\n",
       "    this.root = $('<div/>');\n",
       "    this._root_extra_style(this.root)\n",
       "    this.root.attr('style', 'display: inline-block');\n",
       "\n",
       "    $(parent_element).append(this.root);\n",
       "\n",
       "    this._init_header(this);\n",
       "    this._init_canvas(this);\n",
       "    this._init_toolbar(this);\n",
       "\n",
       "    var fig = this;\n",
       "\n",
       "    this.waiting = false;\n",
       "\n",
       "    this.ws.onopen =  function () {\n",
       "            fig.send_message(\"supports_binary\", {value: fig.supports_binary});\n",
       "            fig.send_message(\"send_image_mode\", {});\n",
       "            if (mpl.ratio != 1) {\n",
       "                fig.send_message(\"set_dpi_ratio\", {'dpi_ratio': mpl.ratio});\n",
       "            }\n",
       "            fig.send_message(\"refresh\", {});\n",
       "        }\n",
       "\n",
       "    this.imageObj.onload = function() {\n",
       "            if (fig.image_mode == 'full') {\n",
       "                // Full images could contain transparency (where diff images\n",
       "                // almost always do), so we need to clear the canvas so that\n",
       "                // there is no ghosting.\n",
       "                fig.context.clearRect(0, 0, fig.canvas.width, fig.canvas.height);\n",
       "            }\n",
       "            fig.context.drawImage(fig.imageObj, 0, 0);\n",
       "        };\n",
       "\n",
       "    this.imageObj.onunload = function() {\n",
       "        fig.ws.close();\n",
       "    }\n",
       "\n",
       "    this.ws.onmessage = this._make_on_message_function(this);\n",
       "\n",
       "    this.ondownload = ondownload;\n",
       "}\n",
       "\n",
       "mpl.figure.prototype._init_header = function() {\n",
       "    var titlebar = $(\n",
       "        '<div class=\"ui-dialog-titlebar ui-widget-header ui-corner-all ' +\n",
       "        'ui-helper-clearfix\"/>');\n",
       "    var titletext = $(\n",
       "        '<div class=\"ui-dialog-title\" style=\"width: 100%; ' +\n",
       "        'text-align: center; padding: 3px;\"/>');\n",
       "    titlebar.append(titletext)\n",
       "    this.root.append(titlebar);\n",
       "    this.header = titletext[0];\n",
       "}\n",
       "\n",
       "\n",
       "\n",
       "mpl.figure.prototype._canvas_extra_style = function(canvas_div) {\n",
       "\n",
       "}\n",
       "\n",
       "\n",
       "mpl.figure.prototype._root_extra_style = function(canvas_div) {\n",
       "\n",
       "}\n",
       "\n",
       "mpl.figure.prototype._init_canvas = function() {\n",
       "    var fig = this;\n",
       "\n",
       "    var canvas_div = $('<div/>');\n",
       "\n",
       "    canvas_div.attr('style', 'position: relative; clear: both; outline: 0');\n",
       "\n",
       "    function canvas_keyboard_event(event) {\n",
       "        return fig.key_event(event, event['data']);\n",
       "    }\n",
       "\n",
       "    canvas_div.keydown('key_press', canvas_keyboard_event);\n",
       "    canvas_div.keyup('key_release', canvas_keyboard_event);\n",
       "    this.canvas_div = canvas_div\n",
       "    this._canvas_extra_style(canvas_div)\n",
       "    this.root.append(canvas_div);\n",
       "\n",
       "    var canvas = $('<canvas/>');\n",
       "    canvas.addClass('mpl-canvas');\n",
       "    canvas.attr('style', \"left: 0; top: 0; z-index: 0; outline: 0\")\n",
       "\n",
       "    this.canvas = canvas[0];\n",
       "    this.context = canvas[0].getContext(\"2d\");\n",
       "\n",
       "    var backingStore = this.context.backingStorePixelRatio ||\n",
       "\tthis.context.webkitBackingStorePixelRatio ||\n",
       "\tthis.context.mozBackingStorePixelRatio ||\n",
       "\tthis.context.msBackingStorePixelRatio ||\n",
       "\tthis.context.oBackingStorePixelRatio ||\n",
       "\tthis.context.backingStorePixelRatio || 1;\n",
       "\n",
       "    mpl.ratio = (window.devicePixelRatio || 1) / backingStore;\n",
       "\n",
       "    var rubberband = $('<canvas/>');\n",
       "    rubberband.attr('style', \"position: absolute; left: 0; top: 0; z-index: 1;\")\n",
       "\n",
       "    var pass_mouse_events = true;\n",
       "\n",
       "    canvas_div.resizable({\n",
       "        start: function(event, ui) {\n",
       "            pass_mouse_events = false;\n",
       "        },\n",
       "        resize: function(event, ui) {\n",
       "            fig.request_resize(ui.size.width, ui.size.height);\n",
       "        },\n",
       "        stop: function(event, ui) {\n",
       "            pass_mouse_events = true;\n",
       "            fig.request_resize(ui.size.width, ui.size.height);\n",
       "        },\n",
       "    });\n",
       "\n",
       "    function mouse_event_fn(event) {\n",
       "        if (pass_mouse_events)\n",
       "            return fig.mouse_event(event, event['data']);\n",
       "    }\n",
       "\n",
       "    rubberband.mousedown('button_press', mouse_event_fn);\n",
       "    rubberband.mouseup('button_release', mouse_event_fn);\n",
       "    // Throttle sequential mouse events to 1 every 20ms.\n",
       "    rubberband.mousemove('motion_notify', mouse_event_fn);\n",
       "\n",
       "    rubberband.mouseenter('figure_enter', mouse_event_fn);\n",
       "    rubberband.mouseleave('figure_leave', mouse_event_fn);\n",
       "\n",
       "    canvas_div.on(\"wheel\", function (event) {\n",
       "        event = event.originalEvent;\n",
       "        event['data'] = 'scroll'\n",
       "        if (event.deltaY < 0) {\n",
       "            event.step = 1;\n",
       "        } else {\n",
       "            event.step = -1;\n",
       "        }\n",
       "        mouse_event_fn(event);\n",
       "    });\n",
       "\n",
       "    canvas_div.append(canvas);\n",
       "    canvas_div.append(rubberband);\n",
       "\n",
       "    this.rubberband = rubberband;\n",
       "    this.rubberband_canvas = rubberband[0];\n",
       "    this.rubberband_context = rubberband[0].getContext(\"2d\");\n",
       "    this.rubberband_context.strokeStyle = \"#000000\";\n",
       "\n",
       "    this._resize_canvas = function(width, height) {\n",
       "        // Keep the size of the canvas, canvas container, and rubber band\n",
       "        // canvas in synch.\n",
       "        canvas_div.css('width', width)\n",
       "        canvas_div.css('height', height)\n",
       "\n",
       "        canvas.attr('width', width * mpl.ratio);\n",
       "        canvas.attr('height', height * mpl.ratio);\n",
       "        canvas.attr('style', 'width: ' + width + 'px; height: ' + height + 'px;');\n",
       "\n",
       "        rubberband.attr('width', width);\n",
       "        rubberband.attr('height', height);\n",
       "    }\n",
       "\n",
       "    // Set the figure to an initial 600x600px, this will subsequently be updated\n",
       "    // upon first draw.\n",
       "    this._resize_canvas(600, 600);\n",
       "\n",
       "    // Disable right mouse context menu.\n",
       "    $(this.rubberband_canvas).bind(\"contextmenu\",function(e){\n",
       "        return false;\n",
       "    });\n",
       "\n",
       "    function set_focus () {\n",
       "        canvas.focus();\n",
       "        canvas_div.focus();\n",
       "    }\n",
       "\n",
       "    window.setTimeout(set_focus, 100);\n",
       "}\n",
       "\n",
       "mpl.figure.prototype._init_toolbar = function() {\n",
       "    var fig = this;\n",
       "\n",
       "    var nav_element = $('<div/>')\n",
       "    nav_element.attr('style', 'width: 100%');\n",
       "    this.root.append(nav_element);\n",
       "\n",
       "    // Define a callback function for later on.\n",
       "    function toolbar_event(event) {\n",
       "        return fig.toolbar_button_onclick(event['data']);\n",
       "    }\n",
       "    function toolbar_mouse_event(event) {\n",
       "        return fig.toolbar_button_onmouseover(event['data']);\n",
       "    }\n",
       "\n",
       "    for(var toolbar_ind in mpl.toolbar_items) {\n",
       "        var name = mpl.toolbar_items[toolbar_ind][0];\n",
       "        var tooltip = mpl.toolbar_items[toolbar_ind][1];\n",
       "        var image = mpl.toolbar_items[toolbar_ind][2];\n",
       "        var method_name = mpl.toolbar_items[toolbar_ind][3];\n",
       "\n",
       "        if (!name) {\n",
       "            // put a spacer in here.\n",
       "            continue;\n",
       "        }\n",
       "        var button = $('<button/>');\n",
       "        button.addClass('ui-button ui-widget ui-state-default ui-corner-all ' +\n",
       "                        'ui-button-icon-only');\n",
       "        button.attr('role', 'button');\n",
       "        button.attr('aria-disabled', 'false');\n",
       "        button.click(method_name, toolbar_event);\n",
       "        button.mouseover(tooltip, toolbar_mouse_event);\n",
       "\n",
       "        var icon_img = $('<span/>');\n",
       "        icon_img.addClass('ui-button-icon-primary ui-icon');\n",
       "        icon_img.addClass(image);\n",
       "        icon_img.addClass('ui-corner-all');\n",
       "\n",
       "        var tooltip_span = $('<span/>');\n",
       "        tooltip_span.addClass('ui-button-text');\n",
       "        tooltip_span.html(tooltip);\n",
       "\n",
       "        button.append(icon_img);\n",
       "        button.append(tooltip_span);\n",
       "\n",
       "        nav_element.append(button);\n",
       "    }\n",
       "\n",
       "    var fmt_picker_span = $('<span/>');\n",
       "\n",
       "    var fmt_picker = $('<select/>');\n",
       "    fmt_picker.addClass('mpl-toolbar-option ui-widget ui-widget-content');\n",
       "    fmt_picker_span.append(fmt_picker);\n",
       "    nav_element.append(fmt_picker_span);\n",
       "    this.format_dropdown = fmt_picker[0];\n",
       "\n",
       "    for (var ind in mpl.extensions) {\n",
       "        var fmt = mpl.extensions[ind];\n",
       "        var option = $(\n",
       "            '<option/>', {selected: fmt === mpl.default_extension}).html(fmt);\n",
       "        fmt_picker.append(option)\n",
       "    }\n",
       "\n",
       "    // Add hover states to the ui-buttons\n",
       "    $( \".ui-button\" ).hover(\n",
       "        function() { $(this).addClass(\"ui-state-hover\");},\n",
       "        function() { $(this).removeClass(\"ui-state-hover\");}\n",
       "    );\n",
       "\n",
       "    var status_bar = $('<span class=\"mpl-message\"/>');\n",
       "    nav_element.append(status_bar);\n",
       "    this.message = status_bar[0];\n",
       "}\n",
       "\n",
       "mpl.figure.prototype.request_resize = function(x_pixels, y_pixels) {\n",
       "    // Request matplotlib to resize the figure. Matplotlib will then trigger a resize in the client,\n",
       "    // which will in turn request a refresh of the image.\n",
       "    this.send_message('resize', {'width': x_pixels, 'height': y_pixels});\n",
       "}\n",
       "\n",
       "mpl.figure.prototype.send_message = function(type, properties) {\n",
       "    properties['type'] = type;\n",
       "    properties['figure_id'] = this.id;\n",
       "    this.ws.send(JSON.stringify(properties));\n",
       "}\n",
       "\n",
       "mpl.figure.prototype.send_draw_message = function() {\n",
       "    if (!this.waiting) {\n",
       "        this.waiting = true;\n",
       "        this.ws.send(JSON.stringify({type: \"draw\", figure_id: this.id}));\n",
       "    }\n",
       "}\n",
       "\n",
       "\n",
       "mpl.figure.prototype.handle_save = function(fig, msg) {\n",
       "    var format_dropdown = fig.format_dropdown;\n",
       "    var format = format_dropdown.options[format_dropdown.selectedIndex].value;\n",
       "    fig.ondownload(fig, format);\n",
       "}\n",
       "\n",
       "\n",
       "mpl.figure.prototype.handle_resize = function(fig, msg) {\n",
       "    var size = msg['size'];\n",
       "    if (size[0] != fig.canvas.width || size[1] != fig.canvas.height) {\n",
       "        fig._resize_canvas(size[0], size[1]);\n",
       "        fig.send_message(\"refresh\", {});\n",
       "    };\n",
       "}\n",
       "\n",
       "mpl.figure.prototype.handle_rubberband = function(fig, msg) {\n",
       "    var x0 = msg['x0'] / mpl.ratio;\n",
       "    var y0 = (fig.canvas.height - msg['y0']) / mpl.ratio;\n",
       "    var x1 = msg['x1'] / mpl.ratio;\n",
       "    var y1 = (fig.canvas.height - msg['y1']) / mpl.ratio;\n",
       "    x0 = Math.floor(x0) + 0.5;\n",
       "    y0 = Math.floor(y0) + 0.5;\n",
       "    x1 = Math.floor(x1) + 0.5;\n",
       "    y1 = Math.floor(y1) + 0.5;\n",
       "    var min_x = Math.min(x0, x1);\n",
       "    var min_y = Math.min(y0, y1);\n",
       "    var width = Math.abs(x1 - x0);\n",
       "    var height = Math.abs(y1 - y0);\n",
       "\n",
       "    fig.rubberband_context.clearRect(\n",
       "        0, 0, fig.canvas.width, fig.canvas.height);\n",
       "\n",
       "    fig.rubberband_context.strokeRect(min_x, min_y, width, height);\n",
       "}\n",
       "\n",
       "mpl.figure.prototype.handle_figure_label = function(fig, msg) {\n",
       "    // Updates the figure title.\n",
       "    fig.header.textContent = msg['label'];\n",
       "}\n",
       "\n",
       "mpl.figure.prototype.handle_cursor = function(fig, msg) {\n",
       "    var cursor = msg['cursor'];\n",
       "    switch(cursor)\n",
       "    {\n",
       "    case 0:\n",
       "        cursor = 'pointer';\n",
       "        break;\n",
       "    case 1:\n",
       "        cursor = 'default';\n",
       "        break;\n",
       "    case 2:\n",
       "        cursor = 'crosshair';\n",
       "        break;\n",
       "    case 3:\n",
       "        cursor = 'move';\n",
       "        break;\n",
       "    }\n",
       "    fig.rubberband_canvas.style.cursor = cursor;\n",
       "}\n",
       "\n",
       "mpl.figure.prototype.handle_message = function(fig, msg) {\n",
       "    fig.message.textContent = msg['message'];\n",
       "}\n",
       "\n",
       "mpl.figure.prototype.handle_draw = function(fig, msg) {\n",
       "    // Request the server to send over a new figure.\n",
       "    fig.send_draw_message();\n",
       "}\n",
       "\n",
       "mpl.figure.prototype.handle_image_mode = function(fig, msg) {\n",
       "    fig.image_mode = msg['mode'];\n",
       "}\n",
       "\n",
       "mpl.figure.prototype.updated_canvas_event = function() {\n",
       "    // Called whenever the canvas gets updated.\n",
       "    this.send_message(\"ack\", {});\n",
       "}\n",
       "\n",
       "// A function to construct a web socket function for onmessage handling.\n",
       "// Called in the figure constructor.\n",
       "mpl.figure.prototype._make_on_message_function = function(fig) {\n",
       "    return function socket_on_message(evt) {\n",
       "        if (evt.data instanceof Blob) {\n",
       "            /* FIXME: We get \"Resource interpreted as Image but\n",
       "             * transferred with MIME type text/plain:\" errors on\n",
       "             * Chrome.  But how to set the MIME type?  It doesn't seem\n",
       "             * to be part of the websocket stream */\n",
       "            evt.data.type = \"image/png\";\n",
       "\n",
       "            /* Free the memory for the previous frames */\n",
       "            if (fig.imageObj.src) {\n",
       "                (window.URL || window.webkitURL).revokeObjectURL(\n",
       "                    fig.imageObj.src);\n",
       "            }\n",
       "\n",
       "            fig.imageObj.src = (window.URL || window.webkitURL).createObjectURL(\n",
       "                evt.data);\n",
       "            fig.updated_canvas_event();\n",
       "            fig.waiting = false;\n",
       "            return;\n",
       "        }\n",
       "        else if (typeof evt.data === 'string' && evt.data.slice(0, 21) == \"data:image/png;base64\") {\n",
       "            fig.imageObj.src = evt.data;\n",
       "            fig.updated_canvas_event();\n",
       "            fig.waiting = false;\n",
       "            return;\n",
       "        }\n",
       "\n",
       "        var msg = JSON.parse(evt.data);\n",
       "        var msg_type = msg['type'];\n",
       "\n",
       "        // Call the  \"handle_{type}\" callback, which takes\n",
       "        // the figure and JSON message as its only arguments.\n",
       "        try {\n",
       "            var callback = fig[\"handle_\" + msg_type];\n",
       "        } catch (e) {\n",
       "            console.log(\"No handler for the '\" + msg_type + \"' message type: \", msg);\n",
       "            return;\n",
       "        }\n",
       "\n",
       "        if (callback) {\n",
       "            try {\n",
       "                // console.log(\"Handling '\" + msg_type + \"' message: \", msg);\n",
       "                callback(fig, msg);\n",
       "            } catch (e) {\n",
       "                console.log(\"Exception inside the 'handler_\" + msg_type + \"' callback:\", e, e.stack, msg);\n",
       "            }\n",
       "        }\n",
       "    };\n",
       "}\n",
       "\n",
       "// from http://stackoverflow.com/questions/1114465/getting-mouse-location-in-canvas\n",
       "mpl.findpos = function(e) {\n",
       "    //this section is from http://www.quirksmode.org/js/events_properties.html\n",
       "    var targ;\n",
       "    if (!e)\n",
       "        e = window.event;\n",
       "    if (e.target)\n",
       "        targ = e.target;\n",
       "    else if (e.srcElement)\n",
       "        targ = e.srcElement;\n",
       "    if (targ.nodeType == 3) // defeat Safari bug\n",
       "        targ = targ.parentNode;\n",
       "\n",
       "    // jQuery normalizes the pageX and pageY\n",
       "    // pageX,Y are the mouse positions relative to the document\n",
       "    // offset() returns the position of the element relative to the document\n",
       "    var x = e.pageX - $(targ).offset().left;\n",
       "    var y = e.pageY - $(targ).offset().top;\n",
       "\n",
       "    return {\"x\": x, \"y\": y};\n",
       "};\n",
       "\n",
       "/*\n",
       " * return a copy of an object with only non-object keys\n",
       " * we need this to avoid circular references\n",
       " * http://stackoverflow.com/a/24161582/3208463\n",
       " */\n",
       "function simpleKeys (original) {\n",
       "  return Object.keys(original).reduce(function (obj, key) {\n",
       "    if (typeof original[key] !== 'object')\n",
       "        obj[key] = original[key]\n",
       "    return obj;\n",
       "  }, {});\n",
       "}\n",
       "\n",
       "mpl.figure.prototype.mouse_event = function(event, name) {\n",
       "    var canvas_pos = mpl.findpos(event)\n",
       "\n",
       "    if (name === 'button_press')\n",
       "    {\n",
       "        this.canvas.focus();\n",
       "        this.canvas_div.focus();\n",
       "    }\n",
       "\n",
       "    var x = canvas_pos.x * mpl.ratio;\n",
       "    var y = canvas_pos.y * mpl.ratio;\n",
       "\n",
       "    this.send_message(name, {x: x, y: y, button: event.button,\n",
       "                             step: event.step,\n",
       "                             guiEvent: simpleKeys(event)});\n",
       "\n",
       "    /* This prevents the web browser from automatically changing to\n",
       "     * the text insertion cursor when the button is pressed.  We want\n",
       "     * to control all of the cursor setting manually through the\n",
       "     * 'cursor' event from matplotlib */\n",
       "    event.preventDefault();\n",
       "    return false;\n",
       "}\n",
       "\n",
       "mpl.figure.prototype._key_event_extra = function(event, name) {\n",
       "    // Handle any extra behaviour associated with a key event\n",
       "}\n",
       "\n",
       "mpl.figure.prototype.key_event = function(event, name) {\n",
       "\n",
       "    // Prevent repeat events\n",
       "    if (name == 'key_press')\n",
       "    {\n",
       "        if (event.which === this._key)\n",
       "            return;\n",
       "        else\n",
       "            this._key = event.which;\n",
       "    }\n",
       "    if (name == 'key_release')\n",
       "        this._key = null;\n",
       "\n",
       "    var value = '';\n",
       "    if (event.ctrlKey && event.which != 17)\n",
       "        value += \"ctrl+\";\n",
       "    if (event.altKey && event.which != 18)\n",
       "        value += \"alt+\";\n",
       "    if (event.shiftKey && event.which != 16)\n",
       "        value += \"shift+\";\n",
       "\n",
       "    value += 'k';\n",
       "    value += event.which.toString();\n",
       "\n",
       "    this._key_event_extra(event, name);\n",
       "\n",
       "    this.send_message(name, {key: value,\n",
       "                             guiEvent: simpleKeys(event)});\n",
       "    return false;\n",
       "}\n",
       "\n",
       "mpl.figure.prototype.toolbar_button_onclick = function(name) {\n",
       "    if (name == 'download') {\n",
       "        this.handle_save(this, null);\n",
       "    } else {\n",
       "        this.send_message(\"toolbar_button\", {name: name});\n",
       "    }\n",
       "};\n",
       "\n",
       "mpl.figure.prototype.toolbar_button_onmouseover = function(tooltip) {\n",
       "    this.message.textContent = tooltip;\n",
       "};\n",
       "mpl.toolbar_items = [[\"Home\", \"Reset original view\", \"fa fa-home icon-home\", \"home\"], [\"Back\", \"Back to previous view\", \"fa fa-arrow-left icon-arrow-left\", \"back\"], [\"Forward\", \"Forward to next view\", \"fa fa-arrow-right icon-arrow-right\", \"forward\"], [\"\", \"\", \"\", \"\"], [\"Pan\", \"Pan axes with left mouse, zoom with right\", \"fa fa-arrows icon-move\", \"pan\"], [\"Zoom\", \"Zoom to rectangle\", \"fa fa-square-o icon-check-empty\", \"zoom\"], [\"\", \"\", \"\", \"\"], [\"Download\", \"Download plot\", \"fa fa-floppy-o icon-save\", \"download\"]];\n",
       "\n",
       "mpl.extensions = [\"eps\", \"pdf\", \"png\", \"ps\", \"raw\", \"svg\"];\n",
       "\n",
       "mpl.default_extension = \"png\";var comm_websocket_adapter = function(comm) {\n",
       "    // Create a \"websocket\"-like object which calls the given IPython comm\n",
       "    // object with the appropriate methods. Currently this is a non binary\n",
       "    // socket, so there is still some room for performance tuning.\n",
       "    var ws = {};\n",
       "\n",
       "    ws.close = function() {\n",
       "        comm.close()\n",
       "    };\n",
       "    ws.send = function(m) {\n",
       "        //console.log('sending', m);\n",
       "        comm.send(m);\n",
       "    };\n",
       "    // Register the callback with on_msg.\n",
       "    comm.on_msg(function(msg) {\n",
       "        //console.log('receiving', msg['content']['data'], msg);\n",
       "        // Pass the mpl event to the overridden (by mpl) onmessage function.\n",
       "        ws.onmessage(msg['content']['data'])\n",
       "    });\n",
       "    return ws;\n",
       "}\n",
       "\n",
       "mpl.mpl_figure_comm = function(comm, msg) {\n",
       "    // This is the function which gets called when the mpl process\n",
       "    // starts-up an IPython Comm through the \"matplotlib\" channel.\n",
       "\n",
       "    var id = msg.content.data.id;\n",
       "    // Get hold of the div created by the display call when the Comm\n",
       "    // socket was opened in Python.\n",
       "    var element = $(\"#\" + id);\n",
       "    var ws_proxy = comm_websocket_adapter(comm)\n",
       "\n",
       "    function ondownload(figure, format) {\n",
       "        window.open(figure.imageObj.src);\n",
       "    }\n",
       "\n",
       "    var fig = new mpl.figure(id, ws_proxy,\n",
       "                           ondownload,\n",
       "                           element.get(0));\n",
       "\n",
       "    // Call onopen now - mpl needs it, as it is assuming we've passed it a real\n",
       "    // web socket which is closed, not our websocket->open comm proxy.\n",
       "    ws_proxy.onopen();\n",
       "\n",
       "    fig.parent_element = element.get(0);\n",
       "    fig.cell_info = mpl.find_output_cell(\"<div id='\" + id + \"'></div>\");\n",
       "    if (!fig.cell_info) {\n",
       "        console.error(\"Failed to find cell for figure\", id, fig);\n",
       "        return;\n",
       "    }\n",
       "\n",
       "    var output_index = fig.cell_info[2]\n",
       "    var cell = fig.cell_info[0];\n",
       "\n",
       "};\n",
       "\n",
       "mpl.figure.prototype.handle_close = function(fig, msg) {\n",
       "    var width = fig.canvas.width/mpl.ratio\n",
       "    fig.root.unbind('remove')\n",
       "\n",
       "    // Update the output cell to use the data from the current canvas.\n",
       "    fig.push_to_output();\n",
       "    var dataURL = fig.canvas.toDataURL();\n",
       "    // Re-enable the keyboard manager in IPython - without this line, in FF,\n",
       "    // the notebook keyboard shortcuts fail.\n",
       "    IPython.keyboard_manager.enable()\n",
       "    $(fig.parent_element).html('<img src=\"' + dataURL + '\" width=\"' + width + '\">');\n",
       "    fig.close_ws(fig, msg);\n",
       "}\n",
       "\n",
       "mpl.figure.prototype.close_ws = function(fig, msg){\n",
       "    fig.send_message('closing', msg);\n",
       "    // fig.ws.close()\n",
       "}\n",
       "\n",
       "mpl.figure.prototype.push_to_output = function(remove_interactive) {\n",
       "    // Turn the data on the canvas into data in the output cell.\n",
       "    var width = this.canvas.width/mpl.ratio\n",
       "    var dataURL = this.canvas.toDataURL();\n",
       "    this.cell_info[1]['text/html'] = '<img src=\"' + dataURL + '\" width=\"' + width + '\">';\n",
       "}\n",
       "\n",
       "mpl.figure.prototype.updated_canvas_event = function() {\n",
       "    // Tell IPython that the notebook contents must change.\n",
       "    IPython.notebook.set_dirty(true);\n",
       "    this.send_message(\"ack\", {});\n",
       "    var fig = this;\n",
       "    // Wait a second, then push the new image to the DOM so\n",
       "    // that it is saved nicely (might be nice to debounce this).\n",
       "    setTimeout(function () { fig.push_to_output() }, 1000);\n",
       "}\n",
       "\n",
       "mpl.figure.prototype._init_toolbar = function() {\n",
       "    var fig = this;\n",
       "\n",
       "    var nav_element = $('<div/>')\n",
       "    nav_element.attr('style', 'width: 100%');\n",
       "    this.root.append(nav_element);\n",
       "\n",
       "    // Define a callback function for later on.\n",
       "    function toolbar_event(event) {\n",
       "        return fig.toolbar_button_onclick(event['data']);\n",
       "    }\n",
       "    function toolbar_mouse_event(event) {\n",
       "        return fig.toolbar_button_onmouseover(event['data']);\n",
       "    }\n",
       "\n",
       "    for(var toolbar_ind in mpl.toolbar_items){\n",
       "        var name = mpl.toolbar_items[toolbar_ind][0];\n",
       "        var tooltip = mpl.toolbar_items[toolbar_ind][1];\n",
       "        var image = mpl.toolbar_items[toolbar_ind][2];\n",
       "        var method_name = mpl.toolbar_items[toolbar_ind][3];\n",
       "\n",
       "        if (!name) { continue; };\n",
       "\n",
       "        var button = $('<button class=\"btn btn-default\" href=\"#\" title=\"' + name + '\"><i class=\"fa ' + image + ' fa-lg\"></i></button>');\n",
       "        button.click(method_name, toolbar_event);\n",
       "        button.mouseover(tooltip, toolbar_mouse_event);\n",
       "        nav_element.append(button);\n",
       "    }\n",
       "\n",
       "    // Add the status bar.\n",
       "    var status_bar = $('<span class=\"mpl-message\" style=\"text-align:right; float: right;\"/>');\n",
       "    nav_element.append(status_bar);\n",
       "    this.message = status_bar[0];\n",
       "\n",
       "    // Add the close button to the window.\n",
       "    var buttongrp = $('<div class=\"btn-group inline pull-right\"></div>');\n",
       "    var button = $('<button class=\"btn btn-mini btn-primary\" href=\"#\" title=\"Stop Interaction\"><i class=\"fa fa-power-off icon-remove icon-large\"></i></button>');\n",
       "    button.click(function (evt) { fig.handle_close(fig, {}); } );\n",
       "    button.mouseover('Stop Interaction', toolbar_mouse_event);\n",
       "    buttongrp.append(button);\n",
       "    var titlebar = this.root.find($('.ui-dialog-titlebar'));\n",
       "    titlebar.prepend(buttongrp);\n",
       "}\n",
       "\n",
       "mpl.figure.prototype._root_extra_style = function(el){\n",
       "    var fig = this\n",
       "    el.on(\"remove\", function(){\n",
       "\tfig.close_ws(fig, {});\n",
       "    });\n",
       "}\n",
       "\n",
       "mpl.figure.prototype._canvas_extra_style = function(el){\n",
       "    // this is important to make the div 'focusable\n",
       "    el.attr('tabindex', 0)\n",
       "    // reach out to IPython and tell the keyboard manager to turn it's self\n",
       "    // off when our div gets focus\n",
       "\n",
       "    // location in version 3\n",
       "    if (IPython.notebook.keyboard_manager) {\n",
       "        IPython.notebook.keyboard_manager.register_events(el);\n",
       "    }\n",
       "    else {\n",
       "        // location in version 2\n",
       "        IPython.keyboard_manager.register_events(el);\n",
       "    }\n",
       "\n",
       "}\n",
       "\n",
       "mpl.figure.prototype._key_event_extra = function(event, name) {\n",
       "    var manager = IPython.notebook.keyboard_manager;\n",
       "    if (!manager)\n",
       "        manager = IPython.keyboard_manager;\n",
       "\n",
       "    // Check for shift+enter\n",
       "    if (event.shiftKey && event.which == 13) {\n",
       "        this.canvas_div.blur();\n",
       "        event.shiftKey = false;\n",
       "        // Send a \"J\" for go to next cell\n",
       "        event.which = 74;\n",
       "        event.keyCode = 74;\n",
       "        manager.command_mode();\n",
       "        manager.handle_keydown(event);\n",
       "    }\n",
       "}\n",
       "\n",
       "mpl.figure.prototype.handle_save = function(fig, msg) {\n",
       "    fig.ondownload(fig, null);\n",
       "}\n",
       "\n",
       "\n",
       "mpl.find_output_cell = function(html_output) {\n",
       "    // Return the cell and output element which can be found *uniquely* in the notebook.\n",
       "    // Note - this is a bit hacky, but it is done because the \"notebook_saving.Notebook\"\n",
       "    // IPython event is triggered only after the cells have been serialised, which for\n",
       "    // our purposes (turning an active figure into a static one), is too late.\n",
       "    var cells = IPython.notebook.get_cells();\n",
       "    var ncells = cells.length;\n",
       "    for (var i=0; i<ncells; i++) {\n",
       "        var cell = cells[i];\n",
       "        if (cell.cell_type === 'code'){\n",
       "            for (var j=0; j<cell.output_area.outputs.length; j++) {\n",
       "                var data = cell.output_area.outputs[j];\n",
       "                if (data.data) {\n",
       "                    // IPython >= 3 moved mimebundle to data attribute of output\n",
       "                    data = data.data;\n",
       "                }\n",
       "                if (data['text/html'] == html_output) {\n",
       "                    return [cell, data, j];\n",
       "                }\n",
       "            }\n",
       "        }\n",
       "    }\n",
       "}\n",
       "\n",
       "// Register the function which deals with the matplotlib target/channel.\n",
       "// The kernel may be null if the page has been refreshed.\n",
       "if (IPython.notebook.kernel != null) {\n",
       "    IPython.notebook.kernel.comm_manager.register_target('matplotlib', mpl.mpl_figure_comm);\n",
       "}\n"
      ],
      "text/plain": [
       "<IPython.core.display.Javascript object>"
      ]
     },
     "metadata": {},
     "output_type": "display_data"
    },
    {
     "data": {
      "text/html": [
       "<img src=\"data:image/png;base64,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\" width=\"639.8333333333334\">"
      ],
      "text/plain": [
       "<IPython.core.display.HTML object>"
      ]
     },
     "metadata": {},
     "output_type": "display_data"
    }
   ],
   "source": [
    "_ = inv.n_items.plot.hist(logy=True, logx=True, bins=500, \n",
    "                        title='£ spent, each invoice', \n",
    "                        color='k', alpha=0.5, grid=True)"
   ]
  },
  {
   "cell_type": "markdown",
   "metadata": {
    "slideshow": {
     "slide_type": "slide"
    }
   },
   "source": [
    "### How could we make money from this data?"
   ]
  },
  {
   "cell_type": "markdown",
   "metadata": {
    "slideshow": {
     "slide_type": "fragment"
    }
   },
   "source": [
    " * relate to prices on markets"
   ]
  },
  {
   "cell_type": "markdown",
   "metadata": {
    "slideshow": {
     "slide_type": "fragment"
    }
   },
   "source": [
    " * figure out when/where/how/why products are being bought"
   ]
  },
  {
   "cell_type": "markdown",
   "metadata": {
    "slideshow": {
     "slide_type": "fragment"
    }
   },
   "source": [
    " * anticipate government or other official statistics\n",
    " \n",
    " * ..."
   ]
  },
  {
   "cell_type": "markdown",
   "metadata": {
    "slideshow": {
     "slide_type": "slide"
    }
   },
   "source": [
    "### What new possibilities does this data open up for us?"
   ]
  },
  {
   "cell_type": "markdown",
   "metadata": {
    "slideshow": {
     "slide_type": "-"
    }
   },
   "source": [
    "* Regressors -> numerous\n",
    "* Datapoints -> very numerous\n",
    "* (have to clean … a lot)\n",
    "* Computers -> faster"
   ]
  },
  {
   "cell_type": "markdown",
   "metadata": {
    "slideshow": {
     "slide_type": "slide"
    }
   },
   "source": [
    "### Techniques covered in this course:\n",
    "\n",
    "Jeremy Large:\n",
    " * Resampling methods\n",
    "   * Cross-validation\n",
    "   * Bootstrap\n",
    " * Flexible regression\n",
    "   * Non-linear regression\n",
    "     * Generalized additive model\n",
    "     * Projection pursuit\n",
    "     * Single layer Neural Net Perceptron\n",
    "   * Step functions in regression\n",
    "     * Step function\n",
    "     * Decision tree\n",
    "     * Bagging\n",
    "     * Random forest\n",
    "     * Boosting\n",
    "\n",
    "Matthias Qian:\n",
    " * Neural Net\n",
    " * Recursive Neural Net\n",
    " * ... tbc ..."
   ]
  },
  {
   "cell_type": "markdown",
   "metadata": {},
   "source": [
    "### Important techniques not covered in this course:\n",
    "\n",
    " * Predictor selection (Ridge regression / LASSO(Lars) / PCR / Resampling & brute force)\n",
    " \n",
    " * Classification"
   ]
  },
  {
   "cell_type": "markdown",
   "metadata": {
    "slideshow": {
     "slide_type": "slide"
    }
   },
   "source": [
    "### Comments:"
   ]
  },
  {
   "cell_type": "markdown",
   "metadata": {
    "slideshow": {
     "slide_type": "-"
    }
   },
   "source": [
    " * Burning Glass will be our dataset throughout this course\n",
    " \n",
    "   * we will provide access to the data as follows ..."
   ]
  }
 ],
 "metadata": {
  "celltoolbar": "Slideshow",
  "kernelspec": {
   "display_name": "Python 3",
   "language": "python",
   "name": "python3"
  },
  "language_info": {
   "codemirror_mode": {
    "name": "ipython",
    "version": 3
   },
   "file_extension": ".py",
   "mimetype": "text/x-python",
   "name": "python",
   "nbconvert_exporter": "python",
   "pygments_lexer": "ipython3",
   "version": "3.6.1"
  }
 },
 "nbformat": 4,
 "nbformat_minor": 2
}
