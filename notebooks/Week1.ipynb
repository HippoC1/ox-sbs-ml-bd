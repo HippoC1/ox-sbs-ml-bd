{
 "cells": [
  {
   "cell_type": "markdown",
   "metadata": {
    "slideshow": {
     "slide_type": "slide"
    }
   },
   "source": [
    "# Advances in Machine Learning with Big Data\n",
    "\n",
    "### Dr Jeremy Large and Dr Matthias Qian\n",
    "#### jeremy.large@economics.ox.ac.uk\n",
    "#### matthias.qian@economics.ox.ac.uk\n",
    "### Trinity 2020\n",
    "\n"
   ]
  },
  {
   "cell_type": "markdown",
   "metadata": {
    "slideshow": {
     "slide_type": "subslide"
    }
   },
   "source": [
    "... make the notebook pick it up if I change the functions in my libraries behind the scenes:"
   ]
  },
  {
   "cell_type": "code",
   "execution_count": 1,
   "metadata": {
    "slideshow": {
     "slide_type": "-"
    }
   },
   "outputs": [],
   "source": [
    "%load_ext autoreload\n",
    "%autoreload 2"
   ]
  },
  {
   "cell_type": "markdown",
   "metadata": {
    "slideshow": {
     "slide_type": "-"
    }
   },
   "source": [
    "... classic python libraries that are almost always needed for machine learning work:"
   ]
  },
  {
   "cell_type": "code",
   "execution_count": 42,
   "metadata": {
    "slideshow": {
     "slide_type": "-"
    }
   },
   "outputs": [],
   "source": [
    "import sys\n",
    "import os\n",
    "import pandas as pd\n",
    "import logging\n",
    "%matplotlib notebook"
   ]
  },
  {
   "cell_type": "markdown",
   "metadata": {
    "slideshow": {
     "slide_type": "subslide"
    }
   },
   "source": [
    "... now I tell the code where to look for the libraries I wrote for the course, as well as where to dump data:"
   ]
  },
  {
   "cell_type": "code",
   "execution_count": 3,
   "metadata": {
    "slideshow": {
     "slide_type": "-"
    }
   },
   "outputs": [],
   "source": [
    "# point at library; I need some lessons on doing good PYTHONPATHs:\n",
    "REPO_DIR = os.path.dirname(os.getcwd())\n",
    "\n",
    "UCI_LIB = os.path.join(REPO_DIR, 'lib')\n",
    "UCI_DATA = os.path.join(REPO_DIR, 'data') \n",
    "\n",
    "sys.path.append(UCI_LIB)\n",
    "\n",
    "logging.basicConfig(format='%(asctime)s %(levelname)s:%(message)s', level=logging.INFO)"
   ]
  },
  {
   "cell_type": "code",
   "execution_count": 4,
   "metadata": {
    "slideshow": {
     "slide_type": "-"
    }
   },
   "outputs": [],
   "source": [
    "UCI_DATA_FILE = os.path.join(UCI_DATA, 'raw.csv') "
   ]
  },
  {
   "cell_type": "markdown",
   "metadata": {
    "slideshow": {
     "slide_type": "-"
    }
   },
   "source": [
    "... among other things we created a path name where we can later save a file:"
   ]
  },
  {
   "cell_type": "code",
   "execution_count": 5,
   "metadata": {
    "slideshow": {
     "slide_type": "-"
    }
   },
   "outputs": [
    {
     "name": "stdout",
     "output_type": "stream",
     "text": [
      "C:\\Users\\Jeremy Large\\Documents\\professional\\Oxford Work\\ML Lectures\\ox-sbs-ml-bd\\data\\raw.csv\n"
     ]
    }
   ],
   "source": [
    "print(UCI_DATA_FILE)"
   ]
  },
  {
   "cell_type": "markdown",
   "metadata": {
    "slideshow": {
     "slide_type": "subslide"
    }
   },
   "source": [
    "... so, now I can tell the code to go looking for my behind-the-scenes functions:"
   ]
  },
  {
   "cell_type": "code",
   "execution_count": 6,
   "metadata": {
    "slideshow": {
     "slide_type": "-"
    }
   },
   "outputs": [],
   "source": [
    "from uci_retail_data.stock_codes import is_invalid, customer_code, stock_code_to_num, invalid_series, invoice_df\n",
    "from uci_retail_data.uci_files import load_uci_file, REMOTE_FILE, SHEET_NAME"
   ]
  },
  {
   "cell_type": "markdown",
   "metadata": {
    "slideshow": {
     "slide_type": "-"
    }
   },
   "source": [
    "... for example, here's one of the variables we just went and obtained:"
   ]
  },
  {
   "cell_type": "code",
   "execution_count": 7,
   "metadata": {
    "slideshow": {
     "slide_type": "-"
    }
   },
   "outputs": [
    {
     "data": {
      "text/plain": [
       "'https://archive.ics.uci.edu/ml/machine-learning-databases/00502/online_retail_II.xlsx'"
      ]
     },
     "execution_count": 7,
     "metadata": {},
     "output_type": "execute_result"
    }
   ],
   "source": [
    "REMOTE_FILE"
   ]
  },
  {
   "cell_type": "markdown",
   "metadata": {
    "slideshow": {
     "slide_type": "slide"
    }
   },
   "source": [
    "# Overview of the course"
   ]
  },
  {
   "cell_type": "markdown",
   "metadata": {
    "slideshow": {
     "slide_type": "-"
    }
   },
   "source": [
    "## 1. Introducing the dataset"
   ]
  },
  {
   "cell_type": "code",
   "execution_count": 8,
   "metadata": {
    "slideshow": {
     "slide_type": "-"
    }
   },
   "outputs": [
    {
     "name": "stdout",
     "output_type": "stream",
     "text": [
      "https://archive.ics.uci.edu/ml/machine-learning-databases/00502/online_retail_II.xlsx\n",
      "Year 2009-2010\n"
     ]
    }
   ],
   "source": [
    "print(REMOTE_FILE)\n",
    "print(SHEET_NAME)"
   ]
  },
  {
   "cell_type": "code",
   "execution_count": 9,
   "metadata": {
    "slideshow": {
     "slide_type": "subslide"
    }
   },
   "outputs": [
    {
     "name": "stderr",
     "output_type": "stream",
     "text": [
      "2020-02-12 16:57:30,957 INFO:Loading https://archive.ics.uci.edu/ml/machine-learning-databases/00502/online_retail_II.xlsx , sheet Year 2009-2010\n",
      "2020-02-12 17:01:08,798 INFO:Loaded https://archive.ics.uci.edu/ml/machine-learning-databases/00502/online_retail_II.xlsx , sheet Year 2009-2010\n",
      "2020-02-12 17:01:18,010 INFO:Saving a copy to C:\\Users\\Jeremy Large\\Documents\\professional\\Oxford Work\\ML Lectures\\ox-sbs-ml-bd\\data\\raw.csv\n"
     ]
    }
   ],
   "source": [
    "if os.path.exists(UCI_DATA_FILE):\n",
    "    df = load_uci_file(UCI_DATA_FILE, SHEET_NAME)\n",
    "else:\n",
    "    df = load_uci_file(REMOTE_FILE, SHEET_NAME)\n",
    "    df.to_csv(UCI_DATA_FILE)\n",
    "    logging.info('Saving a copy to ' + UCI_DATA_FILE)"
   ]
  },
  {
   "cell_type": "code",
   "execution_count": 10,
   "metadata": {
    "slideshow": {
     "slide_type": "-"
    }
   },
   "outputs": [
    {
     "data": {
      "text/html": [
       "<div>\n",
       "<style scoped>\n",
       "    .dataframe tbody tr th:only-of-type {\n",
       "        vertical-align: middle;\n",
       "    }\n",
       "\n",
       "    .dataframe tbody tr th {\n",
       "        vertical-align: top;\n",
       "    }\n",
       "\n",
       "    .dataframe thead th {\n",
       "        text-align: right;\n",
       "    }\n",
       "</style>\n",
       "<table border=\"1\" class=\"dataframe\">\n",
       "  <thead>\n",
       "    <tr style=\"text-align: right;\">\n",
       "      <th></th>\n",
       "      <th>Invoice</th>\n",
       "      <th>StockCode</th>\n",
       "      <th>Description</th>\n",
       "      <th>Quantity</th>\n",
       "      <th>InvoiceDate</th>\n",
       "      <th>Price</th>\n",
       "      <th>Customer ID</th>\n",
       "      <th>Country</th>\n",
       "    </tr>\n",
       "  </thead>\n",
       "  <tbody>\n",
       "    <tr>\n",
       "      <th>0</th>\n",
       "      <td>489434</td>\n",
       "      <td>85048</td>\n",
       "      <td>15CM CHRISTMAS GLASS BALL 20 LIGHTS</td>\n",
       "      <td>12</td>\n",
       "      <td>2009-12-01 07:45:00</td>\n",
       "      <td>6.95</td>\n",
       "      <td>13085.0</td>\n",
       "      <td>United Kingdom</td>\n",
       "    </tr>\n",
       "    <tr>\n",
       "      <th>1</th>\n",
       "      <td>489434</td>\n",
       "      <td>79323P</td>\n",
       "      <td>PINK CHERRY LIGHTS</td>\n",
       "      <td>12</td>\n",
       "      <td>2009-12-01 07:45:00</td>\n",
       "      <td>6.75</td>\n",
       "      <td>13085.0</td>\n",
       "      <td>United Kingdom</td>\n",
       "    </tr>\n",
       "    <tr>\n",
       "      <th>2</th>\n",
       "      <td>489434</td>\n",
       "      <td>79323W</td>\n",
       "      <td>WHITE CHERRY LIGHTS</td>\n",
       "      <td>12</td>\n",
       "      <td>2009-12-01 07:45:00</td>\n",
       "      <td>6.75</td>\n",
       "      <td>13085.0</td>\n",
       "      <td>United Kingdom</td>\n",
       "    </tr>\n",
       "    <tr>\n",
       "      <th>3</th>\n",
       "      <td>489434</td>\n",
       "      <td>22041</td>\n",
       "      <td>RECORD FRAME 7\" SINGLE SIZE</td>\n",
       "      <td>48</td>\n",
       "      <td>2009-12-01 07:45:00</td>\n",
       "      <td>2.10</td>\n",
       "      <td>13085.0</td>\n",
       "      <td>United Kingdom</td>\n",
       "    </tr>\n",
       "    <tr>\n",
       "      <th>4</th>\n",
       "      <td>489434</td>\n",
       "      <td>21232</td>\n",
       "      <td>STRAWBERRY CERAMIC TRINKET BOX</td>\n",
       "      <td>24</td>\n",
       "      <td>2009-12-01 07:45:00</td>\n",
       "      <td>1.25</td>\n",
       "      <td>13085.0</td>\n",
       "      <td>United Kingdom</td>\n",
       "    </tr>\n",
       "  </tbody>\n",
       "</table>\n",
       "</div>"
      ],
      "text/plain": [
       "  Invoice StockCode                          Description  Quantity  \\\n",
       "0  489434     85048  15CM CHRISTMAS GLASS BALL 20 LIGHTS        12   \n",
       "1  489434    79323P                   PINK CHERRY LIGHTS        12   \n",
       "2  489434    79323W                  WHITE CHERRY LIGHTS        12   \n",
       "3  489434     22041         RECORD FRAME 7\" SINGLE SIZE         48   \n",
       "4  489434     21232       STRAWBERRY CERAMIC TRINKET BOX        24   \n",
       "\n",
       "          InvoiceDate  Price  Customer ID         Country  \n",
       "0 2009-12-01 07:45:00   6.95      13085.0  United Kingdom  \n",
       "1 2009-12-01 07:45:00   6.75      13085.0  United Kingdom  \n",
       "2 2009-12-01 07:45:00   6.75      13085.0  United Kingdom  \n",
       "3 2009-12-01 07:45:00   2.10      13085.0  United Kingdom  \n",
       "4 2009-12-01 07:45:00   1.25      13085.0  United Kingdom  "
      ]
     },
     "execution_count": 10,
     "metadata": {},
     "output_type": "execute_result"
    }
   ],
   "source": [
    "df.head()"
   ]
  },
  {
   "cell_type": "code",
   "execution_count": 11,
   "metadata": {
    "slideshow": {
     "slide_type": "subslide"
    }
   },
   "outputs": [
    {
     "data": {
      "text/html": [
       "<div>\n",
       "<style scoped>\n",
       "    .dataframe tbody tr th:only-of-type {\n",
       "        vertical-align: middle;\n",
       "    }\n",
       "\n",
       "    .dataframe tbody tr th {\n",
       "        vertical-align: top;\n",
       "    }\n",
       "\n",
       "    .dataframe thead th {\n",
       "        text-align: right;\n",
       "    }\n",
       "</style>\n",
       "<table border=\"1\" class=\"dataframe\">\n",
       "  <thead>\n",
       "    <tr style=\"text-align: right;\">\n",
       "      <th></th>\n",
       "      <th>Invoice</th>\n",
       "      <th>StockCode</th>\n",
       "      <th>Description</th>\n",
       "      <th>Quantity</th>\n",
       "      <th>InvoiceDate</th>\n",
       "      <th>Price</th>\n",
       "      <th>Customer ID</th>\n",
       "      <th>Country</th>\n",
       "    </tr>\n",
       "  </thead>\n",
       "  <tbody>\n",
       "    <tr>\n",
       "      <th>525456</th>\n",
       "      <td>538171</td>\n",
       "      <td>22271</td>\n",
       "      <td>FELTCRAFT DOLL ROSIE</td>\n",
       "      <td>2</td>\n",
       "      <td>2010-12-09 20:01:00</td>\n",
       "      <td>2.95</td>\n",
       "      <td>17530.0</td>\n",
       "      <td>United Kingdom</td>\n",
       "    </tr>\n",
       "    <tr>\n",
       "      <th>525457</th>\n",
       "      <td>538171</td>\n",
       "      <td>22750</td>\n",
       "      <td>FELTCRAFT PRINCESS LOLA DOLL</td>\n",
       "      <td>1</td>\n",
       "      <td>2010-12-09 20:01:00</td>\n",
       "      <td>3.75</td>\n",
       "      <td>17530.0</td>\n",
       "      <td>United Kingdom</td>\n",
       "    </tr>\n",
       "    <tr>\n",
       "      <th>525458</th>\n",
       "      <td>538171</td>\n",
       "      <td>22751</td>\n",
       "      <td>FELTCRAFT PRINCESS OLIVIA DOLL</td>\n",
       "      <td>1</td>\n",
       "      <td>2010-12-09 20:01:00</td>\n",
       "      <td>3.75</td>\n",
       "      <td>17530.0</td>\n",
       "      <td>United Kingdom</td>\n",
       "    </tr>\n",
       "    <tr>\n",
       "      <th>525459</th>\n",
       "      <td>538171</td>\n",
       "      <td>20970</td>\n",
       "      <td>PINK FLORAL FELTCRAFT SHOULDER BAG</td>\n",
       "      <td>2</td>\n",
       "      <td>2010-12-09 20:01:00</td>\n",
       "      <td>3.75</td>\n",
       "      <td>17530.0</td>\n",
       "      <td>United Kingdom</td>\n",
       "    </tr>\n",
       "    <tr>\n",
       "      <th>525460</th>\n",
       "      <td>538171</td>\n",
       "      <td>21931</td>\n",
       "      <td>JUMBO STORAGE BAG SUKI</td>\n",
       "      <td>2</td>\n",
       "      <td>2010-12-09 20:01:00</td>\n",
       "      <td>1.95</td>\n",
       "      <td>17530.0</td>\n",
       "      <td>United Kingdom</td>\n",
       "    </tr>\n",
       "  </tbody>\n",
       "</table>\n",
       "</div>"
      ],
      "text/plain": [
       "       Invoice StockCode                         Description  Quantity  \\\n",
       "525456  538171     22271                FELTCRAFT DOLL ROSIE         2   \n",
       "525457  538171     22750        FELTCRAFT PRINCESS LOLA DOLL         1   \n",
       "525458  538171     22751      FELTCRAFT PRINCESS OLIVIA DOLL         1   \n",
       "525459  538171     20970  PINK FLORAL FELTCRAFT SHOULDER BAG         2   \n",
       "525460  538171     21931              JUMBO STORAGE BAG SUKI         2   \n",
       "\n",
       "               InvoiceDate  Price  Customer ID         Country  \n",
       "525456 2010-12-09 20:01:00   2.95      17530.0  United Kingdom  \n",
       "525457 2010-12-09 20:01:00   3.75      17530.0  United Kingdom  \n",
       "525458 2010-12-09 20:01:00   3.75      17530.0  United Kingdom  \n",
       "525459 2010-12-09 20:01:00   3.75      17530.0  United Kingdom  \n",
       "525460 2010-12-09 20:01:00   1.95      17530.0  United Kingdom  "
      ]
     },
     "execution_count": 11,
     "metadata": {},
     "output_type": "execute_result"
    }
   ],
   "source": [
    "df.tail()"
   ]
  },
  {
   "cell_type": "code",
   "execution_count": 12,
   "metadata": {
    "slideshow": {
     "slide_type": "subslide"
    }
   },
   "outputs": [
    {
     "name": "stdout",
     "output_type": "stream",
     "text": [
      "<class 'pandas.core.frame.DataFrame'>\n",
      "RangeIndex: 525461 entries, 0 to 525460\n",
      "Data columns (total 8 columns):\n",
      "Invoice        525461 non-null object\n",
      "StockCode      525461 non-null object\n",
      "Description    522533 non-null object\n",
      "Quantity       525461 non-null int64\n",
      "InvoiceDate    525461 non-null datetime64[ns]\n",
      "Price          525461 non-null float64\n",
      "Customer ID    417534 non-null float64\n",
      "Country        525461 non-null object\n",
      "dtypes: datetime64[ns](1), float64(2), int64(1), object(4)\n",
      "memory usage: 32.1+ MB\n"
     ]
    }
   ],
   "source": [
    "df.info()"
   ]
  },
  {
   "cell_type": "code",
   "execution_count": 13,
   "metadata": {
    "slideshow": {
     "slide_type": "-"
    }
   },
   "outputs": [
    {
     "data": {
      "text/html": [
       "<div>\n",
       "<style scoped>\n",
       "    .dataframe tbody tr th:only-of-type {\n",
       "        vertical-align: middle;\n",
       "    }\n",
       "\n",
       "    .dataframe tbody tr th {\n",
       "        vertical-align: top;\n",
       "    }\n",
       "\n",
       "    .dataframe thead th {\n",
       "        text-align: right;\n",
       "    }\n",
       "</style>\n",
       "<table border=\"1\" class=\"dataframe\">\n",
       "  <thead>\n",
       "    <tr style=\"text-align: right;\">\n",
       "      <th></th>\n",
       "      <th>count</th>\n",
       "      <th>mean</th>\n",
       "      <th>std</th>\n",
       "      <th>min</th>\n",
       "      <th>25%</th>\n",
       "      <th>50%</th>\n",
       "      <th>75%</th>\n",
       "      <th>max</th>\n",
       "    </tr>\n",
       "  </thead>\n",
       "  <tbody>\n",
       "    <tr>\n",
       "      <th>Quantity</th>\n",
       "      <td>525461.0</td>\n",
       "      <td>10.337667</td>\n",
       "      <td>107.424110</td>\n",
       "      <td>-9600.00</td>\n",
       "      <td>1.00</td>\n",
       "      <td>3.0</td>\n",
       "      <td>10.00</td>\n",
       "      <td>19152.00</td>\n",
       "    </tr>\n",
       "    <tr>\n",
       "      <th>Price</th>\n",
       "      <td>525461.0</td>\n",
       "      <td>4.688834</td>\n",
       "      <td>146.126914</td>\n",
       "      <td>-53594.36</td>\n",
       "      <td>1.25</td>\n",
       "      <td>2.1</td>\n",
       "      <td>4.21</td>\n",
       "      <td>25111.09</td>\n",
       "    </tr>\n",
       "    <tr>\n",
       "      <th>Customer ID</th>\n",
       "      <td>417534.0</td>\n",
       "      <td>15360.645478</td>\n",
       "      <td>1680.811316</td>\n",
       "      <td>12346.00</td>\n",
       "      <td>13983.00</td>\n",
       "      <td>15311.0</td>\n",
       "      <td>16799.00</td>\n",
       "      <td>18287.00</td>\n",
       "    </tr>\n",
       "  </tbody>\n",
       "</table>\n",
       "</div>"
      ],
      "text/plain": [
       "                count          mean          std       min       25%      50%  \\\n",
       "Quantity     525461.0     10.337667   107.424110  -9600.00      1.00      3.0   \n",
       "Price        525461.0      4.688834   146.126914 -53594.36      1.25      2.1   \n",
       "Customer ID  417534.0  15360.645478  1680.811316  12346.00  13983.00  15311.0   \n",
       "\n",
       "                  75%       max  \n",
       "Quantity        10.00  19152.00  \n",
       "Price            4.21  25111.09  \n",
       "Customer ID  16799.00  18287.00  "
      ]
     },
     "execution_count": 13,
     "metadata": {},
     "output_type": "execute_result"
    }
   ],
   "source": [
    "df.describe().T"
   ]
  },
  {
   "cell_type": "markdown",
   "metadata": {
    "slideshow": {
     "slide_type": "-"
    }
   },
   "source": [
    "... half a million rows is _not that much_ these days, but will be a good illustration for this course"
   ]
  },
  {
   "cell_type": "code",
   "execution_count": 20,
   "metadata": {
    "slideshow": {
     "slide_type": "subslide"
    }
   },
   "outputs": [],
   "source": [
    "invalids = invalid_series(df)"
   ]
  },
  {
   "cell_type": "code",
   "execution_count": 21,
   "metadata": {
    "slideshow": {
     "slide_type": "-"
    }
   },
   "outputs": [
    {
     "data": {
      "text/html": [
       "<div>\n",
       "<style scoped>\n",
       "    .dataframe tbody tr th:only-of-type {\n",
       "        vertical-align: middle;\n",
       "    }\n",
       "\n",
       "    .dataframe tbody tr th {\n",
       "        vertical-align: top;\n",
       "    }\n",
       "\n",
       "    .dataframe thead th {\n",
       "        text-align: right;\n",
       "    }\n",
       "</style>\n",
       "<table border=\"1\" class=\"dataframe\">\n",
       "  <thead>\n",
       "    <tr style=\"text-align: right;\">\n",
       "      <th></th>\n",
       "      <th>Invoice</th>\n",
       "      <th>StockCode</th>\n",
       "      <th>Description</th>\n",
       "      <th>Quantity</th>\n",
       "      <th>InvoiceDate</th>\n",
       "      <th>Price</th>\n",
       "      <th>Customer ID</th>\n",
       "      <th>Country</th>\n",
       "    </tr>\n",
       "  </thead>\n",
       "  <tbody>\n",
       "    <tr>\n",
       "      <th>89</th>\n",
       "      <td>489439</td>\n",
       "      <td>POST</td>\n",
       "      <td>POSTAGE</td>\n",
       "      <td>3</td>\n",
       "      <td>2009-12-01 09:28:00</td>\n",
       "      <td>18.00</td>\n",
       "      <td>12682.0</td>\n",
       "      <td>France</td>\n",
       "    </tr>\n",
       "    <tr>\n",
       "      <th>126</th>\n",
       "      <td>489444</td>\n",
       "      <td>POST</td>\n",
       "      <td>POSTAGE</td>\n",
       "      <td>1</td>\n",
       "      <td>2009-12-01 09:55:00</td>\n",
       "      <td>141.00</td>\n",
       "      <td>12636.0</td>\n",
       "      <td>USA</td>\n",
       "    </tr>\n",
       "    <tr>\n",
       "      <th>173</th>\n",
       "      <td>489447</td>\n",
       "      <td>POST</td>\n",
       "      <td>POSTAGE</td>\n",
       "      <td>1</td>\n",
       "      <td>2009-12-01 10:10:00</td>\n",
       "      <td>130.00</td>\n",
       "      <td>12362.0</td>\n",
       "      <td>Belgium</td>\n",
       "    </tr>\n",
       "    <tr>\n",
       "      <th>178</th>\n",
       "      <td>C489449</td>\n",
       "      <td>22087</td>\n",
       "      <td>PAPER BUNTING WHITE LACE</td>\n",
       "      <td>-12</td>\n",
       "      <td>2009-12-01 10:33:00</td>\n",
       "      <td>2.95</td>\n",
       "      <td>16321.0</td>\n",
       "      <td>Australia</td>\n",
       "    </tr>\n",
       "    <tr>\n",
       "      <th>179</th>\n",
       "      <td>C489449</td>\n",
       "      <td>85206A</td>\n",
       "      <td>CREAM FELT EASTER EGG BASKET</td>\n",
       "      <td>-6</td>\n",
       "      <td>2009-12-01 10:33:00</td>\n",
       "      <td>1.65</td>\n",
       "      <td>16321.0</td>\n",
       "      <td>Australia</td>\n",
       "    </tr>\n",
       "  </tbody>\n",
       "</table>\n",
       "</div>"
      ],
      "text/plain": [
       "     Invoice StockCode                   Description  Quantity  \\\n",
       "89    489439      POST                       POSTAGE         3   \n",
       "126   489444      POST                       POSTAGE         1   \n",
       "173   489447      POST                       POSTAGE         1   \n",
       "178  C489449     22087      PAPER BUNTING WHITE LACE       -12   \n",
       "179  C489449    85206A  CREAM FELT EASTER EGG BASKET        -6   \n",
       "\n",
       "            InvoiceDate   Price  Customer ID    Country  \n",
       "89  2009-12-01 09:28:00   18.00      12682.0     France  \n",
       "126 2009-12-01 09:55:00  141.00      12636.0        USA  \n",
       "173 2009-12-01 10:10:00  130.00      12362.0    Belgium  \n",
       "178 2009-12-01 10:33:00    2.95      16321.0  Australia  \n",
       "179 2009-12-01 10:33:00    1.65      16321.0  Australia  "
      ]
     },
     "execution_count": 21,
     "metadata": {},
     "output_type": "execute_result"
    }
   ],
   "source": [
    "df.loc[invalids].head()"
   ]
  },
  {
   "cell_type": "code",
   "execution_count": 22,
   "metadata": {
    "slideshow": {
     "slide_type": "-"
    }
   },
   "outputs": [],
   "source": [
    "inv = invoice_df(df, invalid_series=invalids)"
   ]
  },
  {
   "cell_type": "code",
   "execution_count": 30,
   "metadata": {
    "slideshow": {
     "slide_type": "-"
    }
   },
   "outputs": [
    {
     "data": {
      "text/html": [
       "<div>\n",
       "<style scoped>\n",
       "    .dataframe tbody tr th:only-of-type {\n",
       "        vertical-align: middle;\n",
       "    }\n",
       "\n",
       "    .dataframe tbody tr th {\n",
       "        vertical-align: top;\n",
       "    }\n",
       "\n",
       "    .dataframe thead th {\n",
       "        text-align: right;\n",
       "    }\n",
       "</style>\n",
       "<table border=\"1\" class=\"dataframe\">\n",
       "  <thead>\n",
       "    <tr style=\"text-align: right;\">\n",
       "      <th></th>\n",
       "      <th>customer</th>\n",
       "      <th>n_codes</th>\n",
       "      <th>n_items</th>\n",
       "      <th>spend</th>\n",
       "      <th>hour</th>\n",
       "      <th>month</th>\n",
       "      <th>words</th>\n",
       "      <th>words_per_item</th>\n",
       "    </tr>\n",
       "    <tr>\n",
       "      <th>Invoice</th>\n",
       "      <th></th>\n",
       "      <th></th>\n",
       "      <th></th>\n",
       "      <th></th>\n",
       "      <th></th>\n",
       "      <th></th>\n",
       "      <th></th>\n",
       "      <th></th>\n",
       "    </tr>\n",
       "  </thead>\n",
       "  <tbody>\n",
       "    <tr>\n",
       "      <th>489434</th>\n",
       "      <td>13085.0</td>\n",
       "      <td>8</td>\n",
       "      <td>166</td>\n",
       "      <td>505.30</td>\n",
       "      <td>7</td>\n",
       "      <td>200912</td>\n",
       "      <td>{TRINKET, BALL, CERAMIC, DOORMAT, LIGHTS, PINK...</td>\n",
       "      <td>3.625000</td>\n",
       "    </tr>\n",
       "    <tr>\n",
       "      <th>489435</th>\n",
       "      <td>13085.0</td>\n",
       "      <td>4</td>\n",
       "      <td>60</td>\n",
       "      <td>145.80</td>\n",
       "      <td>7</td>\n",
       "      <td>200912</td>\n",
       "      <td>{DOG, SPOONS, BALL, HEART, BOWL, CAT, MEASURIN...</td>\n",
       "      <td>4.000000</td>\n",
       "    </tr>\n",
       "    <tr>\n",
       "      <th>489436</th>\n",
       "      <td>13078.0</td>\n",
       "      <td>19</td>\n",
       "      <td>193</td>\n",
       "      <td>630.33</td>\n",
       "      <td>9</td>\n",
       "      <td>200912</td>\n",
       "      <td>{BISCUITS, OF, SMALL, TRELLIS, LARGE, CLASSIC,...</td>\n",
       "      <td>3.315789</td>\n",
       "    </tr>\n",
       "    <tr>\n",
       "      <th>489437</th>\n",
       "      <td>15362.0</td>\n",
       "      <td>23</td>\n",
       "      <td>145</td>\n",
       "      <td>310.75</td>\n",
       "      <td>9</td>\n",
       "      <td>200912</td>\n",
       "      <td>{PAPER, OF, SMALL, CUPS, LARGE, RETRO, STOCKIN...</td>\n",
       "      <td>3.000000</td>\n",
       "    </tr>\n",
       "    <tr>\n",
       "      <th>489438</th>\n",
       "      <td>18102.0</td>\n",
       "      <td>17</td>\n",
       "      <td>826</td>\n",
       "      <td>2286.24</td>\n",
       "      <td>9</td>\n",
       "      <td>200912</td>\n",
       "      <td>{BISCUITS, OF, LOLA, COASTER, CHARLIE, DOORSTO...</td>\n",
       "      <td>2.235294</td>\n",
       "    </tr>\n",
       "  </tbody>\n",
       "</table>\n",
       "</div>"
      ],
      "text/plain": [
       "         customer  n_codes  n_items    spend  hour   month  \\\n",
       "Invoice                                                      \n",
       "489434    13085.0        8      166   505.30     7  200912   \n",
       "489435    13085.0        4       60   145.80     7  200912   \n",
       "489436    13078.0       19      193   630.33     9  200912   \n",
       "489437    15362.0       23      145   310.75     9  200912   \n",
       "489438    18102.0       17      826  2286.24     9  200912   \n",
       "\n",
       "                                                     words  words_per_item  \n",
       "Invoice                                                                     \n",
       "489434   {TRINKET, BALL, CERAMIC, DOORMAT, LIGHTS, PINK...        3.625000  \n",
       "489435   {DOG, SPOONS, BALL, HEART, BOWL, CAT, MEASURIN...        4.000000  \n",
       "489436   {BISCUITS, OF, SMALL, TRELLIS, LARGE, CLASSIC,...        3.315789  \n",
       "489437   {PAPER, OF, SMALL, CUPS, LARGE, RETRO, STOCKIN...        3.000000  \n",
       "489438   {BISCUITS, OF, LOLA, COASTER, CHARLIE, DOORSTO...        2.235294  "
      ]
     },
     "execution_count": 30,
     "metadata": {},
     "output_type": "execute_result"
    }
   ],
   "source": [
    "inv.head()"
   ]
  },
  {
   "cell_type": "code",
   "execution_count": 43,
   "metadata": {
    "slideshow": {
     "slide_type": "subslide"
    }
   },
   "outputs": [
    {
     "data": {
      "application/javascript": [
       "/* Put everything inside the global mpl namespace */\n",
       "window.mpl = {};\n",
       "\n",
       "\n",
       "mpl.get_websocket_type = function() {\n",
       "    if (typeof(WebSocket) !== 'undefined') {\n",
       "        return WebSocket;\n",
       "    } else if (typeof(MozWebSocket) !== 'undefined') {\n",
       "        return MozWebSocket;\n",
       "    } else {\n",
       "        alert('Your browser does not have WebSocket support.' +\n",
       "              'Please try Chrome, Safari or Firefox ≥ 6. ' +\n",
       "              'Firefox 4 and 5 are also supported but you ' +\n",
       "              'have to enable WebSockets in about:config.');\n",
       "    };\n",
       "}\n",
       "\n",
       "mpl.figure = function(figure_id, websocket, ondownload, parent_element) {\n",
       "    this.id = figure_id;\n",
       "\n",
       "    this.ws = websocket;\n",
       "\n",
       "    this.supports_binary = (this.ws.binaryType != undefined);\n",
       "\n",
       "    if (!this.supports_binary) {\n",
       "        var warnings = document.getElementById(\"mpl-warnings\");\n",
       "        if (warnings) {\n",
       "            warnings.style.display = 'block';\n",
       "            warnings.textContent = (\n",
       "                \"This browser does not support binary websocket messages. \" +\n",
       "                    \"Performance may be slow.\");\n",
       "        }\n",
       "    }\n",
       "\n",
       "    this.imageObj = new Image();\n",
       "\n",
       "    this.context = undefined;\n",
       "    this.message = undefined;\n",
       "    this.canvas = undefined;\n",
       "    this.rubberband_canvas = undefined;\n",
       "    this.rubberband_context = undefined;\n",
       "    this.format_dropdown = undefined;\n",
       "\n",
       "    this.image_mode = 'full';\n",
       "\n",
       "    this.root = $('<div/>');\n",
       "    this._root_extra_style(this.root)\n",
       "    this.root.attr('style', 'display: inline-block');\n",
       "\n",
       "    $(parent_element).append(this.root);\n",
       "\n",
       "    this._init_header(this);\n",
       "    this._init_canvas(this);\n",
       "    this._init_toolbar(this);\n",
       "\n",
       "    var fig = this;\n",
       "\n",
       "    this.waiting = false;\n",
       "\n",
       "    this.ws.onopen =  function () {\n",
       "            fig.send_message(\"supports_binary\", {value: fig.supports_binary});\n",
       "            fig.send_message(\"send_image_mode\", {});\n",
       "            if (mpl.ratio != 1) {\n",
       "                fig.send_message(\"set_dpi_ratio\", {'dpi_ratio': mpl.ratio});\n",
       "            }\n",
       "            fig.send_message(\"refresh\", {});\n",
       "        }\n",
       "\n",
       "    this.imageObj.onload = function() {\n",
       "            if (fig.image_mode == 'full') {\n",
       "                // Full images could contain transparency (where diff images\n",
       "                // almost always do), so we need to clear the canvas so that\n",
       "                // there is no ghosting.\n",
       "                fig.context.clearRect(0, 0, fig.canvas.width, fig.canvas.height);\n",
       "            }\n",
       "            fig.context.drawImage(fig.imageObj, 0, 0);\n",
       "        };\n",
       "\n",
       "    this.imageObj.onunload = function() {\n",
       "        fig.ws.close();\n",
       "    }\n",
       "\n",
       "    this.ws.onmessage = this._make_on_message_function(this);\n",
       "\n",
       "    this.ondownload = ondownload;\n",
       "}\n",
       "\n",
       "mpl.figure.prototype._init_header = function() {\n",
       "    var titlebar = $(\n",
       "        '<div class=\"ui-dialog-titlebar ui-widget-header ui-corner-all ' +\n",
       "        'ui-helper-clearfix\"/>');\n",
       "    var titletext = $(\n",
       "        '<div class=\"ui-dialog-title\" style=\"width: 100%; ' +\n",
       "        'text-align: center; padding: 3px;\"/>');\n",
       "    titlebar.append(titletext)\n",
       "    this.root.append(titlebar);\n",
       "    this.header = titletext[0];\n",
       "}\n",
       "\n",
       "\n",
       "\n",
       "mpl.figure.prototype._canvas_extra_style = function(canvas_div) {\n",
       "\n",
       "}\n",
       "\n",
       "\n",
       "mpl.figure.prototype._root_extra_style = function(canvas_div) {\n",
       "\n",
       "}\n",
       "\n",
       "mpl.figure.prototype._init_canvas = function() {\n",
       "    var fig = this;\n",
       "\n",
       "    var canvas_div = $('<div/>');\n",
       "\n",
       "    canvas_div.attr('style', 'position: relative; clear: both; outline: 0');\n",
       "\n",
       "    function canvas_keyboard_event(event) {\n",
       "        return fig.key_event(event, event['data']);\n",
       "    }\n",
       "\n",
       "    canvas_div.keydown('key_press', canvas_keyboard_event);\n",
       "    canvas_div.keyup('key_release', canvas_keyboard_event);\n",
       "    this.canvas_div = canvas_div\n",
       "    this._canvas_extra_style(canvas_div)\n",
       "    this.root.append(canvas_div);\n",
       "\n",
       "    var canvas = $('<canvas/>');\n",
       "    canvas.addClass('mpl-canvas');\n",
       "    canvas.attr('style', \"left: 0; top: 0; z-index: 0; outline: 0\")\n",
       "\n",
       "    this.canvas = canvas[0];\n",
       "    this.context = canvas[0].getContext(\"2d\");\n",
       "\n",
       "    var backingStore = this.context.backingStorePixelRatio ||\n",
       "\tthis.context.webkitBackingStorePixelRatio ||\n",
       "\tthis.context.mozBackingStorePixelRatio ||\n",
       "\tthis.context.msBackingStorePixelRatio ||\n",
       "\tthis.context.oBackingStorePixelRatio ||\n",
       "\tthis.context.backingStorePixelRatio || 1;\n",
       "\n",
       "    mpl.ratio = (window.devicePixelRatio || 1) / backingStore;\n",
       "\n",
       "    var rubberband = $('<canvas/>');\n",
       "    rubberband.attr('style', \"position: absolute; left: 0; top: 0; z-index: 1;\")\n",
       "\n",
       "    var pass_mouse_events = true;\n",
       "\n",
       "    canvas_div.resizable({\n",
       "        start: function(event, ui) {\n",
       "            pass_mouse_events = false;\n",
       "        },\n",
       "        resize: function(event, ui) {\n",
       "            fig.request_resize(ui.size.width, ui.size.height);\n",
       "        },\n",
       "        stop: function(event, ui) {\n",
       "            pass_mouse_events = true;\n",
       "            fig.request_resize(ui.size.width, ui.size.height);\n",
       "        },\n",
       "    });\n",
       "\n",
       "    function mouse_event_fn(event) {\n",
       "        if (pass_mouse_events)\n",
       "            return fig.mouse_event(event, event['data']);\n",
       "    }\n",
       "\n",
       "    rubberband.mousedown('button_press', mouse_event_fn);\n",
       "    rubberband.mouseup('button_release', mouse_event_fn);\n",
       "    // Throttle sequential mouse events to 1 every 20ms.\n",
       "    rubberband.mousemove('motion_notify', mouse_event_fn);\n",
       "\n",
       "    rubberband.mouseenter('figure_enter', mouse_event_fn);\n",
       "    rubberband.mouseleave('figure_leave', mouse_event_fn);\n",
       "\n",
       "    canvas_div.on(\"wheel\", function (event) {\n",
       "        event = event.originalEvent;\n",
       "        event['data'] = 'scroll'\n",
       "        if (event.deltaY < 0) {\n",
       "            event.step = 1;\n",
       "        } else {\n",
       "            event.step = -1;\n",
       "        }\n",
       "        mouse_event_fn(event);\n",
       "    });\n",
       "\n",
       "    canvas_div.append(canvas);\n",
       "    canvas_div.append(rubberband);\n",
       "\n",
       "    this.rubberband = rubberband;\n",
       "    this.rubberband_canvas = rubberband[0];\n",
       "    this.rubberband_context = rubberband[0].getContext(\"2d\");\n",
       "    this.rubberband_context.strokeStyle = \"#000000\";\n",
       "\n",
       "    this._resize_canvas = function(width, height) {\n",
       "        // Keep the size of the canvas, canvas container, and rubber band\n",
       "        // canvas in synch.\n",
       "        canvas_div.css('width', width)\n",
       "        canvas_div.css('height', height)\n",
       "\n",
       "        canvas.attr('width', width * mpl.ratio);\n",
       "        canvas.attr('height', height * mpl.ratio);\n",
       "        canvas.attr('style', 'width: ' + width + 'px; height: ' + height + 'px;');\n",
       "\n",
       "        rubberband.attr('width', width);\n",
       "        rubberband.attr('height', height);\n",
       "    }\n",
       "\n",
       "    // Set the figure to an initial 600x600px, this will subsequently be updated\n",
       "    // upon first draw.\n",
       "    this._resize_canvas(600, 600);\n",
       "\n",
       "    // Disable right mouse context menu.\n",
       "    $(this.rubberband_canvas).bind(\"contextmenu\",function(e){\n",
       "        return false;\n",
       "    });\n",
       "\n",
       "    function set_focus () {\n",
       "        canvas.focus();\n",
       "        canvas_div.focus();\n",
       "    }\n",
       "\n",
       "    window.setTimeout(set_focus, 100);\n",
       "}\n",
       "\n",
       "mpl.figure.prototype._init_toolbar = function() {\n",
       "    var fig = this;\n",
       "\n",
       "    var nav_element = $('<div/>')\n",
       "    nav_element.attr('style', 'width: 100%');\n",
       "    this.root.append(nav_element);\n",
       "\n",
       "    // Define a callback function for later on.\n",
       "    function toolbar_event(event) {\n",
       "        return fig.toolbar_button_onclick(event['data']);\n",
       "    }\n",
       "    function toolbar_mouse_event(event) {\n",
       "        return fig.toolbar_button_onmouseover(event['data']);\n",
       "    }\n",
       "\n",
       "    for(var toolbar_ind in mpl.toolbar_items) {\n",
       "        var name = mpl.toolbar_items[toolbar_ind][0];\n",
       "        var tooltip = mpl.toolbar_items[toolbar_ind][1];\n",
       "        var image = mpl.toolbar_items[toolbar_ind][2];\n",
       "        var method_name = mpl.toolbar_items[toolbar_ind][3];\n",
       "\n",
       "        if (!name) {\n",
       "            // put a spacer in here.\n",
       "            continue;\n",
       "        }\n",
       "        var button = $('<button/>');\n",
       "        button.addClass('ui-button ui-widget ui-state-default ui-corner-all ' +\n",
       "                        'ui-button-icon-only');\n",
       "        button.attr('role', 'button');\n",
       "        button.attr('aria-disabled', 'false');\n",
       "        button.click(method_name, toolbar_event);\n",
       "        button.mouseover(tooltip, toolbar_mouse_event);\n",
       "\n",
       "        var icon_img = $('<span/>');\n",
       "        icon_img.addClass('ui-button-icon-primary ui-icon');\n",
       "        icon_img.addClass(image);\n",
       "        icon_img.addClass('ui-corner-all');\n",
       "\n",
       "        var tooltip_span = $('<span/>');\n",
       "        tooltip_span.addClass('ui-button-text');\n",
       "        tooltip_span.html(tooltip);\n",
       "\n",
       "        button.append(icon_img);\n",
       "        button.append(tooltip_span);\n",
       "\n",
       "        nav_element.append(button);\n",
       "    }\n",
       "\n",
       "    var fmt_picker_span = $('<span/>');\n",
       "\n",
       "    var fmt_picker = $('<select/>');\n",
       "    fmt_picker.addClass('mpl-toolbar-option ui-widget ui-widget-content');\n",
       "    fmt_picker_span.append(fmt_picker);\n",
       "    nav_element.append(fmt_picker_span);\n",
       "    this.format_dropdown = fmt_picker[0];\n",
       "\n",
       "    for (var ind in mpl.extensions) {\n",
       "        var fmt = mpl.extensions[ind];\n",
       "        var option = $(\n",
       "            '<option/>', {selected: fmt === mpl.default_extension}).html(fmt);\n",
       "        fmt_picker.append(option)\n",
       "    }\n",
       "\n",
       "    // Add hover states to the ui-buttons\n",
       "    $( \".ui-button\" ).hover(\n",
       "        function() { $(this).addClass(\"ui-state-hover\");},\n",
       "        function() { $(this).removeClass(\"ui-state-hover\");}\n",
       "    );\n",
       "\n",
       "    var status_bar = $('<span class=\"mpl-message\"/>');\n",
       "    nav_element.append(status_bar);\n",
       "    this.message = status_bar[0];\n",
       "}\n",
       "\n",
       "mpl.figure.prototype.request_resize = function(x_pixels, y_pixels) {\n",
       "    // Request matplotlib to resize the figure. Matplotlib will then trigger a resize in the client,\n",
       "    // which will in turn request a refresh of the image.\n",
       "    this.send_message('resize', {'width': x_pixels, 'height': y_pixels});\n",
       "}\n",
       "\n",
       "mpl.figure.prototype.send_message = function(type, properties) {\n",
       "    properties['type'] = type;\n",
       "    properties['figure_id'] = this.id;\n",
       "    this.ws.send(JSON.stringify(properties));\n",
       "}\n",
       "\n",
       "mpl.figure.prototype.send_draw_message = function() {\n",
       "    if (!this.waiting) {\n",
       "        this.waiting = true;\n",
       "        this.ws.send(JSON.stringify({type: \"draw\", figure_id: this.id}));\n",
       "    }\n",
       "}\n",
       "\n",
       "\n",
       "mpl.figure.prototype.handle_save = function(fig, msg) {\n",
       "    var format_dropdown = fig.format_dropdown;\n",
       "    var format = format_dropdown.options[format_dropdown.selectedIndex].value;\n",
       "    fig.ondownload(fig, format);\n",
       "}\n",
       "\n",
       "\n",
       "mpl.figure.prototype.handle_resize = function(fig, msg) {\n",
       "    var size = msg['size'];\n",
       "    if (size[0] != fig.canvas.width || size[1] != fig.canvas.height) {\n",
       "        fig._resize_canvas(size[0], size[1]);\n",
       "        fig.send_message(\"refresh\", {});\n",
       "    };\n",
       "}\n",
       "\n",
       "mpl.figure.prototype.handle_rubberband = function(fig, msg) {\n",
       "    var x0 = msg['x0'] / mpl.ratio;\n",
       "    var y0 = (fig.canvas.height - msg['y0']) / mpl.ratio;\n",
       "    var x1 = msg['x1'] / mpl.ratio;\n",
       "    var y1 = (fig.canvas.height - msg['y1']) / mpl.ratio;\n",
       "    x0 = Math.floor(x0) + 0.5;\n",
       "    y0 = Math.floor(y0) + 0.5;\n",
       "    x1 = Math.floor(x1) + 0.5;\n",
       "    y1 = Math.floor(y1) + 0.5;\n",
       "    var min_x = Math.min(x0, x1);\n",
       "    var min_y = Math.min(y0, y1);\n",
       "    var width = Math.abs(x1 - x0);\n",
       "    var height = Math.abs(y1 - y0);\n",
       "\n",
       "    fig.rubberband_context.clearRect(\n",
       "        0, 0, fig.canvas.width, fig.canvas.height);\n",
       "\n",
       "    fig.rubberband_context.strokeRect(min_x, min_y, width, height);\n",
       "}\n",
       "\n",
       "mpl.figure.prototype.handle_figure_label = function(fig, msg) {\n",
       "    // Updates the figure title.\n",
       "    fig.header.textContent = msg['label'];\n",
       "}\n",
       "\n",
       "mpl.figure.prototype.handle_cursor = function(fig, msg) {\n",
       "    var cursor = msg['cursor'];\n",
       "    switch(cursor)\n",
       "    {\n",
       "    case 0:\n",
       "        cursor = 'pointer';\n",
       "        break;\n",
       "    case 1:\n",
       "        cursor = 'default';\n",
       "        break;\n",
       "    case 2:\n",
       "        cursor = 'crosshair';\n",
       "        break;\n",
       "    case 3:\n",
       "        cursor = 'move';\n",
       "        break;\n",
       "    }\n",
       "    fig.rubberband_canvas.style.cursor = cursor;\n",
       "}\n",
       "\n",
       "mpl.figure.prototype.handle_message = function(fig, msg) {\n",
       "    fig.message.textContent = msg['message'];\n",
       "}\n",
       "\n",
       "mpl.figure.prototype.handle_draw = function(fig, msg) {\n",
       "    // Request the server to send over a new figure.\n",
       "    fig.send_draw_message();\n",
       "}\n",
       "\n",
       "mpl.figure.prototype.handle_image_mode = function(fig, msg) {\n",
       "    fig.image_mode = msg['mode'];\n",
       "}\n",
       "\n",
       "mpl.figure.prototype.updated_canvas_event = function() {\n",
       "    // Called whenever the canvas gets updated.\n",
       "    this.send_message(\"ack\", {});\n",
       "}\n",
       "\n",
       "// A function to construct a web socket function for onmessage handling.\n",
       "// Called in the figure constructor.\n",
       "mpl.figure.prototype._make_on_message_function = function(fig) {\n",
       "    return function socket_on_message(evt) {\n",
       "        if (evt.data instanceof Blob) {\n",
       "            /* FIXME: We get \"Resource interpreted as Image but\n",
       "             * transferred with MIME type text/plain:\" errors on\n",
       "             * Chrome.  But how to set the MIME type?  It doesn't seem\n",
       "             * to be part of the websocket stream */\n",
       "            evt.data.type = \"image/png\";\n",
       "\n",
       "            /* Free the memory for the previous frames */\n",
       "            if (fig.imageObj.src) {\n",
       "                (window.URL || window.webkitURL).revokeObjectURL(\n",
       "                    fig.imageObj.src);\n",
       "            }\n",
       "\n",
       "            fig.imageObj.src = (window.URL || window.webkitURL).createObjectURL(\n",
       "                evt.data);\n",
       "            fig.updated_canvas_event();\n",
       "            fig.waiting = false;\n",
       "            return;\n",
       "        }\n",
       "        else if (typeof evt.data === 'string' && evt.data.slice(0, 21) == \"data:image/png;base64\") {\n",
       "            fig.imageObj.src = evt.data;\n",
       "            fig.updated_canvas_event();\n",
       "            fig.waiting = false;\n",
       "            return;\n",
       "        }\n",
       "\n",
       "        var msg = JSON.parse(evt.data);\n",
       "        var msg_type = msg['type'];\n",
       "\n",
       "        // Call the  \"handle_{type}\" callback, which takes\n",
       "        // the figure and JSON message as its only arguments.\n",
       "        try {\n",
       "            var callback = fig[\"handle_\" + msg_type];\n",
       "        } catch (e) {\n",
       "            console.log(\"No handler for the '\" + msg_type + \"' message type: \", msg);\n",
       "            return;\n",
       "        }\n",
       "\n",
       "        if (callback) {\n",
       "            try {\n",
       "                // console.log(\"Handling '\" + msg_type + \"' message: \", msg);\n",
       "                callback(fig, msg);\n",
       "            } catch (e) {\n",
       "                console.log(\"Exception inside the 'handler_\" + msg_type + \"' callback:\", e, e.stack, msg);\n",
       "            }\n",
       "        }\n",
       "    };\n",
       "}\n",
       "\n",
       "// from http://stackoverflow.com/questions/1114465/getting-mouse-location-in-canvas\n",
       "mpl.findpos = function(e) {\n",
       "    //this section is from http://www.quirksmode.org/js/events_properties.html\n",
       "    var targ;\n",
       "    if (!e)\n",
       "        e = window.event;\n",
       "    if (e.target)\n",
       "        targ = e.target;\n",
       "    else if (e.srcElement)\n",
       "        targ = e.srcElement;\n",
       "    if (targ.nodeType == 3) // defeat Safari bug\n",
       "        targ = targ.parentNode;\n",
       "\n",
       "    // jQuery normalizes the pageX and pageY\n",
       "    // pageX,Y are the mouse positions relative to the document\n",
       "    // offset() returns the position of the element relative to the document\n",
       "    var x = e.pageX - $(targ).offset().left;\n",
       "    var y = e.pageY - $(targ).offset().top;\n",
       "\n",
       "    return {\"x\": x, \"y\": y};\n",
       "};\n",
       "\n",
       "/*\n",
       " * return a copy of an object with only non-object keys\n",
       " * we need this to avoid circular references\n",
       " * http://stackoverflow.com/a/24161582/3208463\n",
       " */\n",
       "function simpleKeys (original) {\n",
       "  return Object.keys(original).reduce(function (obj, key) {\n",
       "    if (typeof original[key] !== 'object')\n",
       "        obj[key] = original[key]\n",
       "    return obj;\n",
       "  }, {});\n",
       "}\n",
       "\n",
       "mpl.figure.prototype.mouse_event = function(event, name) {\n",
       "    var canvas_pos = mpl.findpos(event)\n",
       "\n",
       "    if (name === 'button_press')\n",
       "    {\n",
       "        this.canvas.focus();\n",
       "        this.canvas_div.focus();\n",
       "    }\n",
       "\n",
       "    var x = canvas_pos.x * mpl.ratio;\n",
       "    var y = canvas_pos.y * mpl.ratio;\n",
       "\n",
       "    this.send_message(name, {x: x, y: y, button: event.button,\n",
       "                             step: event.step,\n",
       "                             guiEvent: simpleKeys(event)});\n",
       "\n",
       "    /* This prevents the web browser from automatically changing to\n",
       "     * the text insertion cursor when the button is pressed.  We want\n",
       "     * to control all of the cursor setting manually through the\n",
       "     * 'cursor' event from matplotlib */\n",
       "    event.preventDefault();\n",
       "    return false;\n",
       "}\n",
       "\n",
       "mpl.figure.prototype._key_event_extra = function(event, name) {\n",
       "    // Handle any extra behaviour associated with a key event\n",
       "}\n",
       "\n",
       "mpl.figure.prototype.key_event = function(event, name) {\n",
       "\n",
       "    // Prevent repeat events\n",
       "    if (name == 'key_press')\n",
       "    {\n",
       "        if (event.which === this._key)\n",
       "            return;\n",
       "        else\n",
       "            this._key = event.which;\n",
       "    }\n",
       "    if (name == 'key_release')\n",
       "        this._key = null;\n",
       "\n",
       "    var value = '';\n",
       "    if (event.ctrlKey && event.which != 17)\n",
       "        value += \"ctrl+\";\n",
       "    if (event.altKey && event.which != 18)\n",
       "        value += \"alt+\";\n",
       "    if (event.shiftKey && event.which != 16)\n",
       "        value += \"shift+\";\n",
       "\n",
       "    value += 'k';\n",
       "    value += event.which.toString();\n",
       "\n",
       "    this._key_event_extra(event, name);\n",
       "\n",
       "    this.send_message(name, {key: value,\n",
       "                             guiEvent: simpleKeys(event)});\n",
       "    return false;\n",
       "}\n",
       "\n",
       "mpl.figure.prototype.toolbar_button_onclick = function(name) {\n",
       "    if (name == 'download') {\n",
       "        this.handle_save(this, null);\n",
       "    } else {\n",
       "        this.send_message(\"toolbar_button\", {name: name});\n",
       "    }\n",
       "};\n",
       "\n",
       "mpl.figure.prototype.toolbar_button_onmouseover = function(tooltip) {\n",
       "    this.message.textContent = tooltip;\n",
       "};\n",
       "mpl.toolbar_items = [[\"Home\", \"Reset original view\", \"fa fa-home icon-home\", \"home\"], [\"Back\", \"Back to previous view\", \"fa fa-arrow-left icon-arrow-left\", \"back\"], [\"Forward\", \"Forward to next view\", \"fa fa-arrow-right icon-arrow-right\", \"forward\"], [\"\", \"\", \"\", \"\"], [\"Pan\", \"Pan axes with left mouse, zoom with right\", \"fa fa-arrows icon-move\", \"pan\"], [\"Zoom\", \"Zoom to rectangle\", \"fa fa-square-o icon-check-empty\", \"zoom\"], [\"\", \"\", \"\", \"\"], [\"Download\", \"Download plot\", \"fa fa-floppy-o icon-save\", \"download\"]];\n",
       "\n",
       "mpl.extensions = [\"eps\", \"pdf\", \"png\", \"ps\", \"raw\", \"svg\"];\n",
       "\n",
       "mpl.default_extension = \"png\";var comm_websocket_adapter = function(comm) {\n",
       "    // Create a \"websocket\"-like object which calls the given IPython comm\n",
       "    // object with the appropriate methods. Currently this is a non binary\n",
       "    // socket, so there is still some room for performance tuning.\n",
       "    var ws = {};\n",
       "\n",
       "    ws.close = function() {\n",
       "        comm.close()\n",
       "    };\n",
       "    ws.send = function(m) {\n",
       "        //console.log('sending', m);\n",
       "        comm.send(m);\n",
       "    };\n",
       "    // Register the callback with on_msg.\n",
       "    comm.on_msg(function(msg) {\n",
       "        //console.log('receiving', msg['content']['data'], msg);\n",
       "        // Pass the mpl event to the overridden (by mpl) onmessage function.\n",
       "        ws.onmessage(msg['content']['data'])\n",
       "    });\n",
       "    return ws;\n",
       "}\n",
       "\n",
       "mpl.mpl_figure_comm = function(comm, msg) {\n",
       "    // This is the function which gets called when the mpl process\n",
       "    // starts-up an IPython Comm through the \"matplotlib\" channel.\n",
       "\n",
       "    var id = msg.content.data.id;\n",
       "    // Get hold of the div created by the display call when the Comm\n",
       "    // socket was opened in Python.\n",
       "    var element = $(\"#\" + id);\n",
       "    var ws_proxy = comm_websocket_adapter(comm)\n",
       "\n",
       "    function ondownload(figure, format) {\n",
       "        window.open(figure.imageObj.src);\n",
       "    }\n",
       "\n",
       "    var fig = new mpl.figure(id, ws_proxy,\n",
       "                           ondownload,\n",
       "                           element.get(0));\n",
       "\n",
       "    // Call onopen now - mpl needs it, as it is assuming we've passed it a real\n",
       "    // web socket which is closed, not our websocket->open comm proxy.\n",
       "    ws_proxy.onopen();\n",
       "\n",
       "    fig.parent_element = element.get(0);\n",
       "    fig.cell_info = mpl.find_output_cell(\"<div id='\" + id + \"'></div>\");\n",
       "    if (!fig.cell_info) {\n",
       "        console.error(\"Failed to find cell for figure\", id, fig);\n",
       "        return;\n",
       "    }\n",
       "\n",
       "    var output_index = fig.cell_info[2]\n",
       "    var cell = fig.cell_info[0];\n",
       "\n",
       "};\n",
       "\n",
       "mpl.figure.prototype.handle_close = function(fig, msg) {\n",
       "    var width = fig.canvas.width/mpl.ratio\n",
       "    fig.root.unbind('remove')\n",
       "\n",
       "    // Update the output cell to use the data from the current canvas.\n",
       "    fig.push_to_output();\n",
       "    var dataURL = fig.canvas.toDataURL();\n",
       "    // Re-enable the keyboard manager in IPython - without this line, in FF,\n",
       "    // the notebook keyboard shortcuts fail.\n",
       "    IPython.keyboard_manager.enable()\n",
       "    $(fig.parent_element).html('<img src=\"' + dataURL + '\" width=\"' + width + '\">');\n",
       "    fig.close_ws(fig, msg);\n",
       "}\n",
       "\n",
       "mpl.figure.prototype.close_ws = function(fig, msg){\n",
       "    fig.send_message('closing', msg);\n",
       "    // fig.ws.close()\n",
       "}\n",
       "\n",
       "mpl.figure.prototype.push_to_output = function(remove_interactive) {\n",
       "    // Turn the data on the canvas into data in the output cell.\n",
       "    var width = this.canvas.width/mpl.ratio\n",
       "    var dataURL = this.canvas.toDataURL();\n",
       "    this.cell_info[1]['text/html'] = '<img src=\"' + dataURL + '\" width=\"' + width + '\">';\n",
       "}\n",
       "\n",
       "mpl.figure.prototype.updated_canvas_event = function() {\n",
       "    // Tell IPython that the notebook contents must change.\n",
       "    IPython.notebook.set_dirty(true);\n",
       "    this.send_message(\"ack\", {});\n",
       "    var fig = this;\n",
       "    // Wait a second, then push the new image to the DOM so\n",
       "    // that it is saved nicely (might be nice to debounce this).\n",
       "    setTimeout(function () { fig.push_to_output() }, 1000);\n",
       "}\n",
       "\n",
       "mpl.figure.prototype._init_toolbar = function() {\n",
       "    var fig = this;\n",
       "\n",
       "    var nav_element = $('<div/>')\n",
       "    nav_element.attr('style', 'width: 100%');\n",
       "    this.root.append(nav_element);\n",
       "\n",
       "    // Define a callback function for later on.\n",
       "    function toolbar_event(event) {\n",
       "        return fig.toolbar_button_onclick(event['data']);\n",
       "    }\n",
       "    function toolbar_mouse_event(event) {\n",
       "        return fig.toolbar_button_onmouseover(event['data']);\n",
       "    }\n",
       "\n",
       "    for(var toolbar_ind in mpl.toolbar_items){\n",
       "        var name = mpl.toolbar_items[toolbar_ind][0];\n",
       "        var tooltip = mpl.toolbar_items[toolbar_ind][1];\n",
       "        var image = mpl.toolbar_items[toolbar_ind][2];\n",
       "        var method_name = mpl.toolbar_items[toolbar_ind][3];\n",
       "\n",
       "        if (!name) { continue; };\n",
       "\n",
       "        var button = $('<button class=\"btn btn-default\" href=\"#\" title=\"' + name + '\"><i class=\"fa ' + image + ' fa-lg\"></i></button>');\n",
       "        button.click(method_name, toolbar_event);\n",
       "        button.mouseover(tooltip, toolbar_mouse_event);\n",
       "        nav_element.append(button);\n",
       "    }\n",
       "\n",
       "    // Add the status bar.\n",
       "    var status_bar = $('<span class=\"mpl-message\" style=\"text-align:right; float: right;\"/>');\n",
       "    nav_element.append(status_bar);\n",
       "    this.message = status_bar[0];\n",
       "\n",
       "    // Add the close button to the window.\n",
       "    var buttongrp = $('<div class=\"btn-group inline pull-right\"></div>');\n",
       "    var button = $('<button class=\"btn btn-mini btn-primary\" href=\"#\" title=\"Stop Interaction\"><i class=\"fa fa-power-off icon-remove icon-large\"></i></button>');\n",
       "    button.click(function (evt) { fig.handle_close(fig, {}); } );\n",
       "    button.mouseover('Stop Interaction', toolbar_mouse_event);\n",
       "    buttongrp.append(button);\n",
       "    var titlebar = this.root.find($('.ui-dialog-titlebar'));\n",
       "    titlebar.prepend(buttongrp);\n",
       "}\n",
       "\n",
       "mpl.figure.prototype._root_extra_style = function(el){\n",
       "    var fig = this\n",
       "    el.on(\"remove\", function(){\n",
       "\tfig.close_ws(fig, {});\n",
       "    });\n",
       "}\n",
       "\n",
       "mpl.figure.prototype._canvas_extra_style = function(el){\n",
       "    // this is important to make the div 'focusable\n",
       "    el.attr('tabindex', 0)\n",
       "    // reach out to IPython and tell the keyboard manager to turn it's self\n",
       "    // off when our div gets focus\n",
       "\n",
       "    // location in version 3\n",
       "    if (IPython.notebook.keyboard_manager) {\n",
       "        IPython.notebook.keyboard_manager.register_events(el);\n",
       "    }\n",
       "    else {\n",
       "        // location in version 2\n",
       "        IPython.keyboard_manager.register_events(el);\n",
       "    }\n",
       "\n",
       "}\n",
       "\n",
       "mpl.figure.prototype._key_event_extra = function(event, name) {\n",
       "    var manager = IPython.notebook.keyboard_manager;\n",
       "    if (!manager)\n",
       "        manager = IPython.keyboard_manager;\n",
       "\n",
       "    // Check for shift+enter\n",
       "    if (event.shiftKey && event.which == 13) {\n",
       "        this.canvas_div.blur();\n",
       "        event.shiftKey = false;\n",
       "        // Send a \"J\" for go to next cell\n",
       "        event.which = 74;\n",
       "        event.keyCode = 74;\n",
       "        manager.command_mode();\n",
       "        manager.handle_keydown(event);\n",
       "    }\n",
       "}\n",
       "\n",
       "mpl.figure.prototype.handle_save = function(fig, msg) {\n",
       "    fig.ondownload(fig, null);\n",
       "}\n",
       "\n",
       "\n",
       "mpl.find_output_cell = function(html_output) {\n",
       "    // Return the cell and output element which can be found *uniquely* in the notebook.\n",
       "    // Note - this is a bit hacky, but it is done because the \"notebook_saving.Notebook\"\n",
       "    // IPython event is triggered only after the cells have been serialised, which for\n",
       "    // our purposes (turning an active figure into a static one), is too late.\n",
       "    var cells = IPython.notebook.get_cells();\n",
       "    var ncells = cells.length;\n",
       "    for (var i=0; i<ncells; i++) {\n",
       "        var cell = cells[i];\n",
       "        if (cell.cell_type === 'code'){\n",
       "            for (var j=0; j<cell.output_area.outputs.length; j++) {\n",
       "                var data = cell.output_area.outputs[j];\n",
       "                if (data.data) {\n",
       "                    // IPython >= 3 moved mimebundle to data attribute of output\n",
       "                    data = data.data;\n",
       "                }\n",
       "                if (data['text/html'] == html_output) {\n",
       "                    return [cell, data, j];\n",
       "                }\n",
       "            }\n",
       "        }\n",
       "    }\n",
       "}\n",
       "\n",
       "// Register the function which deals with the matplotlib target/channel.\n",
       "// The kernel may be null if the page has been refreshed.\n",
       "if (IPython.notebook.kernel != null) {\n",
       "    IPython.notebook.kernel.comm_manager.register_target('matplotlib', mpl.mpl_figure_comm);\n",
       "}\n"
      ],
      "text/plain": [
       "<IPython.core.display.Javascript object>"
      ]
     },
     "metadata": {},
     "output_type": "display_data"
    },
    {
     "data": {
      "text/html": [
       "<img src=\"data:image/png;base64,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\" width=\"639.8333333333334\">"
      ],
      "text/plain": [
       "<IPython.core.display.HTML object>"
      ]
     },
     "metadata": {},
     "output_type": "display_data"
    }
   ],
   "source": [
    "_ = inv.spend.plot.hist(logy=True, logx=True, bins=500, \n",
    "                        title='£ spent, each invoice', \n",
    "                        color='k', alpha=0.5, grid=True)"
   ]
  },
  {
   "cell_type": "markdown",
   "metadata": {
    "slideshow": {
     "slide_type": "slide"
    }
   },
   "source": [
    "### How could we make money from this data?"
   ]
  },
  {
   "cell_type": "markdown",
   "metadata": {
    "slideshow": {
     "slide_type": "fragment"
    }
   },
   "source": [
    " * relate to prices on markets"
   ]
  },
  {
   "cell_type": "markdown",
   "metadata": {
    "slideshow": {
     "slide_type": "fragment"
    }
   },
   "source": [
    " * figure out when/where/how/why products are being bought"
   ]
  },
  {
   "cell_type": "markdown",
   "metadata": {
    "slideshow": {
     "slide_type": "fragment"
    }
   },
   "source": [
    " * anticipate government or other official statistics\n",
    " \n",
    " * ..."
   ]
  },
  {
   "cell_type": "markdown",
   "metadata": {
    "slideshow": {
     "slide_type": "slide"
    }
   },
   "source": [
    "### What new possibilities does this data open up for us?"
   ]
  },
  {
   "cell_type": "markdown",
   "metadata": {
    "slideshow": {
     "slide_type": "-"
    }
   },
   "source": [
    "* Regressors -> numerous\n",
    "* Datapoints -> very numerous\n",
    "* (have to clean … a lot)\n",
    "* Computers -> faster"
   ]
  },
  {
   "cell_type": "markdown",
   "metadata": {
    "slideshow": {
     "slide_type": "slide"
    }
   },
   "source": [
    "### Techniques covered in this course:\n",
    "\n",
    "Jeremy Large:\n",
    " * Resampling methods\n",
    "   * Cross-validation\n",
    "   * Bootstrap\n",
    " * Flexible regression\n",
    "   * Non-linear regression\n",
    "     * Generalized additive model\n",
    "     * Projection pursuit\n",
    "     * Single layer Neural Net Perceptron\n",
    "   * Step functions in regression\n",
    "     * Step function\n",
    "     * Decision tree\n",
    "     * Bagging\n",
    "     * Random forest\n",
    "     * Boosting\n",
    "\n",
    "Matthias Qian:\n",
    " * Neural Net\n",
    " * Recursive Neural Net\n",
    " * ... tbc ..."
   ]
  },
  {
   "cell_type": "markdown",
   "metadata": {},
   "source": [
    "### Important techniques not covered in this course:\n",
    "\n",
    " * Predictor selection (Ridge regression / LASSO(Lars) / PCR / Resampling & brute force)\n",
    " \n",
    " * Classification"
   ]
  },
  {
   "cell_type": "markdown",
   "metadata": {
    "slideshow": {
     "slide_type": "slide"
    }
   },
   "source": [
    "### Comments:"
   ]
  },
  {
   "cell_type": "markdown",
   "metadata": {
    "slideshow": {
     "slide_type": "-"
    }
   },
   "source": [
    " * Burning Glass will be our dataset throughout this course\n",
    " \n",
    "   * we will provide access to the data as follows ..."
   ]
  }
 ],
 "metadata": {
  "celltoolbar": "Slideshow",
  "kernelspec": {
   "display_name": "Python 3",
   "language": "python",
   "name": "python3"
  },
  "language_info": {
   "codemirror_mode": {
    "name": "ipython",
    "version": 3
   },
   "file_extension": ".py",
   "mimetype": "text/x-python",
   "name": "python",
   "nbconvert_exporter": "python",
   "pygments_lexer": "ipython3",
   "version": "3.6.1"
  }
 },
 "nbformat": 4,
 "nbformat_minor": 2
}
